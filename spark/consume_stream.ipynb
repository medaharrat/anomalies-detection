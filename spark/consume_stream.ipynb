{
 "cells": [
  {
   "cell_type": "code",
   "execution_count": 4,
   "id": "6c64e09c",
   "metadata": {},
   "outputs": [
    {
     "name": "stdout",
     "output_type": "stream",
     "text": [
      "Requirement already satisfied: influxdb-client in c:\\users\\laksh\\appdata\\local\\programs\\python\\python39\\lib\\site-packages (1.24.0)\n",
      "Requirement already satisfied: rx>=3.0.1 in c:\\users\\laksh\\appdata\\local\\programs\\python\\python39\\lib\\site-packages (from influxdb-client) (3.2.0)\n",
      "Requirement already satisfied: pytz>=2019.1 in c:\\users\\laksh\\appdata\\local\\programs\\python\\python39\\lib\\site-packages (from influxdb-client) (2021.1)\n",
      "Requirement already satisfied: certifi>=14.05.14 in c:\\users\\laksh\\appdata\\roaming\\python\\python39\\site-packages (from influxdb-client) (2021.5.30)\n",
      "Requirement already satisfied: setuptools>=21.0.0 in c:\\users\\laksh\\appdata\\local\\programs\\python\\python39\\lib\\site-packages (from influxdb-client) (58.3.0)\n",
      "Requirement already satisfied: six>=1.10 in c:\\users\\laksh\\appdata\\local\\programs\\python\\python39\\lib\\site-packages (from influxdb-client) (1.16.0)\n",
      "Requirement already satisfied: python-dateutil>=2.5.3 in c:\\users\\laksh\\appdata\\local\\programs\\python\\python39\\lib\\site-packages (from influxdb-client) (2.8.2)\n",
      "Requirement already satisfied: urllib3>=1.15.1 in c:\\users\\laksh\\appdata\\roaming\\python\\python39\\site-packages (from influxdb-client) (1.26.7)\n",
      "Collecting pyspark\n",
      "  Using cached pyspark-3.2.0.tar.gz (281.3 MB)\n",
      "  Preparing metadata (setup.py): started\n",
      "  Preparing metadata (setup.py): finished with status 'done'\n",
      "Requirement already satisfied: py4j==0.10.9.2 in c:\\users\\laksh\\appdata\\local\\programs\\python\\python39\\lib\\site-packages (from pyspark) (0.10.9.2)\n",
      "Using legacy 'setup.py install' for pyspark, since package 'wheel' is not installed.\n",
      "Installing collected packages: pyspark\n",
      "    Running setup.py install for pyspark: started\n",
      "    Running setup.py install for pyspark: still running...\n",
      "    Running setup.py install for pyspark: finished with status 'done'\n",
      "Successfully installed pyspark-3.2.0\n"
     ]
    }
   ],
   "source": [
    "!pip install influxdb-client\n"
   ]
  },
  {
   "cell_type": "code",
   "execution_count": 7,
   "id": "19d20c31",
   "metadata": {},
   "outputs": [
    {
     "name": "stdout",
     "output_type": "stream",
     "text": [
      "Requirement already satisfied: pyspark in c:\\users\\laksh\\appdata\\local\\programs\\python\\python39\\lib\\site-packages (3.2.0)\n",
      "Requirement already satisfied: py4j==0.10.9.2 in c:\\users\\laksh\\appdata\\local\\programs\\python\\python39\\lib\\site-packages (from pyspark) (0.10.9.2)\n"
     ]
    }
   ],
   "source": [
    "!pip install pyspark"
   ]
  },
  {
   "cell_type": "code",
   "execution_count": 8,
   "id": "7eb966d4",
   "metadata": {},
   "outputs": [],
   "source": [
    "from pyspark import SparkConf, SparkContext\n",
    "from pyspark.sql import SparkSession\n",
    "from pyspark.sql.functions import *\n",
    "from pyspark.sql.types import *\n",
    "\n",
    "from influxdb_client import InfluxDBClient, Point, WritePrecision\n",
    "from influxdb_client.client.write_api import SYNCHRONOUS\n",
    "\n",
    "import os\n",
    "import json\n",
    "\n",
    "os.environ['PYSPARK_SUBMIT_ARGS'] = '--packages org.apache.spark:spark-sql-kafka-0-10_2.12:3.2.0 pyspark-shell'"
   ]
  },
  {
   "cell_type": "code",
   "execution_count": null,
   "id": "166cd91b",
   "metadata": {},
   "outputs": [],
   "source": [
    "spark = SparkSession.builder.master('local[*]').getOrCreate()\n",
    "spark.sparkContext.setLogLevel('ERROR')"
   ]
  },
  {
   "cell_type": "code",
   "execution_count": null,
   "id": "359e6f29",
   "metadata": {},
   "outputs": [],
   "source": [
    "from pyspark.sql import *\n",
    "\n",
    "class InfluxDBWriter:\n",
    "    def __init__(self):\n",
    "        cloud_url = \"https://westeurope-1.azure.cloud2.influxdata.com\"\n",
    "        token = \"iJHZR-dq4I5LIgFZCc5jTUNx-I7dyz29ZTO-B4W5DpU4mhPVDFg-aAb2jK4Vz1C6n0DDb6ddA-bJ3EZAanAOUw==\"\n",
    "        org = \"ahr9oi@inf.elte.hu\"\n",
    "        self.bucket = \"ahr9oi's Bucket\"\n",
    "        \n",
    "        self.client = InfluxDBClient(url=cloud_url, token=token, org=org)\n",
    "        self.write_api = self.client.write_api()\n",
    "\n",
    "    def open(self, partition_id, epoch_id):\n",
    "        print(\"Opened %d, %d\" % (partition_id, epoch_id))\n",
    "        return True\n",
    "\n",
    "    def process(self, row):\n",
    "        self._row_to_line_protocol(row)\n",
    "        #self.write_api.write(bucket=self.bucket, record=self._row_to_line_protocol(row))\n",
    "\n",
    "    def close(self, error):\n",
    "        self.write_api.__del__()\n",
    "        self.client.__del__()\n",
    "        print(\"Closed with error: %s\" % str(error))\n",
    "\n",
    "    def _row_to_line_protocol(self, row: Row):\n",
    "        # TODO map Row to LineProtocol\n",
    "        row.show()"
   ]
  },
  {
   "cell_type": "code",
   "execution_count": null,
   "id": "90d57ad4",
   "metadata": {},
   "outputs": [],
   "source": []
  }
 ],
 "metadata": {
  "kernelspec": {
   "display_name": "Python 3 (ipykernel)",
   "language": "python",
   "name": "python3"
  },
  "language_info": {
   "codemirror_mode": {
    "name": "ipython",
    "version": 3
   },
   "file_extension": ".py",
   "mimetype": "text/x-python",
   "name": "python",
   "nbconvert_exporter": "python",
   "pygments_lexer": "ipython3",
   "version": "3.9.7"
  }
 },
 "nbformat": 4,
 "nbformat_minor": 5
}
