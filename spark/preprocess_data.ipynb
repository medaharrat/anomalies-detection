{
 "cells": [
  {
   "cell_type": "markdown",
   "metadata": {
    "id": "kNxUeuP1e25N"
   },
   "source": [
    "# **Secure Water Treatment dataset preprocessing and EDA**\n",
    "* The project task is to visualize summaries of the data stream(s) and develop an ML model to detect anomalies in the data set.\n",
    "* In this project work we will use SWaT.A3_Jun 2017 . It is 136 hours of network traffic , historian data from continuously running SWaT and the data collected for 6 days "
   ]
  },
  {
   "cell_type": "code",
   "execution_count": 55,
   "metadata": {},
   "outputs": [
    {
     "name": "stdout",
     "output_type": "stream",
     "text": [
      "Requirement already satisfied: openpyxl in /opt/conda/lib/python3.9/site-packages (3.0.9)\r\n",
      "Requirement already satisfied: et-xmlfile in /opt/conda/lib/python3.9/site-packages (from openpyxl) (1.1.0)\r\n"
     ]
    }
   ],
   "source": [
    "!pip install openpyxl"
   ]
  },
  {
   "cell_type": "code",
   "execution_count": 60,
   "metadata": {
    "id": "Ozm-IwopRUrq"
   },
   "outputs": [],
   "source": [
    "import os, time, datetime, io, csv\n",
    "import pandas as pd\n",
    "import numpy as np\n",
    "import matplotlib.pyplot as plt\n",
    "import seaborn as sns"
   ]
  },
  {
   "cell_type": "markdown",
   "metadata": {
    "id": "3KhCq_-BRg4z"
   },
   "source": [
    "# Loading the dataset"
   ]
  },
  {
   "cell_type": "markdown",
   "metadata": {
    "id": "RuiZh5-We7Ch"
   },
   "source": [
    "## GDrive"
   ]
  },
  {
   "cell_type": "code",
   "execution_count": null,
   "metadata": {
    "colab": {
     "base_uri": "https://localhost:8080/"
    },
    "id": "JIiI0njxe7Ci",
    "outputId": "e8bf8d9e-4114-425b-fcee-a1db5d8d60dd"
   },
   "outputs": [
    {
     "name": "stdout",
     "output_type": "stream",
     "text": [
      "Mounted at /content/drive\n"
     ]
    }
   ],
   "source": [
    "# Mount Google Drive\n",
    "from google.colab import drive\n",
    "drive.mount('/content/drive')"
   ]
  },
  {
   "cell_type": "code",
   "execution_count": null,
   "metadata": {
    "colab": {
     "base_uri": "https://localhost:8080/"
    },
    "id": "ZRS-HPuHe7Ci",
    "outputId": "ab88337c-3be2-4a22-f26a-58a42f1c0c46"
   },
   "outputs": [
    {
     "name": "stdout",
     "output_type": "stream",
     "text": [
      "\n",
      "UNRAR 5.50 freeware      Copyright (c) 1993-2017 Alexander Roshal\n",
      "\n",
      "\n",
      "Extracting from /content/drive/My Drive/Datasets/SWaT.A3_2017 HistorianData-20201221T203431Z-001.rar\n",
      "\n",
      "Creating    /content/drive/My Drive/Datasets/SWaT.A3_2017 HistorianData-20201221T203431Z-001  OK\n",
      "Creating    /content/drive/My Drive/Datasets/SWaT.A3_2017 HistorianData-20201221T203431Z-001/HistorianData  OK\n",
      "Extracting  /content/drive/My Drive/Datasets/SWaT.A3_2017 HistorianData-20201221T203431Z-001/HistorianData/All.xlsx     \b\b\b\b  0%\b\b\b\b  1%\b\b\b\b  2%\b\b\b\b  3%\b\b\b\b  4%\b\b\b\b  5%\b\b\b\b  6%\b\b\b\b  7%\b\b\b\b  8%\b\b\b\b  9%\b\b\b\b 10%\b\b\b\b 11%\b\b\b\b 12%\b\b\b\b 13%\b\b\b\b 14%\b\b\b\b 15%\b\b\b\b 16%\b\b\b\b 17%\b\b\b\b 18%\b\b\b\b 19%\b\b\b\b 20%\b\b\b\b 21%\b\b\b\b 22%\b\b\b\b 23%\b\b\b\b 24%\b\b\b\b 25%\b\b\b\b 26%\b\b\b\b 27%\b\b\b\b 28%\b\b\b\b 29%\b\b\b\b 30%\b\b\b\b 31%\b\b\b\b 32%\b\b\b\b 33%\b\b\b\b 34%\b\b\b\b 35%\b\b\b\b 36%\b\b\b\b 37%\b\b\b\b 38%\b\b\b\b 39%\b\b\b\b 40%\b\b\b\b 41%\b\b\b\b 42%\b\b\b\b 43%\b\b\b\b 44%\b\b\b\b 45%\b\b\b\b 46%\b\b\b\b 47%\b\b\b\b 48%\b\b\b\b 49%\b\b\b\b 50%\b\b\b\b 51%\b\b\b\b 52%\b\b\b\b 53%\b\b\b\b 54%\b\b\b\b 55%\b\b\b\b 56%\b\b\b\b 57%\b\b\b\b 58%\b\b\b\b 59%\b\b\b\b 60%\b\b\b\b 61%\b\b\b\b 62%\b\b\b\b 63%\b\b\b\b 64%\b\b\b\b 65%\b\b\b\b 66%\b\b\b\b 67%\b\b\b\b 68%\b\b\b\b 69%\b\b\b\b 70%\b\b\b\b\b  OK \n",
      "Extracting  /content/drive/My Drive/Datasets/SWaT.A3_2017 HistorianData-20201221T203431Z-001/HistorianData/DataNew13-14.csv     \b\b\b\b 71%\b\b\b\b 72%\b\b\b\b\b  OK \n",
      "Extracting  /content/drive/My Drive/Datasets/SWaT.A3_2017 HistorianData-20201221T203431Z-001/HistorianData/DataNew13-14.png     \b\b\b\b 73%\b\b\b\b 74%\b\b\b\b\b  OK \n",
      "Extracting  /content/drive/My Drive/Datasets/SWaT.A3_2017 HistorianData-20201221T203431Z-001/HistorianData/DataNew14-15.csv     \b\b\b\b 75%\b\b\b\b 76%\b\b\b\b\b  OK \n",
      "Extracting  /content/drive/My Drive/Datasets/SWaT.A3_2017 HistorianData-20201221T203431Z-001/HistorianData/DataNew14-15.png     \b\b\b\b 77%\b\b\b\b 78%\b\b\b\b 79%\b\b\b\b\b  OK \n",
      "Extracting  /content/drive/My Drive/Datasets/SWaT.A3_2017 HistorianData-20201221T203431Z-001/HistorianData/DataNew15-16.csv     \b\b\b\b 79%\b\b\b\b 80%\b\b\b\b 81%\b\b\b\b\b  OK \n",
      "Extracting  /content/drive/My Drive/Datasets/SWaT.A3_2017 HistorianData-20201221T203431Z-001/HistorianData/DataNew15-16.png     \b\b\b\b 82%\b\b\b\b 83%\b\b\b\b 84%\b\b\b\b\b  OK \n",
      "Extracting  /content/drive/My Drive/Datasets/SWaT.A3_2017 HistorianData-20201221T203431Z-001/HistorianData/DataNew16-17.csv     \b\b\b\b 85%\b\b\b\b 86%\b\b\b\b 87%\b\b\b\b\b  OK \n",
      "Extracting  /content/drive/My Drive/Datasets/SWaT.A3_2017 HistorianData-20201221T203431Z-001/HistorianData/DataNew16-17.png     \b\b\b\b 87%\b\b\b\b 88%\b\b\b\b 89%\b\b\b\b\b  OK \n",
      "Extracting  /content/drive/My Drive/Datasets/SWaT.A3_2017 HistorianData-20201221T203431Z-001/HistorianData/DataNew17-18.csv     \b\b\b\b 90%\b\b\b\b 91%\b\b\b\b 92%\b\b\b\b\b  OK \n",
      "Extracting  /content/drive/My Drive/Datasets/SWaT.A3_2017 HistorianData-20201221T203431Z-001/HistorianData/DataNew17-18.png     \b\b\b\b 93%\b\b\b\b 94%\b\b\b\b\b  OK \n",
      "Extracting  /content/drive/My Drive/Datasets/SWaT.A3_2017 HistorianData-20201221T203431Z-001/HistorianData/DataNew18-19.csv     \b\b\b\b 95%\b\b\b\b 96%\b\b\b\b 97%\b\b\b\b\b  OK \n",
      "Extracting  /content/drive/My Drive/Datasets/SWaT.A3_2017 HistorianData-20201221T203431Z-001/HistorianData/DataNew18-19.png     \b\b\b\b 98%\b\b\b\b 99%\b\b\b\b\b  OK \n",
      "All OK\n"
     ]
    }
   ],
   "source": [
    "# Load from GDrive\n",
    "ROOT_PATH = '/content/drive/My Drive/Datasets'\n",
    "RAR_PATH  = os.path.join(ROOT_PATH, 'SWaT.A3_2017 HistorianData-20201221T203431Z-001')\n",
    "FILE_PATH = os.path.abspath(f\"{ROOT_PATH}/SWaT_A3/All.xlsx\")\n",
    "\n",
    "!unrar x -Y \"{RAR_PATH}.rar\" \"{ROOT_PATH}\""
   ]
  },
  {
   "cell_type": "code",
   "execution_count": null,
   "metadata": {
    "colab": {
     "base_uri": "https://localhost:8080/"
    },
    "id": "ipYbYKZfe7Cj",
    "outputId": "fe462d2b-95ce-46af-a1f6-28d4ea969bba"
   },
   "outputs": [
    {
     "name": "stdout",
     "output_type": "stream",
     "text": [
      "Moving the file to /content/drive/My Drive/Datasets/SWaT_A3 ...\n",
      "mkdir: cannot create directory ‘/content/drive/My Drive/Datasets/SWaT_A3’: File exists\n",
      "> Done\n"
     ]
    }
   ],
   "source": [
    "print(f\"Moving the file to {ROOT_PATH}/SWaT_A3 ...\")\n",
    "try:\n",
    "  !mkdir \"{ROOT_PATH}/SWaT_A3\"\n",
    "  !mv \"{RAR_PATH}/HistorianData/All.xlsx\" \"{ROOT_PATH}/SWaT_A3\"\n",
    "  !rm -rf \"{RAR_PATH}\"\n",
    "except:\n",
    "  print(\"x_x Something went wrong!\")\n",
    "finally:\n",
    "  print(\"> Done\")"
   ]
  },
  {
   "cell_type": "markdown",
   "metadata": {},
   "source": [
    "## Local copy"
   ]
  },
  {
   "cell_type": "code",
   "execution_count": 57,
   "metadata": {},
   "outputs": [],
   "source": [
    "LOCAL_PATH = './data/All.xlsx'"
   ]
  },
  {
   "cell_type": "markdown",
   "metadata": {
    "id": "znnKhLKdWN_Q"
   },
   "source": [
    "## Load"
   ]
  },
  {
   "cell_type": "code",
   "execution_count": 61,
   "metadata": {
    "colab": {
     "base_uri": "https://localhost:8080/"
    },
    "id": "U_a5Hw6aUKPq",
    "outputId": "5af0110e-9353-488b-e826-057378c46462"
   },
   "outputs": [
    {
     "data": {
      "text/html": [
       "<div>\n",
       "<style scoped>\n",
       "    .dataframe tbody tr th:only-of-type {\n",
       "        vertical-align: middle;\n",
       "    }\n",
       "\n",
       "    .dataframe tbody tr th {\n",
       "        vertical-align: top;\n",
       "    }\n",
       "\n",
       "    .dataframe thead th {\n",
       "        text-align: right;\n",
       "    }\n",
       "</style>\n",
       "<table border=\"1\" class=\"dataframe\">\n",
       "  <thead>\n",
       "    <tr style=\"text-align: right;\">\n",
       "      <th></th>\n",
       "      <th>Time</th>\n",
       "      <th>SWAT_SUTD:RSLinx Enterprise:P1.HMI_FIT101.Pv</th>\n",
       "      <th>SWAT_SUTD:RSLinx Enterprise:P1.HMI_LIT101.Pv</th>\n",
       "      <th>SWAT_SUTD:RSLinx Enterprise:P2.HMI_AIT201.Pv</th>\n",
       "      <th>SWAT_SUTD:RSLinx Enterprise:P2.HMI_AIT202.Pv</th>\n",
       "      <th>SWAT_SUTD:RSLinx Enterprise:P2.HMI_AIT203.Pv</th>\n",
       "      <th>SWAT_SUTD:RSLinx Enterprise:P2.HMI_FIT201.Pv</th>\n",
       "      <th>SWAT_SUTD:RSLinx Enterprise:P3.HMI_DPIT301.Pv</th>\n",
       "      <th>SWAT_SUTD:RSLinx Enterprise:P3.HMI_FIT301.Pv</th>\n",
       "      <th>SWAT_SUTD:RSLinx Enterprise:P3.HMI_LIT301.Pv</th>\n",
       "      <th>...</th>\n",
       "      <th>SWAT_SUTD:RSLinx Enterprise:P4.HMI_P401.Status</th>\n",
       "      <th>SWAT_SUTD:RSLinx Enterprise:P4.HMI_P402.Status</th>\n",
       "      <th>SWAT_SUTD:RSLinx Enterprise:P4.HMI_P403.Status</th>\n",
       "      <th>SWAT_SUTD:RSLinx Enterprise:P4.HMI_P404.Status</th>\n",
       "      <th>SWAT_SUTD:RSLinx Enterprise:P5.HMI_P501.Status</th>\n",
       "      <th>SWAT_SUTD:RSLinx Enterprise:P5.HMI_P502.Status</th>\n",
       "      <th>SWAT_SUTD:RSLinx Enterprise:P6.HMI_P601.Status</th>\n",
       "      <th>SWAT_SUTD:RSLinx Enterprise:P6.HMI_P602.Status</th>\n",
       "      <th>SWAT_SUTD:RSLinx Enterprise:P6.HMI_P603.Status</th>\n",
       "      <th>SWAT_SUTD:RSLinx Enterprise:P4.HMI_UV401.Status</th>\n",
       "    </tr>\n",
       "  </thead>\n",
       "  <tbody>\n",
       "    <tr>\n",
       "      <th>0</th>\n",
       "      <td>13/6/2017 4:23:00.000 PM</td>\n",
       "      <td>0.0</td>\n",
       "      <td>578.62</td>\n",
       "      <td>1017.01</td>\n",
       "      <td>6.96</td>\n",
       "      <td>386.75</td>\n",
       "      <td>0.0</td>\n",
       "      <td>2.85</td>\n",
       "      <td>0.00</td>\n",
       "      <td>1007.95</td>\n",
       "      <td>...</td>\n",
       "      <td>1</td>\n",
       "      <td>1</td>\n",
       "      <td>1</td>\n",
       "      <td>1</td>\n",
       "      <td>1</td>\n",
       "      <td>1</td>\n",
       "      <td>1</td>\n",
       "      <td>1</td>\n",
       "      <td>1</td>\n",
       "      <td>1</td>\n",
       "    </tr>\n",
       "    <tr>\n",
       "      <th>1</th>\n",
       "      <td>13/6/2017 4:23:37.961 PM</td>\n",
       "      <td>0.0</td>\n",
       "      <td>578.55</td>\n",
       "      <td>1017.01</td>\n",
       "      <td>6.96</td>\n",
       "      <td>386.51</td>\n",
       "      <td>0.0</td>\n",
       "      <td>1.57</td>\n",
       "      <td>0.00</td>\n",
       "      <td>1008.24</td>\n",
       "      <td>...</td>\n",
       "      <td>1</td>\n",
       "      <td>1</td>\n",
       "      <td>1</td>\n",
       "      <td>1</td>\n",
       "      <td>1</td>\n",
       "      <td>1</td>\n",
       "      <td>1</td>\n",
       "      <td>1</td>\n",
       "      <td>1</td>\n",
       "      <td>1</td>\n",
       "    </tr>\n",
       "    <tr>\n",
       "      <th>2</th>\n",
       "      <td>13/6/2017 4:24:15.922 PM</td>\n",
       "      <td>0.0</td>\n",
       "      <td>577.87</td>\n",
       "      <td>1017.01</td>\n",
       "      <td>6.96</td>\n",
       "      <td>386.77</td>\n",
       "      <td>0.0</td>\n",
       "      <td>9.87</td>\n",
       "      <td>2.07</td>\n",
       "      <td>997.83</td>\n",
       "      <td>...</td>\n",
       "      <td>2</td>\n",
       "      <td>1</td>\n",
       "      <td>1</td>\n",
       "      <td>1</td>\n",
       "      <td>1</td>\n",
       "      <td>1</td>\n",
       "      <td>1</td>\n",
       "      <td>1</td>\n",
       "      <td>1</td>\n",
       "      <td>2</td>\n",
       "    </tr>\n",
       "    <tr>\n",
       "      <th>3</th>\n",
       "      <td>13/6/2017 4:24:53.883 PM</td>\n",
       "      <td>0.0</td>\n",
       "      <td>578.65</td>\n",
       "      <td>1017.01</td>\n",
       "      <td>6.95</td>\n",
       "      <td>386.77</td>\n",
       "      <td>0.0</td>\n",
       "      <td>17.94</td>\n",
       "      <td>2.05</td>\n",
       "      <td>983.35</td>\n",
       "      <td>...</td>\n",
       "      <td>2</td>\n",
       "      <td>1</td>\n",
       "      <td>1</td>\n",
       "      <td>1</td>\n",
       "      <td>1</td>\n",
       "      <td>1</td>\n",
       "      <td>1</td>\n",
       "      <td>1</td>\n",
       "      <td>1</td>\n",
       "      <td>2</td>\n",
       "    </tr>\n",
       "    <tr>\n",
       "      <th>4</th>\n",
       "      <td>13/6/2017 4:25:31.844 PM</td>\n",
       "      <td>0.0</td>\n",
       "      <td>578.98</td>\n",
       "      <td>1017.01</td>\n",
       "      <td>6.96</td>\n",
       "      <td>386.64</td>\n",
       "      <td>0.0</td>\n",
       "      <td>17.80</td>\n",
       "      <td>2.06</td>\n",
       "      <td>967.78</td>\n",
       "      <td>...</td>\n",
       "      <td>2</td>\n",
       "      <td>1</td>\n",
       "      <td>1</td>\n",
       "      <td>1</td>\n",
       "      <td>2</td>\n",
       "      <td>1</td>\n",
       "      <td>1</td>\n",
       "      <td>1</td>\n",
       "      <td>1</td>\n",
       "      <td>2</td>\n",
       "    </tr>\n",
       "  </tbody>\n",
       "</table>\n",
       "<p>5 rows × 52 columns</p>\n",
       "</div>"
      ],
      "text/plain": [
       "                       Time  SWAT_SUTD:RSLinx Enterprise:P1.HMI_FIT101.Pv  \\\n",
       "0  13/6/2017 4:23:00.000 PM                                           0.0   \n",
       "1  13/6/2017 4:23:37.961 PM                                           0.0   \n",
       "2  13/6/2017 4:24:15.922 PM                                           0.0   \n",
       "3  13/6/2017 4:24:53.883 PM                                           0.0   \n",
       "4  13/6/2017 4:25:31.844 PM                                           0.0   \n",
       "\n",
       "   SWAT_SUTD:RSLinx Enterprise:P1.HMI_LIT101.Pv  \\\n",
       "0                                        578.62   \n",
       "1                                        578.55   \n",
       "2                                        577.87   \n",
       "3                                        578.65   \n",
       "4                                        578.98   \n",
       "\n",
       "   SWAT_SUTD:RSLinx Enterprise:P2.HMI_AIT201.Pv  \\\n",
       "0                                       1017.01   \n",
       "1                                       1017.01   \n",
       "2                                       1017.01   \n",
       "3                                       1017.01   \n",
       "4                                       1017.01   \n",
       "\n",
       "   SWAT_SUTD:RSLinx Enterprise:P2.HMI_AIT202.Pv  \\\n",
       "0                                          6.96   \n",
       "1                                          6.96   \n",
       "2                                          6.96   \n",
       "3                                          6.95   \n",
       "4                                          6.96   \n",
       "\n",
       "   SWAT_SUTD:RSLinx Enterprise:P2.HMI_AIT203.Pv  \\\n",
       "0                                        386.75   \n",
       "1                                        386.51   \n",
       "2                                        386.77   \n",
       "3                                        386.77   \n",
       "4                                        386.64   \n",
       "\n",
       "   SWAT_SUTD:RSLinx Enterprise:P2.HMI_FIT201.Pv  \\\n",
       "0                                           0.0   \n",
       "1                                           0.0   \n",
       "2                                           0.0   \n",
       "3                                           0.0   \n",
       "4                                           0.0   \n",
       "\n",
       "   SWAT_SUTD:RSLinx Enterprise:P3.HMI_DPIT301.Pv  \\\n",
       "0                                           2.85   \n",
       "1                                           1.57   \n",
       "2                                           9.87   \n",
       "3                                          17.94   \n",
       "4                                          17.80   \n",
       "\n",
       "   SWAT_SUTD:RSLinx Enterprise:P3.HMI_FIT301.Pv  \\\n",
       "0                                          0.00   \n",
       "1                                          0.00   \n",
       "2                                          2.07   \n",
       "3                                          2.05   \n",
       "4                                          2.06   \n",
       "\n",
       "   SWAT_SUTD:RSLinx Enterprise:P3.HMI_LIT301.Pv  ...  \\\n",
       "0                                       1007.95  ...   \n",
       "1                                       1008.24  ...   \n",
       "2                                        997.83  ...   \n",
       "3                                        983.35  ...   \n",
       "4                                        967.78  ...   \n",
       "\n",
       "   SWAT_SUTD:RSLinx Enterprise:P4.HMI_P401.Status  \\\n",
       "0                                               1   \n",
       "1                                               1   \n",
       "2                                               2   \n",
       "3                                               2   \n",
       "4                                               2   \n",
       "\n",
       "   SWAT_SUTD:RSLinx Enterprise:P4.HMI_P402.Status  \\\n",
       "0                                               1   \n",
       "1                                               1   \n",
       "2                                               1   \n",
       "3                                               1   \n",
       "4                                               1   \n",
       "\n",
       "   SWAT_SUTD:RSLinx Enterprise:P4.HMI_P403.Status  \\\n",
       "0                                               1   \n",
       "1                                               1   \n",
       "2                                               1   \n",
       "3                                               1   \n",
       "4                                               1   \n",
       "\n",
       "   SWAT_SUTD:RSLinx Enterprise:P4.HMI_P404.Status  \\\n",
       "0                                               1   \n",
       "1                                               1   \n",
       "2                                               1   \n",
       "3                                               1   \n",
       "4                                               1   \n",
       "\n",
       "   SWAT_SUTD:RSLinx Enterprise:P5.HMI_P501.Status  \\\n",
       "0                                               1   \n",
       "1                                               1   \n",
       "2                                               1   \n",
       "3                                               1   \n",
       "4                                               2   \n",
       "\n",
       "   SWAT_SUTD:RSLinx Enterprise:P5.HMI_P502.Status  \\\n",
       "0                                               1   \n",
       "1                                               1   \n",
       "2                                               1   \n",
       "3                                               1   \n",
       "4                                               1   \n",
       "\n",
       "   SWAT_SUTD:RSLinx Enterprise:P6.HMI_P601.Status  \\\n",
       "0                                               1   \n",
       "1                                               1   \n",
       "2                                               1   \n",
       "3                                               1   \n",
       "4                                               1   \n",
       "\n",
       "   SWAT_SUTD:RSLinx Enterprise:P6.HMI_P602.Status  \\\n",
       "0                                               1   \n",
       "1                                               1   \n",
       "2                                               1   \n",
       "3                                               1   \n",
       "4                                               1   \n",
       "\n",
       "   SWAT_SUTD:RSLinx Enterprise:P6.HMI_P603.Status  \\\n",
       "0                                               1   \n",
       "1                                               1   \n",
       "2                                               1   \n",
       "3                                               1   \n",
       "4                                               1   \n",
       "\n",
       "   SWAT_SUTD:RSLinx Enterprise:P4.HMI_UV401.Status  \n",
       "0                                                1  \n",
       "1                                                1  \n",
       "2                                                2  \n",
       "3                                                2  \n",
       "4                                                2  \n",
       "\n",
       "[5 rows x 52 columns]"
      ]
     },
     "execution_count": 61,
     "metadata": {},
     "output_type": "execute_result"
    }
   ],
   "source": [
    "# Importing the datase\n",
    "data = pd.read_excel(LOCAL_PATH, header = 1)\n",
    "# Showing sample values from the dataset\n",
    "data.head()"
   ]
  },
  {
   "cell_type": "markdown",
   "metadata": {
    "id": "-7_DnJQCamK2"
   },
   "source": [
    "# EDA and Data Preprocessing"
   ]
  },
  {
   "cell_type": "markdown",
   "metadata": {
    "id": "8jgari2nzU7M"
   },
   "source": [
    "## Re-write col names"
   ]
  },
  {
   "cell_type": "code",
   "execution_count": 62,
   "metadata": {
    "colab": {
     "base_uri": "https://localhost:8080/"
    },
    "id": "RmvlR0jhbFRN",
    "outputId": "548ee235-1bce-4af0-861f-bf02fb2e0bdf"
   },
   "outputs": [],
   "source": [
    "cols = list(data.columns)\n",
    "cols[1:] = [(i.split(\":\"))[2].split(\".\")[1].split('_')[1] for i in cols[1:]]\n",
    "data.columns = cols"
   ]
  },
  {
   "cell_type": "markdown",
   "metadata": {
    "id": "KIXJllPxzYLZ"
   },
   "source": [
    "## Data properties"
   ]
  },
  {
   "cell_type": "code",
   "execution_count": 63,
   "metadata": {
    "colab": {
     "base_uri": "https://localhost:8080/"
    },
    "id": "dJvrEZXzgorL",
    "outputId": "cdd4407f-ad2c-4d77-8ee1-f9f803e10626"
   },
   "outputs": [
    {
     "data": {
      "text/plain": [
       "(13661, 52)"
      ]
     },
     "execution_count": 63,
     "metadata": {},
     "output_type": "execute_result"
    }
   ],
   "source": [
    "# Data shape\n",
    "data.shape"
   ]
  },
  {
   "cell_type": "code",
   "execution_count": 64,
   "metadata": {
    "colab": {
     "base_uri": "https://localhost:8080/"
    },
    "id": "lSfK-TzJatiB",
    "outputId": "f9791243-3644-4b6d-c8ec-828d902efdf5"
   },
   "outputs": [
    {
     "data": {
      "text/plain": [
       "Time        object\n",
       "FIT101     float64\n",
       "LIT101     float64\n",
       "AIT201     float64\n",
       "AIT202     float64\n",
       "AIT203     float64\n",
       "FIT201     float64\n",
       "DPIT301    float64\n",
       "FIT301     float64\n",
       "LIT301     float64\n",
       "AIT401       int64\n",
       "AIT402     float64\n",
       "FIT401     float64\n",
       "LIT401     float64\n",
       "AIT501     float64\n",
       "AIT502     float64\n",
       "AIT503     float64\n",
       "AIT504     float64\n",
       "FIT501     float64\n",
       "FIT502     float64\n",
       "FIT503     float64\n",
       "FIT504     float64\n",
       "PIT501     float64\n",
       "PIT502     float64\n",
       "PIT503     float64\n",
       "FIT601     float64\n",
       "MV101        int64\n",
       "P101         int64\n",
       "P102         int64\n",
       "MV201        int64\n",
       "P201         int64\n",
       "P202         int64\n",
       "P203         int64\n",
       "P204         int64\n",
       "P205         int64\n",
       "P206         int64\n",
       "MV301        int64\n",
       "MV302        int64\n",
       "MV303        int64\n",
       "MV304        int64\n",
       "P301         int64\n",
       "P302         int64\n",
       "P401         int64\n",
       "P402         int64\n",
       "P403         int64\n",
       "P404         int64\n",
       "P501         int64\n",
       "P502         int64\n",
       "P601         int64\n",
       "P602         int64\n",
       "P603         int64\n",
       "UV401        int64\n",
       "dtype: object"
      ]
     },
     "execution_count": 64,
     "metadata": {},
     "output_type": "execute_result"
    }
   ],
   "source": [
    "# Data types\n",
    "data.dtypes"
   ]
  },
  {
   "cell_type": "code",
   "execution_count": 65,
   "metadata": {
    "colab": {
     "base_uri": "https://localhost:8080/"
    },
    "id": "sz3DzgmrfdcT",
    "outputId": "5df302ad-a8c7-42cf-9e21-3696a0831aaf"
   },
   "outputs": [
    {
     "data": {
      "text/plain": [
       "0"
      ]
     },
     "execution_count": 65,
     "metadata": {},
     "output_type": "execute_result"
    }
   ],
   "source": [
    "# Msssing values \n",
    "# data.isnull().sum().sort_values(ascending=False) columns wise\n",
    "data.isnull().sum().sum()"
   ]
  },
  {
   "cell_type": "code",
   "execution_count": 66,
   "metadata": {
    "colab": {
     "base_uri": "https://localhost:8080/"
    },
    "id": "9hRqUPLvfqYK",
    "outputId": "5ee818c0-bb67-4e51-a87c-ce581303cef2"
   },
   "outputs": [
    {
     "data": {
      "text/plain": [
       "0"
      ]
     },
     "execution_count": 66,
     "metadata": {},
     "output_type": "execute_result"
    }
   ],
   "source": [
    "# Duplicated rows\n",
    "data.duplicated().sum()"
   ]
  },
  {
   "cell_type": "markdown",
   "metadata": {
    "id": "XuZv1sqszcGk"
   },
   "source": [
    "## Data statistics"
   ]
  },
  {
   "cell_type": "code",
   "execution_count": 19,
   "metadata": {
    "colab": {
     "base_uri": "https://localhost:8080/"
    },
    "id": "XZ8GheN-eBLs",
    "outputId": "8ff9489d-ad26-4463-af07-180f18156bfe"
   },
   "outputs": [
    {
     "data": {
      "text/html": [
       "<div>\n",
       "<style scoped>\n",
       "    .dataframe tbody tr th:only-of-type {\n",
       "        vertical-align: middle;\n",
       "    }\n",
       "\n",
       "    .dataframe tbody tr th {\n",
       "        vertical-align: top;\n",
       "    }\n",
       "\n",
       "    .dataframe thead th {\n",
       "        text-align: right;\n",
       "    }\n",
       "</style>\n",
       "<table border=\"1\" class=\"dataframe\">\n",
       "  <thead>\n",
       "    <tr style=\"text-align: right;\">\n",
       "      <th></th>\n",
       "      <th>FIT101</th>\n",
       "      <th>LIT101</th>\n",
       "      <th>AIT201</th>\n",
       "      <th>AIT202</th>\n",
       "      <th>AIT203</th>\n",
       "      <th>FIT201</th>\n",
       "      <th>DPIT301</th>\n",
       "      <th>FIT301</th>\n",
       "      <th>LIT301</th>\n",
       "      <th>AIT401</th>\n",
       "      <th>...</th>\n",
       "      <th>P401</th>\n",
       "      <th>P402</th>\n",
       "      <th>P403</th>\n",
       "      <th>P404</th>\n",
       "      <th>P501</th>\n",
       "      <th>P502</th>\n",
       "      <th>P601</th>\n",
       "      <th>P602</th>\n",
       "      <th>P603</th>\n",
       "      <th>UV401</th>\n",
       "    </tr>\n",
       "  </thead>\n",
       "  <tbody>\n",
       "    <tr>\n",
       "      <th>count</th>\n",
       "      <td>13661.000000</td>\n",
       "      <td>13661.000000</td>\n",
       "      <td>13661.000000</td>\n",
       "      <td>13661.000000</td>\n",
       "      <td>13661.000000</td>\n",
       "      <td>13661.000000</td>\n",
       "      <td>13661.000000</td>\n",
       "      <td>13661.000000</td>\n",
       "      <td>13661.000000</td>\n",
       "      <td>13661.0</td>\n",
       "      <td>...</td>\n",
       "      <td>13661.000000</td>\n",
       "      <td>13661.0</td>\n",
       "      <td>13661.0</td>\n",
       "      <td>13661.0</td>\n",
       "      <td>13661.000000</td>\n",
       "      <td>13661.0</td>\n",
       "      <td>13661.0</td>\n",
       "      <td>13661.000000</td>\n",
       "      <td>13661.0</td>\n",
       "      <td>13661.000000</td>\n",
       "    </tr>\n",
       "    <tr>\n",
       "      <th>mean</th>\n",
       "      <td>1.556448</td>\n",
       "      <td>691.446398</td>\n",
       "      <td>250.063051</td>\n",
       "      <td>7.756857</td>\n",
       "      <td>344.859821</td>\n",
       "      <td>1.544751</td>\n",
       "      <td>14.043350</td>\n",
       "      <td>1.554724</td>\n",
       "      <td>828.256294</td>\n",
       "      <td>0.0</td>\n",
       "      <td>...</td>\n",
       "      <td>1.911500</td>\n",
       "      <td>1.0</td>\n",
       "      <td>1.0</td>\n",
       "      <td>1.0</td>\n",
       "      <td>1.910987</td>\n",
       "      <td>1.0</td>\n",
       "      <td>1.0</td>\n",
       "      <td>1.011053</td>\n",
       "      <td>1.0</td>\n",
       "      <td>1.911500</td>\n",
       "    </tr>\n",
       "    <tr>\n",
       "      <th>std</th>\n",
       "      <td>2.129987</td>\n",
       "      <td>109.415001</td>\n",
       "      <td>258.247646</td>\n",
       "      <td>0.805545</td>\n",
       "      <td>54.279119</td>\n",
       "      <td>1.131187</td>\n",
       "      <td>6.947472</td>\n",
       "      <td>0.864677</td>\n",
       "      <td>209.862795</td>\n",
       "      <td>0.0</td>\n",
       "      <td>...</td>\n",
       "      <td>0.284031</td>\n",
       "      <td>0.0</td>\n",
       "      <td>0.0</td>\n",
       "      <td>0.0</td>\n",
       "      <td>0.284772</td>\n",
       "      <td>0.0</td>\n",
       "      <td>0.0</td>\n",
       "      <td>0.104556</td>\n",
       "      <td>0.0</td>\n",
       "      <td>0.284031</td>\n",
       "    </tr>\n",
       "    <tr>\n",
       "      <th>min</th>\n",
       "      <td>0.000000</td>\n",
       "      <td>490.730000</td>\n",
       "      <td>137.100000</td>\n",
       "      <td>6.150000</td>\n",
       "      <td>242.350000</td>\n",
       "      <td>0.000000</td>\n",
       "      <td>0.010000</td>\n",
       "      <td>0.000000</td>\n",
       "      <td>242.850000</td>\n",
       "      <td>0.0</td>\n",
       "      <td>...</td>\n",
       "      <td>1.000000</td>\n",
       "      <td>1.0</td>\n",
       "      <td>1.0</td>\n",
       "      <td>1.0</td>\n",
       "      <td>1.000000</td>\n",
       "      <td>1.0</td>\n",
       "      <td>1.0</td>\n",
       "      <td>1.000000</td>\n",
       "      <td>1.0</td>\n",
       "      <td>1.000000</td>\n",
       "    </tr>\n",
       "    <tr>\n",
       "      <th>25%</th>\n",
       "      <td>0.000000</td>\n",
       "      <td>590.150000</td>\n",
       "      <td>154.960000</td>\n",
       "      <td>7.100000</td>\n",
       "      <td>281.310000</td>\n",
       "      <td>0.000000</td>\n",
       "      <td>9.530000</td>\n",
       "      <td>2.030000</td>\n",
       "      <td>817.780000</td>\n",
       "      <td>0.0</td>\n",
       "      <td>...</td>\n",
       "      <td>2.000000</td>\n",
       "      <td>1.0</td>\n",
       "      <td>1.0</td>\n",
       "      <td>1.0</td>\n",
       "      <td>2.000000</td>\n",
       "      <td>1.0</td>\n",
       "      <td>1.0</td>\n",
       "      <td>1.000000</td>\n",
       "      <td>1.0</td>\n",
       "      <td>2.000000</td>\n",
       "    </tr>\n",
       "    <tr>\n",
       "      <th>50%</th>\n",
       "      <td>0.000000</td>\n",
       "      <td>704.170000</td>\n",
       "      <td>165.220000</td>\n",
       "      <td>7.430000</td>\n",
       "      <td>369.670000</td>\n",
       "      <td>2.370000</td>\n",
       "      <td>17.940000</td>\n",
       "      <td>2.040000</td>\n",
       "      <td>875.780000</td>\n",
       "      <td>0.0</td>\n",
       "      <td>...</td>\n",
       "      <td>2.000000</td>\n",
       "      <td>1.0</td>\n",
       "      <td>1.0</td>\n",
       "      <td>1.0</td>\n",
       "      <td>2.000000</td>\n",
       "      <td>1.0</td>\n",
       "      <td>1.0</td>\n",
       "      <td>1.000000</td>\n",
       "      <td>1.0</td>\n",
       "      <td>2.000000</td>\n",
       "    </tr>\n",
       "    <tr>\n",
       "      <th>75%</th>\n",
       "      <td>4.490000</td>\n",
       "      <td>814.460000</td>\n",
       "      <td>174.510000</td>\n",
       "      <td>8.780000</td>\n",
       "      <td>387.590000</td>\n",
       "      <td>2.380000</td>\n",
       "      <td>18.290000</td>\n",
       "      <td>2.050000</td>\n",
       "      <td>954.830000</td>\n",
       "      <td>0.0</td>\n",
       "      <td>...</td>\n",
       "      <td>2.000000</td>\n",
       "      <td>1.0</td>\n",
       "      <td>1.0</td>\n",
       "      <td>1.0</td>\n",
       "      <td>2.000000</td>\n",
       "      <td>1.0</td>\n",
       "      <td>1.0</td>\n",
       "      <td>1.000000</td>\n",
       "      <td>1.0</td>\n",
       "      <td>2.000000</td>\n",
       "    </tr>\n",
       "    <tr>\n",
       "      <th>max</th>\n",
       "      <td>4.670000</td>\n",
       "      <td>824.760000</td>\n",
       "      <td>1017.340000</td>\n",
       "      <td>9.000000</td>\n",
       "      <td>456.800000</td>\n",
       "      <td>2.440000</td>\n",
       "      <td>19.060000</td>\n",
       "      <td>2.150000</td>\n",
       "      <td>1013.160000</td>\n",
       "      <td>0.0</td>\n",
       "      <td>...</td>\n",
       "      <td>2.000000</td>\n",
       "      <td>1.0</td>\n",
       "      <td>1.0</td>\n",
       "      <td>1.0</td>\n",
       "      <td>2.000000</td>\n",
       "      <td>1.0</td>\n",
       "      <td>1.0</td>\n",
       "      <td>2.000000</td>\n",
       "      <td>1.0</td>\n",
       "      <td>2.000000</td>\n",
       "    </tr>\n",
       "  </tbody>\n",
       "</table>\n",
       "<p>8 rows × 51 columns</p>\n",
       "</div>"
      ],
      "text/plain": [
       "             FIT101        LIT101        AIT201        AIT202        AIT203  \\\n",
       "count  13661.000000  13661.000000  13661.000000  13661.000000  13661.000000   \n",
       "mean       1.556448    691.446398    250.063051      7.756857    344.859821   \n",
       "std        2.129987    109.415001    258.247646      0.805545     54.279119   \n",
       "min        0.000000    490.730000    137.100000      6.150000    242.350000   \n",
       "25%        0.000000    590.150000    154.960000      7.100000    281.310000   \n",
       "50%        0.000000    704.170000    165.220000      7.430000    369.670000   \n",
       "75%        4.490000    814.460000    174.510000      8.780000    387.590000   \n",
       "max        4.670000    824.760000   1017.340000      9.000000    456.800000   \n",
       "\n",
       "             FIT201       DPIT301        FIT301        LIT301   AIT401  ...  \\\n",
       "count  13661.000000  13661.000000  13661.000000  13661.000000  13661.0  ...   \n",
       "mean       1.544751     14.043350      1.554724    828.256294      0.0  ...   \n",
       "std        1.131187      6.947472      0.864677    209.862795      0.0  ...   \n",
       "min        0.000000      0.010000      0.000000    242.850000      0.0  ...   \n",
       "25%        0.000000      9.530000      2.030000    817.780000      0.0  ...   \n",
       "50%        2.370000     17.940000      2.040000    875.780000      0.0  ...   \n",
       "75%        2.380000     18.290000      2.050000    954.830000      0.0  ...   \n",
       "max        2.440000     19.060000      2.150000   1013.160000      0.0  ...   \n",
       "\n",
       "               P401     P402     P403     P404          P501     P502  \\\n",
       "count  13661.000000  13661.0  13661.0  13661.0  13661.000000  13661.0   \n",
       "mean       1.911500      1.0      1.0      1.0      1.910987      1.0   \n",
       "std        0.284031      0.0      0.0      0.0      0.284772      0.0   \n",
       "min        1.000000      1.0      1.0      1.0      1.000000      1.0   \n",
       "25%        2.000000      1.0      1.0      1.0      2.000000      1.0   \n",
       "50%        2.000000      1.0      1.0      1.0      2.000000      1.0   \n",
       "75%        2.000000      1.0      1.0      1.0      2.000000      1.0   \n",
       "max        2.000000      1.0      1.0      1.0      2.000000      1.0   \n",
       "\n",
       "          P601          P602     P603         UV401  \n",
       "count  13661.0  13661.000000  13661.0  13661.000000  \n",
       "mean       1.0      1.011053      1.0      1.911500  \n",
       "std        0.0      0.104556      0.0      0.284031  \n",
       "min        1.0      1.000000      1.0      1.000000  \n",
       "25%        1.0      1.000000      1.0      2.000000  \n",
       "50%        1.0      1.000000      1.0      2.000000  \n",
       "75%        1.0      1.000000      1.0      2.000000  \n",
       "max        1.0      2.000000      1.0      2.000000  \n",
       "\n",
       "[8 rows x 51 columns]"
      ]
     },
     "execution_count": 19,
     "metadata": {},
     "output_type": "execute_result"
    }
   ],
   "source": [
    "# Describe data\n",
    "data.describe()"
   ]
  },
  {
   "cell_type": "markdown",
   "metadata": {
    "id": "bsGOqz_azgNe"
   },
   "source": [
    "## Preprocess: string to datetime"
   ]
  },
  {
   "cell_type": "code",
   "execution_count": 67,
   "metadata": {
    "id": "JoD1Gjhww4hh"
   },
   "outputs": [],
   "source": [
    "# Values to datetime\n",
    "data['Time'] = [datetime.datetime.strptime(t, \"%d/%m/%Y %H:%M:%S.%f %p\") for t in data['Time']] "
   ]
  },
  {
   "cell_type": "markdown",
   "metadata": {
    "id": "ALiy_yQUzjYA"
   },
   "source": [
    "## Display distribution by day"
   ]
  },
  {
   "cell_type": "code",
   "execution_count": 21,
   "metadata": {
    "colab": {
     "base_uri": "https://localhost:8080/"
    },
    "id": "Bp2otpJRq43O",
    "outputId": "ccddda5c-5111-4c67-b764-3e83f6dc5c1d"
   },
   "outputs": [
    {
     "name": "stderr",
     "output_type": "stream",
     "text": [
      "/opt/conda/lib/python3.9/site-packages/seaborn/_decorators.py:36: FutureWarning: Pass the following variables as keyword args: x, y. From version 0.12, the only valid positional argument will be `data`, and passing other arguments without an explicit keyword will result in an error or misinterpretation.\n",
      "  warnings.warn(\n"
     ]
    },
    {
     "data": {
      "image/png": "[encoded data removed]",
      "text/plain": [
       "<Figure size 864x432 with 1 Axes>"
      ]
     },
     "metadata": {
      "needs_background": "light"
     },
     "output_type": "display_data"
    }
   ],
   "source": [
    "# Distribution by days\n",
    "day = data['Time'].dt.day\n",
    "\n",
    "cnt_srs = day.value_counts()\n",
    "plt.figure(figsize=(12,6))\n",
    "sns.barplot(cnt_srs.index, cnt_srs.values, alpha=0.8, color=sns.color_palette()[3])\n",
    "plt.xticks(rotation='vertical')\n",
    "plt.xlabel('Date', fontsize=12)\n",
    "plt.ylabel('Number of Occurrences', fontsize=12)\n",
    "plt.show()"
   ]
  },
  {
   "cell_type": "markdown",
   "metadata": {
    "id": "nq_6GKHkzltt"
   },
   "source": [
    "## Display distribution by hour"
   ]
  },
  {
   "cell_type": "code",
   "execution_count": 22,
   "metadata": {
    "colab": {
     "base_uri": "https://localhost:8080/"
    },
    "id": "7GM61hcCwwaB",
    "outputId": "8ecbfc0c-0be0-460e-ba16-50f3e83bc0ec"
   },
   "outputs": [
    {
     "name": "stderr",
     "output_type": "stream",
     "text": [
      "/opt/conda/lib/python3.9/site-packages/seaborn/_decorators.py:36: FutureWarning: Pass the following variables as keyword args: x, y. From version 0.12, the only valid positional argument will be `data`, and passing other arguments without an explicit keyword will result in an error or misinterpretation.\n",
      "  warnings.warn(\n"
     ]
    },
    {
     "data": {
      "image/png": "[encoded data removed]",
      "text/plain": [
       "<Figure size 864x432 with 1 Axes>"
      ]
     },
     "metadata": {
      "needs_background": "light"
     },
     "output_type": "display_data"
    }
   ],
   "source": [
    "# Distribution by hours\n",
    "\n",
    "hours = data['Time'].dt.hour\n",
    "\n",
    "cnt_srs = hours.value_counts()\n",
    "plt.figure(figsize=(12,6))\n",
    "sns.barplot(cnt_srs.index, cnt_srs.values, alpha=0.8, color=sns.color_palette()[3])\n",
    "plt.xticks(rotation='vertical')\n",
    "plt.xlabel('Hour', fontsize=12)\n",
    "plt.ylabel('Number of Occurrences', fontsize=12)\n",
    "plt.show()"
   ]
  },
  {
   "cell_type": "markdown",
   "metadata": {
    "id": "UjS2gWRlpiWW"
   },
   "source": [
    "## **Preprocess**: Remove unique cols"
   ]
  },
  {
   "cell_type": "code",
   "execution_count": 68,
   "metadata": {
    "id": "yrB8O55YphMe"
   },
   "outputs": [
    {
     "name": "stdout",
     "output_type": "stream",
     "text": [
      "> Dropping AIT401\n",
      "> Dropping P102\n",
      "> Dropping P202\n",
      "> Dropping P204\n",
      "> Dropping P206\n",
      "> Dropping P302\n",
      "> Dropping P402\n",
      "> Dropping P403\n",
      "> Dropping P404\n",
      "> Dropping P502\n",
      "> Dropping P601\n",
      "> Dropping P603\n"
     ]
    }
   ],
   "source": [
    "# Find columns with only one values. We will drop them since they don't have any effect.\n",
    "for col in data.columns:\n",
    "  if len(data[col].value_counts()) == 1:\n",
    "    print(f\"> Dropping {col}\")\n",
    "    \n",
    "    data = data.drop(col, axis=1)"
   ]
  },
  {
   "cell_type": "markdown",
   "metadata": {
    "id": "GcVI08ozqiGF"
   },
   "source": [
    "## **[DONT RUN] Preprocess**: One hot encode categorical data"
   ]
  },
  {
   "cell_type": "code",
   "execution_count": 69,
   "metadata": {
    "id": "tn64jRLdqlbi"
   },
   "outputs": [],
   "source": [
    "# Get categorical columns\n",
    "CATEG_RANGE = 3\n",
    "cat, cont = [], []\n",
    "\n",
    "for col in data.columns:\n",
    "  if len(data[col].value_counts()) <= CATEG_RANGE:\n",
    "    cat.append(col)\n",
    "  else:\n",
    "    cont.append(col)"
   ]
  },
  {
   "cell_type": "code",
   "execution_count": null,
   "metadata": {
    "colab": {
     "base_uri": "https://localhost:8080/"
    },
    "id": "sSjvUCDGrDMh",
    "outputId": "a2f2f1b1-6fec-4c9d-ae09-ba83cad4a0fb"
   },
   "outputs": [
    {
     "name": "stderr",
     "output_type": "stream",
     "text": [
      "/usr/local/lib/python3.7/dist-packages/ipykernel_launcher.py:7: SettingWithCopyWarning: \n",
      "A value is trying to be set on a copy of a slice from a DataFrame.\n",
      "Try using .loc[row_indexer,col_indexer] = value instead\n",
      "\n",
      "See the caveats in the documentation: https://pandas.pydata.org/pandas-docs/stable/user_guide/indexing.html#returning-a-view-versus-a-copy\n",
      "  import sys\n"
     ]
    }
   ],
   "source": [
    "# One hot categorical data\n",
    "def oneHot(data):\n",
    "  continuous = data[cont]\n",
    "  categorical = data[cat]\n",
    "  encoded = pd.get_dummies(categorical, columns = categorical.columns)\n",
    "  for col in encoded:\n",
    "    continuous[col] = encoded[col]\n",
    "  return continuous\n",
    "\n",
    "encoded = oneHot(data)"
   ]
  },
  {
   "cell_type": "markdown",
   "metadata": {
    "id": "iqPf-HMFNbBI"
   },
   "source": [
    "## **Notes**"
   ]
  },
  {
   "cell_type": "markdown",
   "metadata": {
    "id": "bjTYwfB92sFU"
   },
   "source": [
    "* *The high dimensionality and non-stationary characteristics of the target dataset increase the complexity of detecting anomalies.*\n",
    "* *Therefore, we mitigate high dimensionality and non-stationary characteristics by reducing the dimension using **autoencoder**.*"
   ]
  },
  {
   "cell_type": "markdown",
   "metadata": {
    "id": "wAA3EbUP3SD1"
   },
   "source": [
    "In particular, auto-encoder is a more effective nonlinear technology than PCA when reducing thedimensionality of high-dimensional data. Sakurada et\n",
    "al. [30] found that auto-encoder can detect subtle anomalies that linear PCA fails and increase its accuracy by denoising. Therefore, we reduce \n",
    "dimensionality through auto-encoding and then performed training. \n",
    "Ref: https://jit.ndhu.edu.tw/article/download/2553/2571"
   ]
  },
  {
   "cell_type": "markdown",
   "metadata": {
    "id": "E49RTgC04KDx"
   },
   "source": [
    "*Since raw data has data-specific characteristics and distribution for each feature, performance will deteriorate if you use the data as it is. We use the\n",
    "**MinMax scaler** to scale the features of the data to the same extent. The use of high dimensional data can cause the performance problem because of the curse of\n",
    "dimensionality. To solve this problem, we apply the **auto-encoder** to reduce the dimensionality while preserving the unique properties of the data. To determine the latent vector’s optimal size in the autoencoder, it calculates the mean square error (MSE) loss value according to the latent vector’s size. The latent vector size with minimal MSE loss is determined as the optimal latent vector.*"
   ]
  },
  {
   "cell_type": "markdown",
   "metadata": {
    "id": "-EoHKZ7ogVId"
   },
   "source": [
    "## **Preprocess**: Standardize/Normalize data"
   ]
  },
  {
   "cell_type": "code",
   "execution_count": 70,
   "metadata": {
    "id": "v0bUstj1eIYx"
   },
   "outputs": [],
   "source": [
    "from sklearn.preprocessing import StandardScaler, MinMaxScaler\n",
    "\n",
    "def Standardize(data, showBoxPlot=False):\n",
    "  sc = StandardScaler()\n",
    "  data_norm = pd.DataFrame( sc.fit_transform(data.iloc[:, data.columns != 'Time']) )\n",
    "  data_norm_c = data_norm.copy()\n",
    "  data_norm.columns = data.iloc[:, data.columns != 'Time'].columns\n",
    "  data_norm.insert(0, 'Time', data['Time'])\n",
    "  if showBoxPlot:\n",
    "    fig = plt.subplots(figsize=(25,  30))\n",
    "    data_norm_c.boxplot(widths = 0.4, notch=True)\n",
    "  return data_norm\n",
    "\n",
    "def Normalize(data, showBoxPlot=False):\n",
    "  sc = MinMaxScaler()\n",
    "  data_norm = pd.DataFrame( sc.fit_transform(data.iloc[:, data.columns != 'Time']) )\n",
    "  data_norm_c = data_norm.copy()\n",
    "  data_norm.columns = data.iloc[:, data.columns != 'Time'].columns\n",
    "  data_norm.insert(0, 'Time', data['Time'])\n",
    "  if showBoxPlot:\n",
    "    fig = plt.subplots(figsize=(25,  30))\n",
    "    data_norm_c.boxplot(widths = 0.4, notch=True)\n",
    "  return data_norm"
   ]
  },
  {
   "cell_type": "code",
   "execution_count": 71,
   "metadata": {
    "id": "78aj45fTgOKr"
   },
   "outputs": [],
   "source": [
    "# Zero center\n",
    "data_scaled = Standardize(data) # Scaling the one hot encoded data isn't right\n",
    "data_norm = Normalize(data) # We normalize the whole set\n",
    "# Save a copy\n",
    "# data_norm.to_csv(f\"{ROOT_PATH}/SWaT_A3/SWaT_norm.csv\", sep = ',', encoding = 'utf-8', index = False)\n",
    "# print(f\"> Zero centered data saved in {ROOT_PATH}/SWaT_A3/SWaT_norm.csv\")"
   ]
  },
  {
   "cell_type": "markdown",
   "metadata": {
    "id": "eWSk_DSswPY4"
   },
   "source": [
    "## **Preprocess**: Feature Extraction (PCA)"
   ]
  },
  {
   "cell_type": "code",
   "execution_count": 72,
   "metadata": {
    "colab": {
     "base_uri": "https://localhost:8080/",
     "height": 423
    },
    "id": "cCPRosDywRac",
    "outputId": "7eb9f807-f172-4cc5-c78b-c4dc269071f6"
   },
   "outputs": [
    {
     "data": {
      "text/html": [
       "<div>\n",
       "<style scoped>\n",
       "    .dataframe tbody tr th:only-of-type {\n",
       "        vertical-align: middle;\n",
       "    }\n",
       "\n",
       "    .dataframe tbody tr th {\n",
       "        vertical-align: top;\n",
       "    }\n",
       "\n",
       "    .dataframe thead th {\n",
       "        text-align: right;\n",
       "    }\n",
       "</style>\n",
       "<table border=\"1\" class=\"dataframe\">\n",
       "  <thead>\n",
       "    <tr style=\"text-align: right;\">\n",
       "      <th></th>\n",
       "      <th>P1</th>\n",
       "      <th>P2</th>\n",
       "      <th>P3</th>\n",
       "      <th>P4</th>\n",
       "      <th>P5</th>\n",
       "      <th>P6</th>\n",
       "      <th>P7</th>\n",
       "      <th>P8</th>\n",
       "      <th>P9</th>\n",
       "      <th>P10</th>\n",
       "      <th>P11</th>\n",
       "      <th>P12</th>\n",
       "      <th>P13</th>\n",
       "      <th>P14</th>\n",
       "    </tr>\n",
       "  </thead>\n",
       "  <tbody>\n",
       "    <tr>\n",
       "      <th>0</th>\n",
       "      <td>11.239323</td>\n",
       "      <td>-0.015946</td>\n",
       "      <td>0.019378</td>\n",
       "      <td>-1.177505</td>\n",
       "      <td>-1.262729</td>\n",
       "      <td>0.922708</td>\n",
       "      <td>-0.061910</td>\n",
       "      <td>0.660440</td>\n",
       "      <td>-0.079713</td>\n",
       "      <td>-1.752990</td>\n",
       "      <td>0.229442</td>\n",
       "      <td>2.389817</td>\n",
       "      <td>-0.284886</td>\n",
       "      <td>-0.494532</td>\n",
       "    </tr>\n",
       "    <tr>\n",
       "      <th>1</th>\n",
       "      <td>11.250785</td>\n",
       "      <td>-0.028606</td>\n",
       "      <td>-0.484913</td>\n",
       "      <td>-1.264875</td>\n",
       "      <td>-0.429987</td>\n",
       "      <td>0.967385</td>\n",
       "      <td>-1.001235</td>\n",
       "      <td>4.449296</td>\n",
       "      <td>-1.148676</td>\n",
       "      <td>-1.297496</td>\n",
       "      <td>-1.480187</td>\n",
       "      <td>2.006869</td>\n",
       "      <td>0.072566</td>\n",
       "      <td>-0.151499</td>\n",
       "    </tr>\n",
       "    <tr>\n",
       "      <th>2</th>\n",
       "      <td>8.773312</td>\n",
       "      <td>-1.304100</td>\n",
       "      <td>-2.975731</td>\n",
       "      <td>15.844832</td>\n",
       "      <td>-1.014392</td>\n",
       "      <td>9.681100</td>\n",
       "      <td>6.901244</td>\n",
       "      <td>-3.125790</td>\n",
       "      <td>27.095738</td>\n",
       "      <td>46.955617</td>\n",
       "      <td>-4.045413</td>\n",
       "      <td>12.653101</td>\n",
       "      <td>4.766548</td>\n",
       "      <td>-0.784740</td>\n",
       "    </tr>\n",
       "    <tr>\n",
       "      <th>3</th>\n",
       "      <td>7.140906</td>\n",
       "      <td>-0.706576</td>\n",
       "      <td>-4.087434</td>\n",
       "      <td>7.171380</td>\n",
       "      <td>1.410655</td>\n",
       "      <td>5.293826</td>\n",
       "      <td>2.058185</td>\n",
       "      <td>-0.095913</td>\n",
       "      <td>11.753912</td>\n",
       "      <td>22.351361</td>\n",
       "      <td>-2.424112</td>\n",
       "      <td>7.005019</td>\n",
       "      <td>2.397368</td>\n",
       "      <td>0.369435</td>\n",
       "    </tr>\n",
       "    <tr>\n",
       "      <th>4</th>\n",
       "      <td>4.788603</td>\n",
       "      <td>-1.268151</td>\n",
       "      <td>-2.704121</td>\n",
       "      <td>2.395107</td>\n",
       "      <td>1.352515</td>\n",
       "      <td>2.798837</td>\n",
       "      <td>0.755153</td>\n",
       "      <td>-0.633777</td>\n",
       "      <td>2.202329</td>\n",
       "      <td>6.586427</td>\n",
       "      <td>-0.850385</td>\n",
       "      <td>3.342348</td>\n",
       "      <td>-0.497214</td>\n",
       "      <td>0.446388</td>\n",
       "    </tr>\n",
       "    <tr>\n",
       "      <th>...</th>\n",
       "      <td>...</td>\n",
       "      <td>...</td>\n",
       "      <td>...</td>\n",
       "      <td>...</td>\n",
       "      <td>...</td>\n",
       "      <td>...</td>\n",
       "      <td>...</td>\n",
       "      <td>...</td>\n",
       "      <td>...</td>\n",
       "      <td>...</td>\n",
       "      <td>...</td>\n",
       "      <td>...</td>\n",
       "      <td>...</td>\n",
       "      <td>...</td>\n",
       "    </tr>\n",
       "    <tr>\n",
       "      <th>13656</th>\n",
       "      <td>6.700938</td>\n",
       "      <td>4.547329</td>\n",
       "      <td>-1.809050</td>\n",
       "      <td>-3.812576</td>\n",
       "      <td>0.739007</td>\n",
       "      <td>-1.305559</td>\n",
       "      <td>-0.850753</td>\n",
       "      <td>0.117150</td>\n",
       "      <td>2.981989</td>\n",
       "      <td>0.959137</td>\n",
       "      <td>0.349857</td>\n",
       "      <td>1.009364</td>\n",
       "      <td>0.484703</td>\n",
       "      <td>-0.829143</td>\n",
       "    </tr>\n",
       "    <tr>\n",
       "      <th>13657</th>\n",
       "      <td>6.637403</td>\n",
       "      <td>4.546697</td>\n",
       "      <td>-1.790657</td>\n",
       "      <td>-3.816037</td>\n",
       "      <td>0.699654</td>\n",
       "      <td>-1.445606</td>\n",
       "      <td>-0.926172</td>\n",
       "      <td>0.149470</td>\n",
       "      <td>3.066294</td>\n",
       "      <td>0.919508</td>\n",
       "      <td>0.349737</td>\n",
       "      <td>1.083454</td>\n",
       "      <td>0.457412</td>\n",
       "      <td>-0.813635</td>\n",
       "    </tr>\n",
       "    <tr>\n",
       "      <th>13658</th>\n",
       "      <td>6.582334</td>\n",
       "      <td>4.555572</td>\n",
       "      <td>-1.776734</td>\n",
       "      <td>-3.817629</td>\n",
       "      <td>0.658955</td>\n",
       "      <td>-1.591026</td>\n",
       "      <td>-1.009351</td>\n",
       "      <td>0.185840</td>\n",
       "      <td>3.169918</td>\n",
       "      <td>0.880565</td>\n",
       "      <td>0.347239</td>\n",
       "      <td>1.159485</td>\n",
       "      <td>0.401438</td>\n",
       "      <td>-0.792857</td>\n",
       "    </tr>\n",
       "    <tr>\n",
       "      <th>13659</th>\n",
       "      <td>6.523834</td>\n",
       "      <td>4.569352</td>\n",
       "      <td>-1.763998</td>\n",
       "      <td>-3.813433</td>\n",
       "      <td>0.626434</td>\n",
       "      <td>-1.684105</td>\n",
       "      <td>-1.064963</td>\n",
       "      <td>0.220620</td>\n",
       "      <td>3.250322</td>\n",
       "      <td>0.838122</td>\n",
       "      <td>0.343053</td>\n",
       "      <td>1.248096</td>\n",
       "      <td>0.356967</td>\n",
       "      <td>-0.772737</td>\n",
       "    </tr>\n",
       "    <tr>\n",
       "      <th>13660</th>\n",
       "      <td>6.477436</td>\n",
       "      <td>4.579785</td>\n",
       "      <td>-1.750751</td>\n",
       "      <td>-3.817537</td>\n",
       "      <td>0.595963</td>\n",
       "      <td>-1.771171</td>\n",
       "      <td>-1.118116</td>\n",
       "      <td>0.250176</td>\n",
       "      <td>3.316606</td>\n",
       "      <td>0.803821</td>\n",
       "      <td>0.337919</td>\n",
       "      <td>1.340010</td>\n",
       "      <td>0.309010</td>\n",
       "      <td>-0.749763</td>\n",
       "    </tr>\n",
       "  </tbody>\n",
       "</table>\n",
       "<p>13661 rows × 14 columns</p>\n",
       "</div>"
      ],
      "text/plain": [
       "              P1        P2        P3         P4        P5        P6        P7  \\\n",
       "0      11.239323 -0.015946  0.019378  -1.177505 -1.262729  0.922708 -0.061910   \n",
       "1      11.250785 -0.028606 -0.484913  -1.264875 -0.429987  0.967385 -1.001235   \n",
       "2       8.773312 -1.304100 -2.975731  15.844832 -1.014392  9.681100  6.901244   \n",
       "3       7.140906 -0.706576 -4.087434   7.171380  1.410655  5.293826  2.058185   \n",
       "4       4.788603 -1.268151 -2.704121   2.395107  1.352515  2.798837  0.755153   \n",
       "...          ...       ...       ...        ...       ...       ...       ...   \n",
       "13656   6.700938  4.547329 -1.809050  -3.812576  0.739007 -1.305559 -0.850753   \n",
       "13657   6.637403  4.546697 -1.790657  -3.816037  0.699654 -1.445606 -0.926172   \n",
       "13658   6.582334  4.555572 -1.776734  -3.817629  0.658955 -1.591026 -1.009351   \n",
       "13659   6.523834  4.569352 -1.763998  -3.813433  0.626434 -1.684105 -1.064963   \n",
       "13660   6.477436  4.579785 -1.750751  -3.817537  0.595963 -1.771171 -1.118116   \n",
       "\n",
       "             P8         P9        P10       P11        P12       P13       P14  \n",
       "0      0.660440  -0.079713  -1.752990  0.229442   2.389817 -0.284886 -0.494532  \n",
       "1      4.449296  -1.148676  -1.297496 -1.480187   2.006869  0.072566 -0.151499  \n",
       "2     -3.125790  27.095738  46.955617 -4.045413  12.653101  4.766548 -0.784740  \n",
       "3     -0.095913  11.753912  22.351361 -2.424112   7.005019  2.397368  0.369435  \n",
       "4     -0.633777   2.202329   6.586427 -0.850385   3.342348 -0.497214  0.446388  \n",
       "...         ...        ...        ...       ...        ...       ...       ...  \n",
       "13656  0.117150   2.981989   0.959137  0.349857   1.009364  0.484703 -0.829143  \n",
       "13657  0.149470   3.066294   0.919508  0.349737   1.083454  0.457412 -0.813635  \n",
       "13658  0.185840   3.169918   0.880565  0.347239   1.159485  0.401438 -0.792857  \n",
       "13659  0.220620   3.250322   0.838122  0.343053   1.248096  0.356967 -0.772737  \n",
       "13660  0.250176   3.316606   0.803821  0.337919   1.340010  0.309010 -0.749763  \n",
       "\n",
       "[13661 rows x 14 columns]"
      ]
     },
     "execution_count": 72,
     "metadata": {},
     "output_type": "execute_result"
    }
   ],
   "source": [
    "from sklearn.decomposition import PCA\n",
    "\n",
    "data_ = data_scaled\n",
    "pca = PCA(n_components = 0.95)\n",
    "pca.fit(data_.iloc[:, data_.columns != 'Time'])\n",
    "reduced = pca.transform(data_.iloc[:, data_.columns != 'Time'])\n",
    "principal_components = pd.DataFrame(data = reduced, columns=[f\"P{col + 1}\" for col in range(reduced.shape[1])])\n",
    "principal_components"
   ]
  },
  {
   "cell_type": "markdown",
   "metadata": {
    "id": "_eblVmwQKb_a"
   },
   "source": [
    "## **[DONT RUN] Preprocess**: Feature Extraction (AutoEncoder)"
   ]
  },
  {
   "cell_type": "code",
   "execution_count": null,
   "metadata": {
    "colab": {
     "base_uri": "https://localhost:8080/",
     "height": 364
    },
    "id": "Uh6S0rN5KhIb",
    "outputId": "6fdd119d-f047-4d9d-9fca-5f20fb05f13c"
   },
   "outputs": [],
   "source": [
    "# We extract features of the whole set\n",
    "from tensorflow.keras import Model, Sequential\n",
    "from tensorflow.keras.layers import Dense, Dropout\n",
    "\n",
    "class AutoEncoders(Model):\n",
    "\n",
    "  def __init__(self, output_units):\n",
    "\n",
    "    super().__init__()\n",
    "    self.encoder = Sequential(\n",
    "        [\n",
    "          Dense(32, activation=\"relu\"),\n",
    "          Dense(16, activation=\"relu\"),\n",
    "          Dense(7, activation=\"relu\")\n",
    "        ]\n",
    "    )\n",
    "\n",
    "    self.decoder = Sequential(\n",
    "        [\n",
    "          Dense(16, activation=\"relu\"),\n",
    "          Dense(32, activation=\"relu\"),\n",
    "          Dense(output_units, activation=\"sigmoid\")\n",
    "        ]\n",
    "    )\n",
    "\n",
    "def call(self, inputs):\n",
    "\n",
    "  encoded = self.encoder(inputs)\n",
    "  decoded = self.decoder(encoded)\n",
    "  return decoded\n",
    "  \n",
    "auto_encoder = AutoEncoders(len(data_norm.columns))\n",
    "\n",
    "auto_encoder.compile(\n",
    "    loss='mae',\n",
    "    metrics=['mae'],\n",
    "    optimizer='adam'\n",
    ")\n",
    "\n",
    "history = auto_encoder.fit(\n",
    "    data_norm, \n",
    "    data_norm, \n",
    "    epochs=15, \n",
    "    batch_size=32, \n",
    "    validation_data=(data_norm, data_norm)\n",
    ")"
   ]
  },
  {
   "cell_type": "code",
   "execution_count": null,
   "metadata": {
    "id": "64p4xG9sKv8G"
   },
   "outputs": [],
   "source": [
    "# Get extracted auto encoder features\n",
    "encoder_layer = auto_encoder.get_layer('sequential')\n",
    "reduced_df = pd.DataFrame(encoder_layer.predict(data_norm))\n",
    "reduced_df = reduced_df.add_prefix('F')"
   ]
  },
  {
   "cell_type": "markdown",
   "metadata": {
    "id": "MVwxJmpqur7n"
   },
   "source": [
    "## **[DONT RUN] Preprocess**: Data merge"
   ]
  },
  {
   "cell_type": "code",
   "execution_count": 74,
   "metadata": {
    "colab": {
     "base_uri": "https://localhost:8080/"
    },
    "id": "GqwRZs58uuyw",
    "outputId": "e8373aa8-8ad1-4e58-c5b8-374c3cc481b5"
   },
   "outputs": [],
   "source": [
    "# Merge extracted features with scaled data\n",
    "\n",
    "data_processed = principal_components\n",
    "for col in encoded.columns:\n",
    "  data_processed[col] = encoded[col]\n",
    "data_processed.insert(0, 'Time', data_norm['Time'])"
   ]
  },
  {
   "cell_type": "markdown",
   "metadata": {
    "id": "NGXQlvjS0Cia"
   },
   "source": [
    "## Split the data"
   ]
  },
  {
   "cell_type": "code",
   "execution_count": 78,
   "metadata": {
    "colab": {
     "base_uri": "https://localhost:8080/"
    },
    "id": "AVcVBP2lh5pU",
    "outputId": "afd5236d-6b11-4ed8-e52f-8c2efc1b57cf"
   },
   "outputs": [
    {
     "name": "stdout",
     "output_type": "stream",
     "text": [
      "10929 2731\n"
     ]
    }
   ],
   "source": [
    "data_processed = principal_components\n",
    "\n",
    "i = round(len(data_processed)*.8)\n",
    "train = data_processed[0:i] # 80% of the data\n",
    "test = data_processed[i+1:len(data_processed)] # 20% of the data\n",
    "print(len(train), len(test))"
   ]
  },
  {
   "cell_type": "code",
   "execution_count": 79,
   "metadata": {
    "id": "f74bMcmkiKif"
   },
   "outputs": [],
   "source": [
    "# Split the data into two sets and save locally\n",
    "train.to_csv(f\"./data/SWaT_train.csv\", sep = ',', encoding = 'utf-8', index = False)\n",
    "test.to_csv(f\"./data/SWaT_test.csv\", sep = ',', encoding = 'utf-8', index = False)"
   ]
  }
 ],
 "metadata": {
  "colab": {
   "collapsed_sections": [
    "3KhCq_-BRg4z",
    "RuiZh5-We7Ch",
    "znnKhLKdWN_Q",
    "8jgari2nzU7M",
    "KIXJllPxzYLZ",
    "XuZv1sqszcGk",
    "bsGOqz_azgNe",
    "ALiy_yQUzjYA",
    "nq_6GKHkzltt",
    "UjS2gWRlpiWW",
    "GcVI08ozqiGF",
    "iqPf-HMFNbBI",
    "-EoHKZ7ogVId",
    "eWSk_DSswPY4",
    "_eblVmwQKb_a",
    "MVwxJmpqur7n",
    "GKRj9J8vg7Vb",
    "uQoliWsk5LqH"
   ],
   "name": "Anomaly_Detection_in_SWaT.ipynb",
   "provenance": []
  },
  "kernelspec": {
   "display_name": "Python 3 (ipykernel)",
   "language": "python",
   "name": "python3"
  },
  "language_info": {
   "codemirror_mode": {
    "name": "ipython",
    "version": 3
   },
   "file_extension": ".py",
   "mimetype": "text/x-python",
   "name": "python",
   "nbconvert_exporter": "python",
   "pygments_lexer": "ipython3",
   "version": "3.9.7"
  }
 },
 "nbformat": 4,
 "nbformat_minor": 1
}
