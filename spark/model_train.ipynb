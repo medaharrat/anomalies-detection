{
 "cells": [
  {
   "cell_type": "code",
   "execution_count": null,
   "id": "c25bd1ae",
   "metadata": {},
   "outputs": [],
   "source": [
    "import numpy as np\n",
    "import pandas as pd\n",
    "import seaborn as sns\n",
    "import matplotlib.pyplot as plt\n",
    "\n",
    "from sklearn.svm import OneClassSVM\n",
    "from sklearn import preprocessing\n",
    "from tqdm import tqdm\n",
    "\n",
    "%matplotlib inline"
   ]
  },
  {
   "cell_type": "markdown",
   "id": "feb6754a",
   "metadata": {},
   "source": [
    "## Load the data"
   ]
  },
  {
   "cell_type": "code",
   "execution_count": null,
   "id": "207cfc0d",
   "metadata": {},
   "outputs": [],
   "source": [
    "# Importing the dataset\n",
    "data = pd.read_csv('./data/SWaT_train.csv', delimiter=',')\n",
    "data"
   ]
  },
  {
   "cell_type": "markdown",
   "id": "455d5c57",
   "metadata": {},
   "source": [
    "## Clustering Models"
   ]
  },
  {
   "cell_type": "markdown",
   "id": "03427dfe",
   "metadata": {},
   "source": [
    "### Isolation forest"
   ]
  },
  {
   "cell_type": "code",
   "execution_count": null,
   "id": "ed28415f",
   "metadata": {},
   "outputs": [],
   "source": [
    "from sklearn.ensemble import IsolationForest\n",
    "from joblib import dump\n",
    "\n",
    "# Define a function\n",
    "def IsolationForestC(data, n_estimators, max_samples, contamination):\n",
    "  model = IsolationForest(\n",
    "      n_estimators = n_estimators, \n",
    "      max_samples = max_samples, \n",
    "      contamination = contamination,\n",
    "      random_state = np.random.RandomState(42)\n",
    "  )\n",
    "  model.fit(data)\n",
    "  return model\n",
    "\n",
    "# Hyper parameter tunning?\n",
    "\n",
    "# Create an instance\n",
    "clf = IsolationForestC(\n",
    "    data, \n",
    "    n_estimators=50, \n",
    "    max_samples=500, \n",
    "    contamination=0.01\n",
    ")\n",
    "\n",
    "# Get labels\n",
    "#preds = []\n",
    "#for i, row in data.iterrows():\n",
    "#  pred = clf.predict(np.asarray(row).reshape(1, -1))\n",
    "#  preds.append(pred[0])\n",
    "\n",
    "data_full = data.copy()\n",
    "data_full.insert(len(data_full.columns), 'Y', preds)\n",
    "data_full.to_csv('./data/SWaT_labeled.csv')\n",
    "\n",
    "#data_labeled = pd.read_csv('./data/SWaT_labeled.csv', delimiter=',')"
   ]
  },
  {
   "cell_type": "markdown",
   "id": "f3278858",
   "metadata": {},
   "source": [
    "## Classification Models"
   ]
  },
  {
   "cell_type": "markdown",
   "id": "90ae1cad",
   "metadata": {},
   "source": [
    "### Split the data into train and validation"
   ]
  },
  {
   "cell_type": "code",
   "execution_count": null,
   "id": "1d1f8089",
   "metadata": {},
   "outputs": [],
   "source": [
    "i = round(len(data)*.8)\n",
    "# 80% of the data\n",
    "X_train = np.asarray(data[0:i])\n",
    "y_train = np.asarray(preds[0:i])\n",
    "# 20% of the data\n",
    "X_valid = np.asarray(data[i+1:len(data)])\n",
    "y_valid = np.asarray(preds[i+1:len(preds)])\n",
    "# Print shapes\n",
    "print(X_train.shape, y_train.shape, X_valid.shape, y_valid.shape)"
   ]
  },
  {
   "cell_type": "markdown",
   "id": "dcbcb4ac",
   "metadata": {},
   "source": [
    "### Support Vector Classifier"
   ]
  },
  {
   "cell_type": "code",
   "execution_count": null,
   "id": "51d44625",
   "metadata": {},
   "outputs": [],
   "source": [
    "# Save model\n",
    "import pickle\n",
    "\n",
    "X = data.iloc[:, data.columns != 'Time']\n",
    "clf = OneClassSVM(gamma='auto').fit(X)\n",
    "\n",
    "# It is important to use binary access\n",
    "with open('../ocsvm.pickle', 'wb') as f:\n",
    "    pickle.dump(clf, f)"
   ]
  },
  {
   "cell_type": "markdown",
   "id": "bc197b6d",
   "metadata": {},
   "source": [
    "### Evaluation of SVC"
   ]
  },
  {
   "cell_type": "code",
   "execution_count": null,
   "id": "b7b55484",
   "metadata": {},
   "outputs": [],
   "source": [
    "model_lsvc, accuracy_lsvc, params_lsvc             = Linear_SupVectC(X_train, y_train, X_valid, y_valid)\n",
    "model_psvc, accuracy_psvc, params_psvc             = Poly_SupVectC(X_train, y_train, X_valid, y_valid)\n",
    "\n",
    "print(\"\\n|#| Best accuracy score %.4f\"%max(accuracy_lsvc) + \" achieved with params \" + str(params_lsvc[np.argmax(accuracy_lsvc)]))\n",
    "print(\"|#| Best accuracy score %.4f\"%max(accuracy_psvc) + \" achieved with params \" + str(params_psvc[np.argmax(accuracy_psvc)]))"
   ]
  },
  {
   "cell_type": "code",
   "execution_count": null,
   "id": "cc833147",
   "metadata": {},
   "outputs": [],
   "source": [
    "# Evaluation in test data\n",
    "model_psvc, accuracy_psvc, params_psvc             = Poly_SupVectC(X_train, y_train, X_valid, y_valid)"
   ]
  },
  {
   "cell_type": "markdown",
   "id": "99f2e934",
   "metadata": {},
   "source": [
    "### Save the model"
   ]
  },
  {
   "cell_type": "code",
   "execution_count": null,
   "id": "91363e8c",
   "metadata": {},
   "outputs": [],
   "source": [
    "# Save model\n",
    "import pickle\n",
    "\n",
    "# It is important to use binary access\n",
    "with open('./models/isolation_forest.pickle', 'wb') as f:\n",
    "    pickle.dump(clf, f)"
   ]
  },
  {
   "cell_type": "code",
   "execution_count": null,
   "id": "921caa50",
   "metadata": {},
   "outputs": [],
   "source": []
  }
 ],
 "metadata": {
  "kernelspec": {
   "display_name": "Python 3 (ipykernel)",
   "language": "python",
   "name": "python3"
  },
  "language_info": {
   "codemirror_mode": {
    "name": "ipython",
    "version": 3
   },
   "file_extension": ".py",
   "mimetype": "text/x-python",
   "name": "python",
   "nbconvert_exporter": "python",
   "pygments_lexer": "ipython3",
   "version": "3.8.12"
  }
 },
 "nbformat": 4,
 "nbformat_minor": 5
}
