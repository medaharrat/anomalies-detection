{
  "nbformat": 4,
  "nbformat_minor": 0,
  "metadata": {
    "colab": {
      "name": "Anomaly_Detection_in_SWaT.ipynb",
      "provenance": [],
      "collapsed_sections": [
        "3KhCq_-BRg4z",
        "RuiZh5-We7Ch",
        "znnKhLKdWN_Q",
        "8jgari2nzU7M",
        "KIXJllPxzYLZ",
        "XuZv1sqszcGk",
        "bsGOqz_azgNe",
        "ALiy_yQUzjYA",
        "nq_6GKHkzltt",
        "UjS2gWRlpiWW",
        "GcVI08ozqiGF",
        "iqPf-HMFNbBI",
        "-EoHKZ7ogVId",
        "eWSk_DSswPY4",
        "_eblVmwQKb_a",
        "MVwxJmpqur7n",
        "GKRj9J8vg7Vb",
        "uQoliWsk5LqH"
      ]
    },
    "kernelspec": {
      "name": "python3",
      "display_name": "Python 3"
    },
    "language_info": {
      "name": "python"
    }
  },
  "cells": [
    {
      "cell_type": "markdown",
      "metadata": {
        "id": "kNxUeuP1e25N"
      },
      "source": [
        "# **Real-time Anomaly Detection for Secure Water Treatment (RTA-SWaT)**\n",
        "* The project task is to visualize summaries of the data stream(s) and develop an ML model to detect anomalies in the data set.\n",
        "* In this project work we will use SWaT.A3_Jun 2017 . It is 136 hours of network traffic , historian data from continuously running SWaT and the data collected for 6 days "
      ]
    },
    {
      "cell_type": "code",
      "metadata": {
        "id": "Ozm-IwopRUrq"
      },
      "source": [
        "import os, time, datetime, io, csv\n",
        "import tensorflow as tf\n",
        "import pandas as pd\n",
        "import numpy as np\n",
        "import matplotlib.pyplot as plt\n",
        "import seaborn as sns"
      ],
      "execution_count": null,
      "outputs": []
    },
    {
      "cell_type": "markdown",
      "metadata": {
        "id": "3KhCq_-BRg4z"
      },
      "source": [
        "# Loading the dataset"
      ]
    },
    {
      "cell_type": "markdown",
      "metadata": {
        "id": "RuiZh5-We7Ch"
      },
      "source": [
        "## GDrive"
      ]
    },
    {
      "cell_type": "code",
      "metadata": {
        "colab": {
          "base_uri": "https://localhost:8080/"
        },
        "id": "JIiI0njxe7Ci",
        "outputId": "e8bf8d9e-4114-425b-fcee-a1db5d8d60dd"
      },
      "source": [
        "# Mount Google Drive\n",
        "from google.colab import drive\n",
        "drive.mount('/content/drive')"
      ],
      "execution_count": null,
      "outputs": [
        {
          "output_type": "stream",
          "name": "stdout",
          "text": [
            "Mounted at /content/drive\n"
          ]
        }
      ]
    },
    {
      "cell_type": "code",
      "metadata": {
        "colab": {
          "base_uri": "https://localhost:8080/"
        },
        "id": "ZRS-HPuHe7Ci",
        "outputId": "ab88337c-3be2-4a22-f26a-58a42f1c0c46"
      },
      "source": [
        "# Load from GDrive\n",
        "ROOT_PATH = '/content/drive/My Drive/Datasets'\n",
        "RAR_PATH  = os.path.join(ROOT_PATH, 'SWaT.A3_2017 HistorianData-20201221T203431Z-001')\n",
        "FILE_PATH = os.path.abspath(f\"{ROOT_PATH}/SWaT_A3/All.xlsx\")\n",
        "\n",
        "!unrar x -Y \"{RAR_PATH}.rar\" \"{ROOT_PATH}\""
      ],
      "execution_count": null,
      "outputs": [
        {
          "output_type": "stream",
          "name": "stdout",
          "text": [
            "\n",
            "UNRAR 5.50 freeware      Copyright (c) 1993-2017 Alexander Roshal\n",
            "\n",
            "\n",
            "Extracting from /content/drive/My Drive/Datasets/SWaT.A3_2017 HistorianData-20201221T203431Z-001.rar\n",
            "\n",
            "Creating    /content/drive/My Drive/Datasets/SWaT.A3_2017 HistorianData-20201221T203431Z-001  OK\n",
            "Creating    /content/drive/My Drive/Datasets/SWaT.A3_2017 HistorianData-20201221T203431Z-001/HistorianData  OK\n",
            "Extracting  /content/drive/My Drive/Datasets/SWaT.A3_2017 HistorianData-20201221T203431Z-001/HistorianData/All.xlsx     \b\b\b\b  0%\b\b\b\b  1%\b\b\b\b  2%\b\b\b\b  3%\b\b\b\b  4%\b\b\b\b  5%\b\b\b\b  6%\b\b\b\b  7%\b\b\b\b  8%\b\b\b\b  9%\b\b\b\b 10%\b\b\b\b 11%\b\b\b\b 12%\b\b\b\b 13%\b\b\b\b 14%\b\b\b\b 15%\b\b\b\b 16%\b\b\b\b 17%\b\b\b\b 18%\b\b\b\b 19%\b\b\b\b 20%\b\b\b\b 21%\b\b\b\b 22%\b\b\b\b 23%\b\b\b\b 24%\b\b\b\b 25%\b\b\b\b 26%\b\b\b\b 27%\b\b\b\b 28%\b\b\b\b 29%\b\b\b\b 30%\b\b\b\b 31%\b\b\b\b 32%\b\b\b\b 33%\b\b\b\b 34%\b\b\b\b 35%\b\b\b\b 36%\b\b\b\b 37%\b\b\b\b 38%\b\b\b\b 39%\b\b\b\b 40%\b\b\b\b 41%\b\b\b\b 42%\b\b\b\b 43%\b\b\b\b 44%\b\b\b\b 45%\b\b\b\b 46%\b\b\b\b 47%\b\b\b\b 48%\b\b\b\b 49%\b\b\b\b 50%\b\b\b\b 51%\b\b\b\b 52%\b\b\b\b 53%\b\b\b\b 54%\b\b\b\b 55%\b\b\b\b 56%\b\b\b\b 57%\b\b\b\b 58%\b\b\b\b 59%\b\b\b\b 60%\b\b\b\b 61%\b\b\b\b 62%\b\b\b\b 63%\b\b\b\b 64%\b\b\b\b 65%\b\b\b\b 66%\b\b\b\b 67%\b\b\b\b 68%\b\b\b\b 69%\b\b\b\b 70%\b\b\b\b\b  OK \n",
            "Extracting  /content/drive/My Drive/Datasets/SWaT.A3_2017 HistorianData-20201221T203431Z-001/HistorianData/DataNew13-14.csv     \b\b\b\b 71%\b\b\b\b 72%\b\b\b\b\b  OK \n",
            "Extracting  /content/drive/My Drive/Datasets/SWaT.A3_2017 HistorianData-20201221T203431Z-001/HistorianData/DataNew13-14.png     \b\b\b\b 73%\b\b\b\b 74%\b\b\b\b\b  OK \n",
            "Extracting  /content/drive/My Drive/Datasets/SWaT.A3_2017 HistorianData-20201221T203431Z-001/HistorianData/DataNew14-15.csv     \b\b\b\b 75%\b\b\b\b 76%\b\b\b\b\b  OK \n",
            "Extracting  /content/drive/My Drive/Datasets/SWaT.A3_2017 HistorianData-20201221T203431Z-001/HistorianData/DataNew14-15.png     \b\b\b\b 77%\b\b\b\b 78%\b\b\b\b 79%\b\b\b\b\b  OK \n",
            "Extracting  /content/drive/My Drive/Datasets/SWaT.A3_2017 HistorianData-20201221T203431Z-001/HistorianData/DataNew15-16.csv     \b\b\b\b 79%\b\b\b\b 80%\b\b\b\b 81%\b\b\b\b\b  OK \n",
            "Extracting  /content/drive/My Drive/Datasets/SWaT.A3_2017 HistorianData-20201221T203431Z-001/HistorianData/DataNew15-16.png     \b\b\b\b 82%\b\b\b\b 83%\b\b\b\b 84%\b\b\b\b\b  OK \n",
            "Extracting  /content/drive/My Drive/Datasets/SWaT.A3_2017 HistorianData-20201221T203431Z-001/HistorianData/DataNew16-17.csv     \b\b\b\b 85%\b\b\b\b 86%\b\b\b\b 87%\b\b\b\b\b  OK \n",
            "Extracting  /content/drive/My Drive/Datasets/SWaT.A3_2017 HistorianData-20201221T203431Z-001/HistorianData/DataNew16-17.png     \b\b\b\b 87%\b\b\b\b 88%\b\b\b\b 89%\b\b\b\b\b  OK \n",
            "Extracting  /content/drive/My Drive/Datasets/SWaT.A3_2017 HistorianData-20201221T203431Z-001/HistorianData/DataNew17-18.csv     \b\b\b\b 90%\b\b\b\b 91%\b\b\b\b 92%\b\b\b\b\b  OK \n",
            "Extracting  /content/drive/My Drive/Datasets/SWaT.A3_2017 HistorianData-20201221T203431Z-001/HistorianData/DataNew17-18.png     \b\b\b\b 93%\b\b\b\b 94%\b\b\b\b\b  OK \n",
            "Extracting  /content/drive/My Drive/Datasets/SWaT.A3_2017 HistorianData-20201221T203431Z-001/HistorianData/DataNew18-19.csv     \b\b\b\b 95%\b\b\b\b 96%\b\b\b\b 97%\b\b\b\b\b  OK \n",
            "Extracting  /content/drive/My Drive/Datasets/SWaT.A3_2017 HistorianData-20201221T203431Z-001/HistorianData/DataNew18-19.png     \b\b\b\b 98%\b\b\b\b 99%\b\b\b\b\b  OK \n",
            "All OK\n"
          ]
        }
      ]
    },
    {
      "cell_type": "code",
      "metadata": {
        "colab": {
          "base_uri": "https://localhost:8080/"
        },
        "id": "ipYbYKZfe7Cj",
        "outputId": "fe462d2b-95ce-46af-a1f6-28d4ea969bba"
      },
      "source": [
        "print(f\"Moving the file to {ROOT_PATH}/SWaT_A3 ...\")\n",
        "try:\n",
        "  !mkdir \"{ROOT_PATH}/SWaT_A3\"\n",
        "  !mv \"{RAR_PATH}/HistorianData/All.xlsx\" \"{ROOT_PATH}/SWaT_A3\"\n",
        "  !rm -rf \"{RAR_PATH}\"\n",
        "except:\n",
        "  print(\"x_x Something went wrong!\")\n",
        "finally:\n",
        "  print(\"> Done\")"
      ],
      "execution_count": null,
      "outputs": [
        {
          "output_type": "stream",
          "name": "stdout",
          "text": [
            "Moving the file to /content/drive/My Drive/Datasets/SWaT_A3 ...\n",
            "mkdir: cannot create directory ‘/content/drive/My Drive/Datasets/SWaT_A3’: File exists\n",
            "> Done\n"
          ]
        }
      ]
    },
    {
      "cell_type": "markdown",
      "metadata": {
        "id": "znnKhLKdWN_Q"
      },
      "source": [
        "## Load"
      ]
    },
    {
      "cell_type": "code",
      "metadata": {
        "colab": {
          "base_uri": "https://localhost:8080/"
        },
        "id": "U_a5Hw6aUKPq",
        "outputId": "5af0110e-9353-488b-e826-057378c46462"
      },
      "source": [
        "# Importing the datase\n",
        "data = pd.read_excel(FILE_PATH, header = 1)\n",
        "# Showing sample values from the dataset\n",
        "data.head()"
      ],
      "execution_count": null,
      "outputs": [
        {
          "output_type": "execute_result",
          "data": {
            "text/html": [
              "<div>\n",
              "<style scoped>\n",
              "    .dataframe tbody tr th:only-of-type {\n",
              "        vertical-align: middle;\n",
              "    }\n",
              "\n",
              "    .dataframe tbody tr th {\n",
              "        vertical-align: top;\n",
              "    }\n",
              "\n",
              "    .dataframe thead th {\n",
              "        text-align: right;\n",
              "    }\n",
              "</style>\n",
              "<table border=\"1\" class=\"dataframe\">\n",
              "  <thead>\n",
              "    <tr style=\"text-align: right;\">\n",
              "      <th></th>\n",
              "      <th>Time</th>\n",
              "      <th>SWAT_SUTD:RSLinx Enterprise:P1.HMI_FIT101.Pv</th>\n",
              "      <th>SWAT_SUTD:RSLinx Enterprise:P1.HMI_LIT101.Pv</th>\n",
              "      <th>SWAT_SUTD:RSLinx Enterprise:P2.HMI_AIT201.Pv</th>\n",
              "      <th>SWAT_SUTD:RSLinx Enterprise:P2.HMI_AIT202.Pv</th>\n",
              "      <th>SWAT_SUTD:RSLinx Enterprise:P2.HMI_AIT203.Pv</th>\n",
              "      <th>SWAT_SUTD:RSLinx Enterprise:P2.HMI_FIT201.Pv</th>\n",
              "      <th>SWAT_SUTD:RSLinx Enterprise:P3.HMI_DPIT301.Pv</th>\n",
              "      <th>SWAT_SUTD:RSLinx Enterprise:P3.HMI_FIT301.Pv</th>\n",
              "      <th>SWAT_SUTD:RSLinx Enterprise:P3.HMI_LIT301.Pv</th>\n",
              "      <th>SWAT_SUTD:RSLinx Enterprise:P4.HMI_AIT401.Pv</th>\n",
              "      <th>SWAT_SUTD:RSLinx Enterprise:P4.HMI_AIT402.Pv</th>\n",
              "      <th>SWAT_SUTD:RSLinx Enterprise:P4.HMI_FIT401.Pv</th>\n",
              "      <th>SWAT_SUTD:RSLinx Enterprise:P4.HMI_LIT401.Pv</th>\n",
              "      <th>SWAT_SUTD:RSLinx Enterprise:P5.HMI_AIT501.Pv</th>\n",
              "      <th>SWAT_SUTD:RSLinx Enterprise:P5.HMI_AIT502.Pv</th>\n",
              "      <th>SWAT_SUTD:RSLinx Enterprise:P5.HMI_AIT503.Pv</th>\n",
              "      <th>SWAT_SUTD:RSLinx Enterprise:P5.HMI_AIT504.Pv</th>\n",
              "      <th>SWAT_SUTD:RSLinx Enterprise:P5.HMI_FIT501.Pv</th>\n",
              "      <th>SWAT_SUTD:RSLinx Enterprise:P5.HMI_FIT502.Pv</th>\n",
              "      <th>SWAT_SUTD:RSLinx Enterprise:P5.HMI_FIT503.Pv</th>\n",
              "      <th>SWAT_SUTD:RSLinx Enterprise:P5.HMI_FIT504.Pv</th>\n",
              "      <th>SWAT_SUTD:RSLinx Enterprise:P5.HMI_PIT501.Pv</th>\n",
              "      <th>SWAT_SUTD:RSLinx Enterprise:P5.HMI_PIT502.Pv</th>\n",
              "      <th>SWAT_SUTD:RSLinx Enterprise:P5.HMI_PIT503.Pv</th>\n",
              "      <th>SWAT_SUTD:RSLinx Enterprise:P6.HMI_FIT601.Pv</th>\n",
              "      <th>SWAT_SUTD:RSLinx Enterprise:P1.HMI_MV101.Status</th>\n",
              "      <th>SWAT_SUTD:RSLinx Enterprise:P1.HMI_P101.Status</th>\n",
              "      <th>SWAT_SUTD:RSLinx Enterprise:P1.HMI_P102.Status</th>\n",
              "      <th>SWAT_SUTD:RSLinx Enterprise:P2.HMI_MV201.Status</th>\n",
              "      <th>SWAT_SUTD:RSLinx Enterprise:P2.HMI_P201.Status</th>\n",
              "      <th>SWAT_SUTD:RSLinx Enterprise:P2.HMI_P202.Status</th>\n",
              "      <th>SWAT_SUTD:RSLinx Enterprise:P2.HMI_P203.Status</th>\n",
              "      <th>SWAT_SUTD:RSLinx Enterprise:P2.HMI_P204.Status</th>\n",
              "      <th>SWAT_SUTD:RSLinx Enterprise:P2.HMI_P205.Status</th>\n",
              "      <th>SWAT_SUTD:RSLinx Enterprise:P2.HMI_P206.Status</th>\n",
              "      <th>SWAT_SUTD:RSLinx Enterprise:P3.HMI_MV301.Status</th>\n",
              "      <th>SWAT_SUTD:RSLinx Enterprise:P3.HMI_MV302.Status</th>\n",
              "      <th>SWAT_SUTD:RSLinx Enterprise:P3.HMI_MV303.Status</th>\n",
              "      <th>SWAT_SUTD:RSLinx Enterprise:P3.HMI_MV304.Status</th>\n",
              "      <th>SWAT_SUTD:RSLinx Enterprise:P3.HMI_P301.Status</th>\n",
              "      <th>SWAT_SUTD:RSLinx Enterprise:P3.HMI_P302.Status</th>\n",
              "      <th>SWAT_SUTD:RSLinx Enterprise:P4.HMI_P401.Status</th>\n",
              "      <th>SWAT_SUTD:RSLinx Enterprise:P4.HMI_P402.Status</th>\n",
              "      <th>SWAT_SUTD:RSLinx Enterprise:P4.HMI_P403.Status</th>\n",
              "      <th>SWAT_SUTD:RSLinx Enterprise:P4.HMI_P404.Status</th>\n",
              "      <th>SWAT_SUTD:RSLinx Enterprise:P5.HMI_P501.Status</th>\n",
              "      <th>SWAT_SUTD:RSLinx Enterprise:P5.HMI_P502.Status</th>\n",
              "      <th>SWAT_SUTD:RSLinx Enterprise:P6.HMI_P601.Status</th>\n",
              "      <th>SWAT_SUTD:RSLinx Enterprise:P6.HMI_P602.Status</th>\n",
              "      <th>SWAT_SUTD:RSLinx Enterprise:P6.HMI_P603.Status</th>\n",
              "      <th>SWAT_SUTD:RSLinx Enterprise:P4.HMI_UV401.Status</th>\n",
              "    </tr>\n",
              "  </thead>\n",
              "  <tbody>\n",
              "    <tr>\n",
              "      <th>0</th>\n",
              "      <td>13/6/2017 4:23:00.000 PM</td>\n",
              "      <td>0.0</td>\n",
              "      <td>578.62</td>\n",
              "      <td>1017.01</td>\n",
              "      <td>6.96</td>\n",
              "      <td>386.75</td>\n",
              "      <td>0.0</td>\n",
              "      <td>2.85</td>\n",
              "      <td>0.00</td>\n",
              "      <td>1007.95</td>\n",
              "      <td>0</td>\n",
              "      <td>65.16</td>\n",
              "      <td>0.00</td>\n",
              "      <td>482.11</td>\n",
              "      <td>7.12</td>\n",
              "      <td>112.69</td>\n",
              "      <td>239.20</td>\n",
              "      <td>33.30</td>\n",
              "      <td>0.00</td>\n",
              "      <td>0.00</td>\n",
              "      <td>0.00</td>\n",
              "      <td>0.0</td>\n",
              "      <td>9.61</td>\n",
              "      <td>0.00</td>\n",
              "      <td>7.98</td>\n",
              "      <td>0.0</td>\n",
              "      <td>1</td>\n",
              "      <td>1</td>\n",
              "      <td>1</td>\n",
              "      <td>1</td>\n",
              "      <td>1</td>\n",
              "      <td>1</td>\n",
              "      <td>1</td>\n",
              "      <td>1</td>\n",
              "      <td>1</td>\n",
              "      <td>1</td>\n",
              "      <td>1</td>\n",
              "      <td>1</td>\n",
              "      <td>1</td>\n",
              "      <td>1</td>\n",
              "      <td>1</td>\n",
              "      <td>1</td>\n",
              "      <td>1</td>\n",
              "      <td>1</td>\n",
              "      <td>1</td>\n",
              "      <td>1</td>\n",
              "      <td>1</td>\n",
              "      <td>1</td>\n",
              "      <td>1</td>\n",
              "      <td>1</td>\n",
              "      <td>1</td>\n",
              "      <td>1</td>\n",
              "    </tr>\n",
              "    <tr>\n",
              "      <th>1</th>\n",
              "      <td>13/6/2017 4:23:37.961 PM</td>\n",
              "      <td>0.0</td>\n",
              "      <td>578.55</td>\n",
              "      <td>1017.01</td>\n",
              "      <td>6.96</td>\n",
              "      <td>386.51</td>\n",
              "      <td>0.0</td>\n",
              "      <td>1.57</td>\n",
              "      <td>0.00</td>\n",
              "      <td>1008.24</td>\n",
              "      <td>0</td>\n",
              "      <td>65.27</td>\n",
              "      <td>0.00</td>\n",
              "      <td>482.24</td>\n",
              "      <td>7.12</td>\n",
              "      <td>112.54</td>\n",
              "      <td>239.20</td>\n",
              "      <td>33.30</td>\n",
              "      <td>0.00</td>\n",
              "      <td>0.00</td>\n",
              "      <td>0.00</td>\n",
              "      <td>0.0</td>\n",
              "      <td>9.61</td>\n",
              "      <td>0.00</td>\n",
              "      <td>7.98</td>\n",
              "      <td>0.0</td>\n",
              "      <td>1</td>\n",
              "      <td>1</td>\n",
              "      <td>1</td>\n",
              "      <td>1</td>\n",
              "      <td>1</td>\n",
              "      <td>1</td>\n",
              "      <td>1</td>\n",
              "      <td>1</td>\n",
              "      <td>1</td>\n",
              "      <td>1</td>\n",
              "      <td>1</td>\n",
              "      <td>1</td>\n",
              "      <td>1</td>\n",
              "      <td>0</td>\n",
              "      <td>1</td>\n",
              "      <td>1</td>\n",
              "      <td>1</td>\n",
              "      <td>1</td>\n",
              "      <td>1</td>\n",
              "      <td>1</td>\n",
              "      <td>1</td>\n",
              "      <td>1</td>\n",
              "      <td>1</td>\n",
              "      <td>1</td>\n",
              "      <td>1</td>\n",
              "      <td>1</td>\n",
              "    </tr>\n",
              "    <tr>\n",
              "      <th>2</th>\n",
              "      <td>13/6/2017 4:24:15.922 PM</td>\n",
              "      <td>0.0</td>\n",
              "      <td>577.87</td>\n",
              "      <td>1017.01</td>\n",
              "      <td>6.96</td>\n",
              "      <td>386.77</td>\n",
              "      <td>0.0</td>\n",
              "      <td>9.87</td>\n",
              "      <td>2.07</td>\n",
              "      <td>997.83</td>\n",
              "      <td>0</td>\n",
              "      <td>62.75</td>\n",
              "      <td>1.06</td>\n",
              "      <td>476.48</td>\n",
              "      <td>7.12</td>\n",
              "      <td>110.19</td>\n",
              "      <td>237.86</td>\n",
              "      <td>351.16</td>\n",
              "      <td>1.06</td>\n",
              "      <td>0.80</td>\n",
              "      <td>0.23</td>\n",
              "      <td>0.0</td>\n",
              "      <td>9.61</td>\n",
              "      <td>0.00</td>\n",
              "      <td>136.30</td>\n",
              "      <td>0.0</td>\n",
              "      <td>1</td>\n",
              "      <td>1</td>\n",
              "      <td>1</td>\n",
              "      <td>1</td>\n",
              "      <td>1</td>\n",
              "      <td>1</td>\n",
              "      <td>1</td>\n",
              "      <td>1</td>\n",
              "      <td>1</td>\n",
              "      <td>1</td>\n",
              "      <td>1</td>\n",
              "      <td>0</td>\n",
              "      <td>1</td>\n",
              "      <td>2</td>\n",
              "      <td>2</td>\n",
              "      <td>1</td>\n",
              "      <td>2</td>\n",
              "      <td>1</td>\n",
              "      <td>1</td>\n",
              "      <td>1</td>\n",
              "      <td>1</td>\n",
              "      <td>1</td>\n",
              "      <td>1</td>\n",
              "      <td>1</td>\n",
              "      <td>1</td>\n",
              "      <td>2</td>\n",
              "    </tr>\n",
              "    <tr>\n",
              "      <th>3</th>\n",
              "      <td>13/6/2017 4:24:53.883 PM</td>\n",
              "      <td>0.0</td>\n",
              "      <td>578.65</td>\n",
              "      <td>1017.01</td>\n",
              "      <td>6.95</td>\n",
              "      <td>386.77</td>\n",
              "      <td>0.0</td>\n",
              "      <td>17.94</td>\n",
              "      <td>2.05</td>\n",
              "      <td>983.35</td>\n",
              "      <td>0</td>\n",
              "      <td>61.68</td>\n",
              "      <td>1.06</td>\n",
              "      <td>474.75</td>\n",
              "      <td>7.12</td>\n",
              "      <td>109.07</td>\n",
              "      <td>238.66</td>\n",
              "      <td>186.03</td>\n",
              "      <td>1.05</td>\n",
              "      <td>0.76</td>\n",
              "      <td>0.23</td>\n",
              "      <td>0.0</td>\n",
              "      <td>9.61</td>\n",
              "      <td>0.00</td>\n",
              "      <td>136.47</td>\n",
              "      <td>0.0</td>\n",
              "      <td>1</td>\n",
              "      <td>1</td>\n",
              "      <td>1</td>\n",
              "      <td>1</td>\n",
              "      <td>1</td>\n",
              "      <td>1</td>\n",
              "      <td>1</td>\n",
              "      <td>1</td>\n",
              "      <td>1</td>\n",
              "      <td>1</td>\n",
              "      <td>1</td>\n",
              "      <td>2</td>\n",
              "      <td>1</td>\n",
              "      <td>1</td>\n",
              "      <td>2</td>\n",
              "      <td>1</td>\n",
              "      <td>2</td>\n",
              "      <td>1</td>\n",
              "      <td>1</td>\n",
              "      <td>1</td>\n",
              "      <td>1</td>\n",
              "      <td>1</td>\n",
              "      <td>1</td>\n",
              "      <td>1</td>\n",
              "      <td>1</td>\n",
              "      <td>2</td>\n",
              "    </tr>\n",
              "    <tr>\n",
              "      <th>4</th>\n",
              "      <td>13/6/2017 4:25:31.844 PM</td>\n",
              "      <td>0.0</td>\n",
              "      <td>578.98</td>\n",
              "      <td>1017.01</td>\n",
              "      <td>6.96</td>\n",
              "      <td>386.64</td>\n",
              "      <td>0.0</td>\n",
              "      <td>17.80</td>\n",
              "      <td>2.06</td>\n",
              "      <td>967.78</td>\n",
              "      <td>0</td>\n",
              "      <td>60.50</td>\n",
              "      <td>1.24</td>\n",
              "      <td>480.84</td>\n",
              "      <td>7.12</td>\n",
              "      <td>107.33</td>\n",
              "      <td>237.86</td>\n",
              "      <td>81.21</td>\n",
              "      <td>1.25</td>\n",
              "      <td>0.97</td>\n",
              "      <td>0.26</td>\n",
              "      <td>0.0</td>\n",
              "      <td>9.61</td>\n",
              "      <td>1.17</td>\n",
              "      <td>160.35</td>\n",
              "      <td>0.0</td>\n",
              "      <td>1</td>\n",
              "      <td>1</td>\n",
              "      <td>1</td>\n",
              "      <td>1</td>\n",
              "      <td>1</td>\n",
              "      <td>1</td>\n",
              "      <td>1</td>\n",
              "      <td>1</td>\n",
              "      <td>1</td>\n",
              "      <td>1</td>\n",
              "      <td>1</td>\n",
              "      <td>2</td>\n",
              "      <td>1</td>\n",
              "      <td>1</td>\n",
              "      <td>2</td>\n",
              "      <td>1</td>\n",
              "      <td>2</td>\n",
              "      <td>1</td>\n",
              "      <td>1</td>\n",
              "      <td>1</td>\n",
              "      <td>2</td>\n",
              "      <td>1</td>\n",
              "      <td>1</td>\n",
              "      <td>1</td>\n",
              "      <td>1</td>\n",
              "      <td>2</td>\n",
              "    </tr>\n",
              "  </tbody>\n",
              "</table>\n",
              "</div>"
            ],
            "text/plain": [
              "                       Time  ...  SWAT_SUTD:RSLinx Enterprise:P4.HMI_UV401.Status\n",
              "0  13/6/2017 4:23:00.000 PM  ...                                                1\n",
              "1  13/6/2017 4:23:37.961 PM  ...                                                1\n",
              "2  13/6/2017 4:24:15.922 PM  ...                                                2\n",
              "3  13/6/2017 4:24:53.883 PM  ...                                                2\n",
              "4  13/6/2017 4:25:31.844 PM  ...                                                2\n",
              "\n",
              "[5 rows x 52 columns]"
            ]
          },
          "metadata": {},
          "execution_count": 5
        }
      ]
    },
    {
      "cell_type": "markdown",
      "metadata": {
        "id": "-7_DnJQCamK2"
      },
      "source": [
        "# EDA and Data Preprocessing"
      ]
    },
    {
      "cell_type": "markdown",
      "metadata": {
        "id": "8jgari2nzU7M"
      },
      "source": [
        "## Re-write col names"
      ]
    },
    {
      "cell_type": "code",
      "metadata": {
        "id": "RmvlR0jhbFRN",
        "colab": {
          "base_uri": "https://localhost:8080/"
        },
        "outputId": "548ee235-1bce-4af0-861f-bf02fb2e0bdf"
      },
      "source": [
        "\n",
        "cols"
      ],
      "execution_count": null,
      "outputs": [
        {
          "output_type": "execute_result",
          "data": {
            "text/plain": [
              "['Time',\n",
              " 'HMI_FIT101',\n",
              " 'HMI_LIT101',\n",
              " 'HMI_AIT201',\n",
              " 'HMI_AIT202',\n",
              " 'HMI_AIT203',\n",
              " 'HMI_FIT201',\n",
              " 'HMI_DPIT301',\n",
              " 'HMI_FIT301',\n",
              " 'HMI_LIT301',\n",
              " 'HMI_AIT401',\n",
              " 'HMI_AIT402',\n",
              " 'HMI_FIT401',\n",
              " 'HMI_LIT401',\n",
              " 'HMI_AIT501',\n",
              " 'HMI_AIT502',\n",
              " 'HMI_AIT503',\n",
              " 'HMI_AIT504',\n",
              " 'HMI_FIT501',\n",
              " 'HMI_FIT502',\n",
              " 'HMI_FIT503',\n",
              " 'HMI_FIT504',\n",
              " 'HMI_PIT501',\n",
              " 'HMI_PIT502',\n",
              " 'HMI_PIT503',\n",
              " 'HMI_FIT601',\n",
              " 'HMI_MV101',\n",
              " 'HMI_P101',\n",
              " 'HMI_P102',\n",
              " 'HMI_MV201',\n",
              " 'HMI_P201',\n",
              " 'HMI_P202',\n",
              " 'HMI_P203',\n",
              " 'HMI_P204',\n",
              " 'HMI_P205',\n",
              " 'HMI_P206',\n",
              " 'HMI_MV301',\n",
              " 'HMI_MV302',\n",
              " 'HMI_MV303',\n",
              " 'HMI_MV304',\n",
              " 'HMI_P301',\n",
              " 'HMI_P302',\n",
              " 'HMI_P401',\n",
              " 'HMI_P402',\n",
              " 'HMI_P403',\n",
              " 'HMI_P404',\n",
              " 'HMI_P501',\n",
              " 'HMI_P502',\n",
              " 'HMI_P601',\n",
              " 'HMI_P602',\n",
              " 'HMI_P603',\n",
              " 'HMI_UV401']"
            ]
          },
          "metadata": {},
          "execution_count": 16
        }
      ]
    },
    {
      "cell_type": "markdown",
      "metadata": {
        "id": "KIXJllPxzYLZ"
      },
      "source": [
        "## Data properties"
      ]
    },
    {
      "cell_type": "code",
      "metadata": {
        "colab": {
          "base_uri": "https://localhost:8080/"
        },
        "id": "dJvrEZXzgorL",
        "outputId": "cdd4407f-ad2c-4d77-8ee1-f9f803e10626"
      },
      "source": [
        "# Data shape\n",
        "data.shape"
      ],
      "execution_count": null,
      "outputs": [
        {
          "output_type": "execute_result",
          "data": {
            "text/plain": [
              "(13661, 52)"
            ]
          },
          "metadata": {},
          "execution_count": 8
        }
      ]
    },
    {
      "cell_type": "code",
      "metadata": {
        "colab": {
          "base_uri": "https://localhost:8080/"
        },
        "id": "lSfK-TzJatiB",
        "outputId": "f9791243-3644-4b6d-c8ec-828d902efdf5"
      },
      "source": [
        "# Data types\n",
        "data.dtypes"
      ],
      "execution_count": null,
      "outputs": [
        {
          "output_type": "execute_result",
          "data": {
            "text/plain": [
              "Time            object\n",
              "HMI_FIT101     float64\n",
              "HMI_LIT101     float64\n",
              "HMI_AIT201     float64\n",
              "HMI_AIT202     float64\n",
              "HMI_AIT203     float64\n",
              "HMI_FIT201     float64\n",
              "HMI_DPIT301    float64\n",
              "HMI_FIT301     float64\n",
              "HMI_LIT301     float64\n",
              "HMI_AIT401       int64\n",
              "HMI_AIT402     float64\n",
              "HMI_FIT401     float64\n",
              "HMI_LIT401     float64\n",
              "HMI_AIT501     float64\n",
              "HMI_AIT502     float64\n",
              "HMI_AIT503     float64\n",
              "HMI_AIT504     float64\n",
              "HMI_FIT501     float64\n",
              "HMI_FIT502     float64\n",
              "HMI_FIT503     float64\n",
              "HMI_FIT504     float64\n",
              "HMI_PIT501     float64\n",
              "HMI_PIT502     float64\n",
              "HMI_PIT503     float64\n",
              "HMI_FIT601     float64\n",
              "HMI_MV101        int64\n",
              "HMI_P101         int64\n",
              "HMI_P102         int64\n",
              "HMI_MV201        int64\n",
              "HMI_P201         int64\n",
              "HMI_P202         int64\n",
              "HMI_P203         int64\n",
              "HMI_P204         int64\n",
              "HMI_P205         int64\n",
              "HMI_P206         int64\n",
              "HMI_MV301        int64\n",
              "HMI_MV302        int64\n",
              "HMI_MV303        int64\n",
              "HMI_MV304        int64\n",
              "HMI_P301         int64\n",
              "HMI_P302         int64\n",
              "HMI_P401         int64\n",
              "HMI_P402         int64\n",
              "HMI_P403         int64\n",
              "HMI_P404         int64\n",
              "HMI_P501         int64\n",
              "HMI_P502         int64\n",
              "HMI_P601         int64\n",
              "HMI_P602         int64\n",
              "HMI_P603         int64\n",
              "HMI_UV401        int64\n",
              "dtype: object"
            ]
          },
          "metadata": {},
          "execution_count": 9
        }
      ]
    },
    {
      "cell_type": "code",
      "metadata": {
        "colab": {
          "base_uri": "https://localhost:8080/"
        },
        "id": "sz3DzgmrfdcT",
        "outputId": "5df302ad-a8c7-42cf-9e21-3696a0831aaf"
      },
      "source": [
        "# Msssing values \n",
        "# data.isnull().sum().sort_values(ascending=False) columns wise\n",
        "data.isnull().sum().sum()"
      ],
      "execution_count": null,
      "outputs": [
        {
          "output_type": "execute_result",
          "data": {
            "text/plain": [
              "0"
            ]
          },
          "metadata": {},
          "execution_count": 10
        }
      ]
    },
    {
      "cell_type": "code",
      "metadata": {
        "colab": {
          "base_uri": "https://localhost:8080/"
        },
        "id": "9hRqUPLvfqYK",
        "outputId": "5ee818c0-bb67-4e51-a87c-ce581303cef2"
      },
      "source": [
        "# Duplicated rows\n",
        "data.duplicated().sum()"
      ],
      "execution_count": null,
      "outputs": [
        {
          "output_type": "execute_result",
          "data": {
            "text/plain": [
              "0"
            ]
          },
          "metadata": {},
          "execution_count": 11
        }
      ]
    },
    {
      "cell_type": "markdown",
      "metadata": {
        "id": "XuZv1sqszcGk"
      },
      "source": [
        "## Data statistics"
      ]
    },
    {
      "cell_type": "code",
      "metadata": {
        "colab": {
          "base_uri": "https://localhost:8080/"
        },
        "id": "XZ8GheN-eBLs",
        "outputId": "8ff9489d-ad26-4463-af07-180f18156bfe"
      },
      "source": [
        "# Describe data\n",
        "data.describe()"
      ],
      "execution_count": null,
      "outputs": [
        {
          "output_type": "execute_result",
          "data": {
            "text/html": [
              "<div>\n",
              "<style scoped>\n",
              "    .dataframe tbody tr th:only-of-type {\n",
              "        vertical-align: middle;\n",
              "    }\n",
              "\n",
              "    .dataframe tbody tr th {\n",
              "        vertical-align: top;\n",
              "    }\n",
              "\n",
              "    .dataframe thead th {\n",
              "        text-align: right;\n",
              "    }\n",
              "</style>\n",
              "<table border=\"1\" class=\"dataframe\">\n",
              "  <thead>\n",
              "    <tr style=\"text-align: right;\">\n",
              "      <th></th>\n",
              "      <th>HMI_FIT101</th>\n",
              "      <th>HMI_LIT101</th>\n",
              "      <th>HMI_AIT201</th>\n",
              "      <th>HMI_AIT202</th>\n",
              "      <th>HMI_AIT203</th>\n",
              "      <th>HMI_FIT201</th>\n",
              "      <th>HMI_DPIT301</th>\n",
              "      <th>HMI_FIT301</th>\n",
              "      <th>HMI_LIT301</th>\n",
              "      <th>HMI_AIT401</th>\n",
              "      <th>HMI_AIT402</th>\n",
              "      <th>HMI_FIT401</th>\n",
              "      <th>HMI_LIT401</th>\n",
              "      <th>HMI_AIT501</th>\n",
              "      <th>HMI_AIT502</th>\n",
              "      <th>HMI_AIT503</th>\n",
              "      <th>HMI_AIT504</th>\n",
              "      <th>HMI_FIT501</th>\n",
              "      <th>HMI_FIT502</th>\n",
              "      <th>HMI_FIT503</th>\n",
              "      <th>HMI_FIT504</th>\n",
              "      <th>HMI_PIT501</th>\n",
              "      <th>HMI_PIT502</th>\n",
              "      <th>HMI_PIT503</th>\n",
              "      <th>HMI_FIT601</th>\n",
              "      <th>HMI_MV101</th>\n",
              "      <th>HMI_P101</th>\n",
              "      <th>HMI_P102</th>\n",
              "      <th>HMI_MV201</th>\n",
              "      <th>HMI_P201</th>\n",
              "      <th>HMI_P202</th>\n",
              "      <th>HMI_P203</th>\n",
              "      <th>HMI_P204</th>\n",
              "      <th>HMI_P205</th>\n",
              "      <th>HMI_P206</th>\n",
              "      <th>HMI_MV301</th>\n",
              "      <th>HMI_MV302</th>\n",
              "      <th>HMI_MV303</th>\n",
              "      <th>HMI_MV304</th>\n",
              "      <th>HMI_P301</th>\n",
              "      <th>HMI_P302</th>\n",
              "      <th>HMI_P401</th>\n",
              "      <th>HMI_P402</th>\n",
              "      <th>HMI_P403</th>\n",
              "      <th>HMI_P404</th>\n",
              "      <th>HMI_P501</th>\n",
              "      <th>HMI_P502</th>\n",
              "      <th>HMI_P601</th>\n",
              "      <th>HMI_P602</th>\n",
              "      <th>HMI_P603</th>\n",
              "      <th>HMI_UV401</th>\n",
              "    </tr>\n",
              "  </thead>\n",
              "  <tbody>\n",
              "    <tr>\n",
              "      <th>count</th>\n",
              "      <td>13661.000000</td>\n",
              "      <td>13661.000000</td>\n",
              "      <td>13661.000000</td>\n",
              "      <td>13661.000000</td>\n",
              "      <td>13661.000000</td>\n",
              "      <td>13661.000000</td>\n",
              "      <td>13661.000000</td>\n",
              "      <td>13661.000000</td>\n",
              "      <td>13661.000000</td>\n",
              "      <td>13661.0</td>\n",
              "      <td>13661.000000</td>\n",
              "      <td>13661.000000</td>\n",
              "      <td>13661.000000</td>\n",
              "      <td>13661.000000</td>\n",
              "      <td>13661.000000</td>\n",
              "      <td>13661.000000</td>\n",
              "      <td>13661.000000</td>\n",
              "      <td>13661.000000</td>\n",
              "      <td>13661.000000</td>\n",
              "      <td>13661.000000</td>\n",
              "      <td>13661.000000</td>\n",
              "      <td>13661.000000</td>\n",
              "      <td>13661.000000</td>\n",
              "      <td>13661.000000</td>\n",
              "      <td>13661.000000</td>\n",
              "      <td>13661.000000</td>\n",
              "      <td>13661.000000</td>\n",
              "      <td>13661.0</td>\n",
              "      <td>13661.000000</td>\n",
              "      <td>13661.000000</td>\n",
              "      <td>13661.0</td>\n",
              "      <td>13661.000000</td>\n",
              "      <td>13661.0</td>\n",
              "      <td>13661.000000</td>\n",
              "      <td>13661.0</td>\n",
              "      <td>13661.000000</td>\n",
              "      <td>13661.000000</td>\n",
              "      <td>13661.000000</td>\n",
              "      <td>13661.000000</td>\n",
              "      <td>13661.000000</td>\n",
              "      <td>13661.0</td>\n",
              "      <td>13661.000000</td>\n",
              "      <td>13661.0</td>\n",
              "      <td>13661.0</td>\n",
              "      <td>13661.0</td>\n",
              "      <td>13661.000000</td>\n",
              "      <td>13661.0</td>\n",
              "      <td>13661.0</td>\n",
              "      <td>13661.000000</td>\n",
              "      <td>13661.0</td>\n",
              "      <td>13661.000000</td>\n",
              "    </tr>\n",
              "    <tr>\n",
              "      <th>mean</th>\n",
              "      <td>1.556448</td>\n",
              "      <td>691.446398</td>\n",
              "      <td>250.063051</td>\n",
              "      <td>7.756857</td>\n",
              "      <td>344.859821</td>\n",
              "      <td>1.544751</td>\n",
              "      <td>14.043350</td>\n",
              "      <td>1.554724</td>\n",
              "      <td>828.256294</td>\n",
              "      <td>0.0</td>\n",
              "      <td>172.067969</td>\n",
              "      <td>1.500606</td>\n",
              "      <td>819.572698</td>\n",
              "      <td>7.237584</td>\n",
              "      <td>201.971271</td>\n",
              "      <td>256.755301</td>\n",
              "      <td>37.548311</td>\n",
              "      <td>1.509772</td>\n",
              "      <td>1.231769</td>\n",
              "      <td>0.554659</td>\n",
              "      <td>0.287426</td>\n",
              "      <td>237.809430</td>\n",
              "      <td>1.381536</td>\n",
              "      <td>168.208543</td>\n",
              "      <td>0.017058</td>\n",
              "      <td>1.330576</td>\n",
              "      <td>1.649586</td>\n",
              "      <td>1.0</td>\n",
              "      <td>1.745553</td>\n",
              "      <td>1.375448</td>\n",
              "      <td>1.0</td>\n",
              "      <td>1.540151</td>\n",
              "      <td>1.0</td>\n",
              "      <td>1.646219</td>\n",
              "      <td>1.0</td>\n",
              "      <td>1.019252</td>\n",
              "      <td>1.806310</td>\n",
              "      <td>1.039236</td>\n",
              "      <td>1.029134</td>\n",
              "      <td>1.755289</td>\n",
              "      <td>1.0</td>\n",
              "      <td>1.911500</td>\n",
              "      <td>1.0</td>\n",
              "      <td>1.0</td>\n",
              "      <td>1.0</td>\n",
              "      <td>1.910987</td>\n",
              "      <td>1.0</td>\n",
              "      <td>1.0</td>\n",
              "      <td>1.011053</td>\n",
              "      <td>1.0</td>\n",
              "      <td>1.911500</td>\n",
              "    </tr>\n",
              "    <tr>\n",
              "      <th>std</th>\n",
              "      <td>2.129987</td>\n",
              "      <td>109.415001</td>\n",
              "      <td>258.247646</td>\n",
              "      <td>0.805545</td>\n",
              "      <td>54.279119</td>\n",
              "      <td>1.131187</td>\n",
              "      <td>6.947472</td>\n",
              "      <td>0.864677</td>\n",
              "      <td>209.862795</td>\n",
              "      <td>0.0</td>\n",
              "      <td>53.737832</td>\n",
              "      <td>0.467938</td>\n",
              "      <td>208.108664</td>\n",
              "      <td>0.277212</td>\n",
              "      <td>43.620451</td>\n",
              "      <td>8.983450</td>\n",
              "      <td>5.174126</td>\n",
              "      <td>0.470790</td>\n",
              "      <td>0.384495</td>\n",
              "      <td>0.173120</td>\n",
              "      <td>0.090076</td>\n",
              "      <td>74.074233</td>\n",
              "      <td>0.715891</td>\n",
              "      <td>50.023382</td>\n",
              "      <td>0.161546</td>\n",
              "      <td>0.491145</td>\n",
              "      <td>0.477117</td>\n",
              "      <td>0.0</td>\n",
              "      <td>0.447012</td>\n",
              "      <td>0.484256</td>\n",
              "      <td>0.0</td>\n",
              "      <td>0.498404</td>\n",
              "      <td>0.0</td>\n",
              "      <td>0.478160</td>\n",
              "      <td>0.0</td>\n",
              "      <td>0.168086</td>\n",
              "      <td>0.413489</td>\n",
              "      <td>0.226529</td>\n",
              "      <td>0.212770</td>\n",
              "      <td>0.429932</td>\n",
              "      <td>0.0</td>\n",
              "      <td>0.284031</td>\n",
              "      <td>0.0</td>\n",
              "      <td>0.0</td>\n",
              "      <td>0.0</td>\n",
              "      <td>0.284772</td>\n",
              "      <td>0.0</td>\n",
              "      <td>0.0</td>\n",
              "      <td>0.104556</td>\n",
              "      <td>0.0</td>\n",
              "      <td>0.284031</td>\n",
              "    </tr>\n",
              "    <tr>\n",
              "      <th>min</th>\n",
              "      <td>0.000000</td>\n",
              "      <td>490.730000</td>\n",
              "      <td>137.100000</td>\n",
              "      <td>6.150000</td>\n",
              "      <td>242.350000</td>\n",
              "      <td>0.000000</td>\n",
              "      <td>0.010000</td>\n",
              "      <td>0.000000</td>\n",
              "      <td>242.850000</td>\n",
              "      <td>0.0</td>\n",
              "      <td>52.010000</td>\n",
              "      <td>0.000000</td>\n",
              "      <td>243.290000</td>\n",
              "      <td>6.730000</td>\n",
              "      <td>98.870000</td>\n",
              "      <td>236.410000</td>\n",
              "      <td>21.340000</td>\n",
              "      <td>0.000000</td>\n",
              "      <td>0.000000</td>\n",
              "      <td>0.000000</td>\n",
              "      <td>0.000000</td>\n",
              "      <td>9.610000</td>\n",
              "      <td>0.000000</td>\n",
              "      <td>7.260000</td>\n",
              "      <td>0.000000</td>\n",
              "      <td>0.000000</td>\n",
              "      <td>1.000000</td>\n",
              "      <td>1.0</td>\n",
              "      <td>0.000000</td>\n",
              "      <td>1.000000</td>\n",
              "      <td>1.0</td>\n",
              "      <td>1.000000</td>\n",
              "      <td>1.0</td>\n",
              "      <td>1.000000</td>\n",
              "      <td>1.0</td>\n",
              "      <td>0.000000</td>\n",
              "      <td>0.000000</td>\n",
              "      <td>0.000000</td>\n",
              "      <td>0.000000</td>\n",
              "      <td>1.000000</td>\n",
              "      <td>1.0</td>\n",
              "      <td>1.000000</td>\n",
              "      <td>1.0</td>\n",
              "      <td>1.0</td>\n",
              "      <td>1.0</td>\n",
              "      <td>1.000000</td>\n",
              "      <td>1.0</td>\n",
              "      <td>1.0</td>\n",
              "      <td>1.000000</td>\n",
              "      <td>1.0</td>\n",
              "      <td>1.000000</td>\n",
              "    </tr>\n",
              "    <tr>\n",
              "      <th>25%</th>\n",
              "      <td>0.000000</td>\n",
              "      <td>590.150000</td>\n",
              "      <td>154.960000</td>\n",
              "      <td>7.100000</td>\n",
              "      <td>281.310000</td>\n",
              "      <td>0.000000</td>\n",
              "      <td>9.530000</td>\n",
              "      <td>2.030000</td>\n",
              "      <td>817.780000</td>\n",
              "      <td>0.0</td>\n",
              "      <td>121.740000</td>\n",
              "      <td>1.640000</td>\n",
              "      <td>814.670000</td>\n",
              "      <td>7.060000</td>\n",
              "      <td>172.700000</td>\n",
              "      <td>251.510000</td>\n",
              "      <td>35.410000</td>\n",
              "      <td>1.650000</td>\n",
              "      <td>1.330000</td>\n",
              "      <td>0.610000</td>\n",
              "      <td>0.310000</td>\n",
              "      <td>260.190000</td>\n",
              "      <td>0.950000</td>\n",
              "      <td>182.260000</td>\n",
              "      <td>0.000000</td>\n",
              "      <td>1.000000</td>\n",
              "      <td>1.000000</td>\n",
              "      <td>1.0</td>\n",
              "      <td>2.000000</td>\n",
              "      <td>1.000000</td>\n",
              "      <td>1.0</td>\n",
              "      <td>1.000000</td>\n",
              "      <td>1.0</td>\n",
              "      <td>1.000000</td>\n",
              "      <td>1.0</td>\n",
              "      <td>1.000000</td>\n",
              "      <td>2.000000</td>\n",
              "      <td>1.000000</td>\n",
              "      <td>1.000000</td>\n",
              "      <td>2.000000</td>\n",
              "      <td>1.0</td>\n",
              "      <td>2.000000</td>\n",
              "      <td>1.0</td>\n",
              "      <td>1.0</td>\n",
              "      <td>1.0</td>\n",
              "      <td>2.000000</td>\n",
              "      <td>1.0</td>\n",
              "      <td>1.0</td>\n",
              "      <td>1.000000</td>\n",
              "      <td>1.0</td>\n",
              "      <td>2.000000</td>\n",
              "    </tr>\n",
              "    <tr>\n",
              "      <th>50%</th>\n",
              "      <td>0.000000</td>\n",
              "      <td>704.170000</td>\n",
              "      <td>165.220000</td>\n",
              "      <td>7.430000</td>\n",
              "      <td>369.670000</td>\n",
              "      <td>2.370000</td>\n",
              "      <td>17.940000</td>\n",
              "      <td>2.040000</td>\n",
              "      <td>875.780000</td>\n",
              "      <td>0.0</td>\n",
              "      <td>179.950000</td>\n",
              "      <td>1.650000</td>\n",
              "      <td>884.540000</td>\n",
              "      <td>7.160000</td>\n",
              "      <td>202.280000</td>\n",
              "      <td>257.210000</td>\n",
              "      <td>37.490000</td>\n",
              "      <td>1.660000</td>\n",
              "      <td>1.350000</td>\n",
              "      <td>0.610000</td>\n",
              "      <td>0.320000</td>\n",
              "      <td>261.790000</td>\n",
              "      <td>1.200000</td>\n",
              "      <td>183.720000</td>\n",
              "      <td>0.000000</td>\n",
              "      <td>1.000000</td>\n",
              "      <td>2.000000</td>\n",
              "      <td>1.0</td>\n",
              "      <td>2.000000</td>\n",
              "      <td>1.000000</td>\n",
              "      <td>1.0</td>\n",
              "      <td>2.000000</td>\n",
              "      <td>1.0</td>\n",
              "      <td>2.000000</td>\n",
              "      <td>1.0</td>\n",
              "      <td>1.000000</td>\n",
              "      <td>2.000000</td>\n",
              "      <td>1.000000</td>\n",
              "      <td>1.000000</td>\n",
              "      <td>2.000000</td>\n",
              "      <td>1.0</td>\n",
              "      <td>2.000000</td>\n",
              "      <td>1.0</td>\n",
              "      <td>1.0</td>\n",
              "      <td>1.0</td>\n",
              "      <td>2.000000</td>\n",
              "      <td>1.0</td>\n",
              "      <td>1.0</td>\n",
              "      <td>1.000000</td>\n",
              "      <td>1.0</td>\n",
              "      <td>2.000000</td>\n",
              "    </tr>\n",
              "    <tr>\n",
              "      <th>75%</th>\n",
              "      <td>4.490000</td>\n",
              "      <td>814.460000</td>\n",
              "      <td>174.510000</td>\n",
              "      <td>8.780000</td>\n",
              "      <td>387.590000</td>\n",
              "      <td>2.380000</td>\n",
              "      <td>18.290000</td>\n",
              "      <td>2.050000</td>\n",
              "      <td>954.830000</td>\n",
              "      <td>0.0</td>\n",
              "      <td>216.250000</td>\n",
              "      <td>1.650000</td>\n",
              "      <td>944.750000</td>\n",
              "      <td>7.450000</td>\n",
              "      <td>236.450000</td>\n",
              "      <td>262.660000</td>\n",
              "      <td>39.610000</td>\n",
              "      <td>1.660000</td>\n",
              "      <td>1.360000</td>\n",
              "      <td>0.610000</td>\n",
              "      <td>0.320000</td>\n",
              "      <td>263.220000</td>\n",
              "      <td>2.070000</td>\n",
              "      <td>185.000000</td>\n",
              "      <td>0.000000</td>\n",
              "      <td>2.000000</td>\n",
              "      <td>2.000000</td>\n",
              "      <td>1.0</td>\n",
              "      <td>2.000000</td>\n",
              "      <td>2.000000</td>\n",
              "      <td>1.0</td>\n",
              "      <td>2.000000</td>\n",
              "      <td>1.0</td>\n",
              "      <td>2.000000</td>\n",
              "      <td>1.0</td>\n",
              "      <td>1.000000</td>\n",
              "      <td>2.000000</td>\n",
              "      <td>1.000000</td>\n",
              "      <td>1.000000</td>\n",
              "      <td>2.000000</td>\n",
              "      <td>1.0</td>\n",
              "      <td>2.000000</td>\n",
              "      <td>1.0</td>\n",
              "      <td>1.0</td>\n",
              "      <td>1.0</td>\n",
              "      <td>2.000000</td>\n",
              "      <td>1.0</td>\n",
              "      <td>1.0</td>\n",
              "      <td>1.000000</td>\n",
              "      <td>1.0</td>\n",
              "      <td>2.000000</td>\n",
              "    </tr>\n",
              "    <tr>\n",
              "      <th>max</th>\n",
              "      <td>4.670000</td>\n",
              "      <td>824.760000</td>\n",
              "      <td>1017.340000</td>\n",
              "      <td>9.000000</td>\n",
              "      <td>456.800000</td>\n",
              "      <td>2.440000</td>\n",
              "      <td>19.060000</td>\n",
              "      <td>2.150000</td>\n",
              "      <td>1013.160000</td>\n",
              "      <td>0.0</td>\n",
              "      <td>251.950000</td>\n",
              "      <td>1.670000</td>\n",
              "      <td>1002.930000</td>\n",
              "      <td>7.850000</td>\n",
              "      <td>273.880000</td>\n",
              "      <td>312.780000</td>\n",
              "      <td>351.160000</td>\n",
              "      <td>1.680000</td>\n",
              "      <td>1.420000</td>\n",
              "      <td>0.630000</td>\n",
              "      <td>0.330000</td>\n",
              "      <td>266.530000</td>\n",
              "      <td>4.820000</td>\n",
              "      <td>195.540000</td>\n",
              "      <td>1.800000</td>\n",
              "      <td>2.000000</td>\n",
              "      <td>2.000000</td>\n",
              "      <td>1.0</td>\n",
              "      <td>2.000000</td>\n",
              "      <td>2.000000</td>\n",
              "      <td>1.0</td>\n",
              "      <td>2.000000</td>\n",
              "      <td>1.0</td>\n",
              "      <td>2.000000</td>\n",
              "      <td>1.0</td>\n",
              "      <td>2.000000</td>\n",
              "      <td>2.000000</td>\n",
              "      <td>2.000000</td>\n",
              "      <td>2.000000</td>\n",
              "      <td>2.000000</td>\n",
              "      <td>1.0</td>\n",
              "      <td>2.000000</td>\n",
              "      <td>1.0</td>\n",
              "      <td>1.0</td>\n",
              "      <td>1.0</td>\n",
              "      <td>2.000000</td>\n",
              "      <td>1.0</td>\n",
              "      <td>1.0</td>\n",
              "      <td>2.000000</td>\n",
              "      <td>1.0</td>\n",
              "      <td>2.000000</td>\n",
              "    </tr>\n",
              "  </tbody>\n",
              "</table>\n",
              "</div>"
            ],
            "text/plain": [
              "         HMI_FIT101    HMI_LIT101  ...  HMI_P603     HMI_UV401\n",
              "count  13661.000000  13661.000000  ...   13661.0  13661.000000\n",
              "mean       1.556448    691.446398  ...       1.0      1.911500\n",
              "std        2.129987    109.415001  ...       0.0      0.284031\n",
              "min        0.000000    490.730000  ...       1.0      1.000000\n",
              "25%        0.000000    590.150000  ...       1.0      2.000000\n",
              "50%        0.000000    704.170000  ...       1.0      2.000000\n",
              "75%        4.490000    814.460000  ...       1.0      2.000000\n",
              "max        4.670000    824.760000  ...       1.0      2.000000\n",
              "\n",
              "[8 rows x 51 columns]"
            ]
          },
          "metadata": {},
          "execution_count": 76
        }
      ]
    },
    {
      "cell_type": "markdown",
      "metadata": {
        "id": "bsGOqz_azgNe"
      },
      "source": [
        "## Preprocess: string to datetime"
      ]
    },
    {
      "cell_type": "code",
      "metadata": {
        "id": "JoD1Gjhww4hh"
      },
      "source": [
        "# Values to datetime\n",
        "data['Time'] = [datetime.datetime.strptime(t, \"%d/%m/%Y %H:%M:%S.%f %p\") for t in data['Time']] "
      ],
      "execution_count": null,
      "outputs": []
    },
    {
      "cell_type": "markdown",
      "metadata": {
        "id": "ALiy_yQUzjYA"
      },
      "source": [
        "## Display distribution by day"
      ]
    },
    {
      "cell_type": "code",
      "metadata": {
        "colab": {
          "base_uri": "https://localhost:8080/"
        },
        "id": "Bp2otpJRq43O",
        "outputId": "ccddda5c-5111-4c67-b764-3e83f6dc5c1d"
      },
      "source": [
        "# Distribution by days\n",
        "day = data['Time'].dt.day\n",
        "\n",
        "cnt_srs = day.value_counts()\n",
        "plt.figure(figsize=(12,6))\n",
        "sns.barplot(cnt_srs.index, cnt_srs.values, alpha=0.8, color=sns.color_palette()[3])\n",
        "plt.xticks(rotation='vertical')\n",
        "plt.xlabel('Date', fontsize=12)\n",
        "plt.ylabel('Number of Occurrences', fontsize=12)\n",
        "plt.show()"
      ],
      "execution_count": null,
      "outputs": [
        {
          "output_type": "stream",
          "name": "stderr",
          "text": [
            "/usr/local/lib/python3.7/dist-packages/seaborn/_decorators.py:43: FutureWarning: Pass the following variables as keyword args: x, y. From version 0.12, the only valid positional argument will be `data`, and passing other arguments without an explicit keyword will result in an error or misinterpretation.\n",
            "  FutureWarning\n"
          ]
        },
        {
          "output_type": "display_data",
          "data": {
            "image/png": "[encoded data removed]",
            "text/plain": [
              "<Figure size 864x432 with 1 Axes>"
            ]
          },
          "metadata": {
            "needs_background": "light"
          }
        }
      ]
    },
    {
      "cell_type": "markdown",
      "metadata": {
        "id": "nq_6GKHkzltt"
      },
      "source": [
        "## Display distribution by hour"
      ]
    },
    {
      "cell_type": "code",
      "metadata": {
        "colab": {
          "base_uri": "https://localhost:8080/"
        },
        "id": "7GM61hcCwwaB",
        "outputId": "8ecbfc0c-0be0-460e-ba16-50f3e83bc0ec"
      },
      "source": [
        "# Distribution by hours\n",
        "\n",
        "hours = data['Time'].dt.hour\n",
        "\n",
        "cnt_srs = hours.value_counts()\n",
        "plt.figure(figsize=(12,6))\n",
        "sns.barplot(cnt_srs.index, cnt_srs.values, alpha=0.8, color=sns.color_palette()[3])\n",
        "plt.xticks(rotation='vertical')\n",
        "plt.xlabel('Hour', fontsize=12)\n",
        "plt.ylabel('Number of Occurrences', fontsize=12)\n",
        "plt.show()"
      ],
      "execution_count": null,
      "outputs": [
        {
          "output_type": "stream",
          "name": "stderr",
          "text": [
            "/usr/local/lib/python3.7/dist-packages/seaborn/_decorators.py:43: FutureWarning: Pass the following variables as keyword args: x, y. From version 0.12, the only valid positional argument will be `data`, and passing other arguments without an explicit keyword will result in an error or misinterpretation.\n",
            "  FutureWarning\n"
          ]
        },
        {
          "output_type": "display_data",
          "data": {
            "image/png": "[encoded data removed]",
            "text/plain": [
              "<Figure size 864x432 with 1 Axes>"
            ]
          },
          "metadata": {
            "needs_background": "light"
          }
        }
      ]
    },
    {
      "cell_type": "markdown",
      "metadata": {
        "id": "UjS2gWRlpiWW"
      },
      "source": [
        "## **Preprocess**: Remove unique cols"
      ]
    },
    {
      "cell_type": "code",
      "metadata": {
        "id": "yrB8O55YphMe"
      },
      "source": [
        "# Find columns with only one values. We will drop them since they don't have any effect.\n",
        "for col in train.columns:\n",
        "  if len(train[col].value_counts()) == 1:\n",
        "    print(f\"> Dropping {col}\")\n",
        "    train = train.drop(col, axis=1)"
      ],
      "execution_count": null,
      "outputs": []
    },
    {
      "cell_type": "markdown",
      "metadata": {
        "id": "GcVI08ozqiGF"
      },
      "source": [
        "## **[DONT RUN] Preprocess**: One hot encode categorical data"
      ]
    },
    {
      "cell_type": "code",
      "metadata": {
        "id": "tn64jRLdqlbi"
      },
      "source": [
        "# Get categorical columns\n",
        "CATEG_RANGE = 3\n",
        "cat, cont = [], []\n",
        "\n",
        "for col in data.columns:\n",
        "  if len(data[col].value_counts()) <= CATEG_RANGE:\n",
        "    cat.append(col)\n",
        "  else:\n",
        "    cont.append(col)"
      ],
      "execution_count": null,
      "outputs": []
    },
    {
      "cell_type": "code",
      "metadata": {
        "colab": {
          "base_uri": "https://localhost:8080/"
        },
        "id": "sSjvUCDGrDMh",
        "outputId": "a2f2f1b1-6fec-4c9d-ae09-ba83cad4a0fb"
      },
      "source": [
        "# One hot categorical data\n",
        "def oneHot(data):\n",
        "  continuous = data[cont]\n",
        "  categorical = data[cat]\n",
        "  encoded = pd.get_dummies(categorical, columns = categorical.columns)\n",
        "  for col in encoded:\n",
        "    continuous[col] = encoded[col]\n",
        "  return continuous\n",
        "\n",
        "encoded = oneHot(data)"
      ],
      "execution_count": null,
      "outputs": [
        {
          "output_type": "stream",
          "name": "stderr",
          "text": [
            "/usr/local/lib/python3.7/dist-packages/ipykernel_launcher.py:7: SettingWithCopyWarning: \n",
            "A value is trying to be set on a copy of a slice from a DataFrame.\n",
            "Try using .loc[row_indexer,col_indexer] = value instead\n",
            "\n",
            "See the caveats in the documentation: https://pandas.pydata.org/pandas-docs/stable/user_guide/indexing.html#returning-a-view-versus-a-copy\n",
            "  import sys\n"
          ]
        }
      ]
    },
    {
      "cell_type": "markdown",
      "metadata": {
        "id": "iqPf-HMFNbBI"
      },
      "source": [
        "## **Notes**"
      ]
    },
    {
      "cell_type": "markdown",
      "metadata": {
        "id": "bjTYwfB92sFU"
      },
      "source": [
        "* *The high dimensionality and non-stationary characteristics of the target dataset increase the complexity of detecting anomalies.*\n",
        "* *Therefore, we mitigate high dimensionality and non-stationary characteristics by reducing the dimension using **autoencoder**.*"
      ]
    },
    {
      "cell_type": "markdown",
      "metadata": {
        "id": "wAA3EbUP3SD1"
      },
      "source": [
        "In particular, auto-encoder is a more effective nonlinear technology than PCA when reducing thedimensionality of high-dimensional data. Sakurada et\n",
        "al. [30] found that auto-encoder can detect subtle anomalies that linear PCA fails and increase its accuracy by denoising. Therefore, we reduce \n",
        "dimensionality through auto-encoding and then performed training. \n",
        "Ref: https://jit.ndhu.edu.tw/article/download/2553/2571"
      ]
    },
    {
      "cell_type": "markdown",
      "metadata": {
        "id": "E49RTgC04KDx"
      },
      "source": [
        "*Since raw data has data-specific characteristics and distribution for each feature, performance will deteriorate if you use the data as it is. We use the\n",
        "**MinMax scaler** to scale the features of the data to the same extent. The use of high dimensional data can cause the performance problem because of the curse of\n",
        "dimensionality. To solve this problem, we apply the **auto-encoder** to reduce the dimensionality while preserving the unique properties of the data. To determine the latent vector’s optimal size in the autoencoder, it calculates the mean square error (MSE) loss value according to the latent vector’s size. The latent vector size with minimal MSE loss is determined as the optimal latent vector.*"
      ]
    },
    {
      "cell_type": "markdown",
      "metadata": {
        "id": "-EoHKZ7ogVId"
      },
      "source": [
        "## **Preprocess**: Standardize/Normalize data"
      ]
    },
    {
      "cell_type": "code",
      "metadata": {
        "id": "v0bUstj1eIYx"
      },
      "source": [
        "from sklearn.preprocessing import StandardScaler, MinMaxScaler\n",
        "\n",
        "def Standardize(data, showBoxPlot=False):\n",
        "  sc = StandardScaler()\n",
        "  data_norm = pd.DataFrame( sc.fit_transform(data.iloc[:, data.columns != 'Time']) )\n",
        "  data_norm_c = data_norm.copy()\n",
        "  data_norm.columns = data.iloc[:, data.columns != 'Time'].columns\n",
        "  data_norm.insert(0, 'Time', data['Time'])\n",
        "  if showBoxPlot:\n",
        "    fig = plt.subplots(figsize=(25,  30))\n",
        "    data_norm_c.boxplot(widths = 0.4, notch=True)\n",
        "  return data_norm\n",
        "\n",
        "def Normalize(data, showBoxPlot=False):\n",
        "  sc = MinMaxScaler()\n",
        "  data_norm = pd.DataFrame( sc.fit_transform(data.iloc[:, data.columns != 'Time']) )\n",
        "  data_norm_c = data_norm.copy()\n",
        "  data_norm.columns = data.iloc[:, data.columns != 'Time'].columns\n",
        "  data_norm.insert(0, 'Time', data['Time'])\n",
        "  if showBoxPlot:\n",
        "    fig = plt.subplots(figsize=(25,  30))\n",
        "    data_norm_c.boxplot(widths = 0.4, notch=True)\n",
        "  return data_norm"
      ],
      "execution_count": null,
      "outputs": []
    },
    {
      "cell_type": "code",
      "metadata": {
        "id": "78aj45fTgOKr"
      },
      "source": [
        "# Zero center\n",
        "data_scaled = Standardize(data) # Scaling the one hot encoded data isn't right\n",
        "data_norm = Normalize(data) # We normalize the whole set\n",
        "# Save a copy\n",
        "# data_norm.to_csv(f\"{ROOT_PATH}/SWaT_A3/SWaT_norm.csv\", sep = ',', encoding = 'utf-8', index = False)\n",
        "# print(f\"> Zero centered data saved in {ROOT_PATH}/SWaT_A3/SWaT_norm.csv\")"
      ],
      "execution_count": null,
      "outputs": []
    },
    {
      "cell_type": "markdown",
      "metadata": {
        "id": "eWSk_DSswPY4"
      },
      "source": [
        "## **Preprocess**: Feature Extraction (PCA)"
      ]
    },
    {
      "cell_type": "code",
      "metadata": {
        "colab": {
          "base_uri": "https://localhost:8080/",
          "height": 423
        },
        "id": "cCPRosDywRac",
        "outputId": "7eb9f807-f172-4cc5-c78b-c4dc269071f6"
      },
      "source": [
        "from sklearn.decomposition import PCA\n",
        "\n",
        "data_ = data_scaled\n",
        "pca = PCA(n_components = 0.95)\n",
        "pca.fit(data_.iloc[:, data_.columns != 'Time'])\n",
        "reduced = pca.transform(data_.iloc[:, data_.columns != 'Time'])\n",
        "principal_components = pd.DataFrame(data = reduced, columns=[f\"P{col + 1}\" for col in range(reduced.shape[1])])\n",
        "principal_components"
      ],
      "execution_count": null,
      "outputs": [
        {
          "output_type": "execute_result",
          "data": {
            "text/html": [
              "<div>\n",
              "<style scoped>\n",
              "    .dataframe tbody tr th:only-of-type {\n",
              "        vertical-align: middle;\n",
              "    }\n",
              "\n",
              "    .dataframe tbody tr th {\n",
              "        vertical-align: top;\n",
              "    }\n",
              "\n",
              "    .dataframe thead th {\n",
              "        text-align: right;\n",
              "    }\n",
              "</style>\n",
              "<table border=\"1\" class=\"dataframe\">\n",
              "  <thead>\n",
              "    <tr style=\"text-align: right;\">\n",
              "      <th></th>\n",
              "      <th>P1</th>\n",
              "      <th>P2</th>\n",
              "      <th>P3</th>\n",
              "      <th>P4</th>\n",
              "      <th>P5</th>\n",
              "      <th>P6</th>\n",
              "      <th>P7</th>\n",
              "      <th>P8</th>\n",
              "      <th>P9</th>\n",
              "      <th>P10</th>\n",
              "      <th>P11</th>\n",
              "      <th>P12</th>\n",
              "      <th>P13</th>\n",
              "      <th>P14</th>\n",
              "    </tr>\n",
              "  </thead>\n",
              "  <tbody>\n",
              "    <tr>\n",
              "      <th>0</th>\n",
              "      <td>11.239323</td>\n",
              "      <td>-0.015946</td>\n",
              "      <td>0.019378</td>\n",
              "      <td>-1.177505</td>\n",
              "      <td>-1.262729</td>\n",
              "      <td>0.922708</td>\n",
              "      <td>-0.061910</td>\n",
              "      <td>0.660440</td>\n",
              "      <td>-0.079713</td>\n",
              "      <td>-1.752990</td>\n",
              "      <td>0.229442</td>\n",
              "      <td>2.389817</td>\n",
              "      <td>-0.284886</td>\n",
              "      <td>-0.494532</td>\n",
              "    </tr>\n",
              "    <tr>\n",
              "      <th>1</th>\n",
              "      <td>11.250785</td>\n",
              "      <td>-0.028606</td>\n",
              "      <td>-0.484913</td>\n",
              "      <td>-1.264875</td>\n",
              "      <td>-0.429987</td>\n",
              "      <td>0.967385</td>\n",
              "      <td>-1.001235</td>\n",
              "      <td>4.449296</td>\n",
              "      <td>-1.148676</td>\n",
              "      <td>-1.297496</td>\n",
              "      <td>-1.480187</td>\n",
              "      <td>2.006869</td>\n",
              "      <td>0.072566</td>\n",
              "      <td>-0.151499</td>\n",
              "    </tr>\n",
              "    <tr>\n",
              "      <th>2</th>\n",
              "      <td>8.773312</td>\n",
              "      <td>-1.304100</td>\n",
              "      <td>-2.975731</td>\n",
              "      <td>15.844832</td>\n",
              "      <td>-1.014392</td>\n",
              "      <td>9.681100</td>\n",
              "      <td>6.901244</td>\n",
              "      <td>-3.125790</td>\n",
              "      <td>27.095738</td>\n",
              "      <td>46.955617</td>\n",
              "      <td>-4.045413</td>\n",
              "      <td>12.653101</td>\n",
              "      <td>4.766548</td>\n",
              "      <td>-0.784740</td>\n",
              "    </tr>\n",
              "    <tr>\n",
              "      <th>3</th>\n",
              "      <td>7.140906</td>\n",
              "      <td>-0.706576</td>\n",
              "      <td>-4.087434</td>\n",
              "      <td>7.171380</td>\n",
              "      <td>1.410655</td>\n",
              "      <td>5.293826</td>\n",
              "      <td>2.058185</td>\n",
              "      <td>-0.095913</td>\n",
              "      <td>11.753912</td>\n",
              "      <td>22.351361</td>\n",
              "      <td>-2.424112</td>\n",
              "      <td>7.005019</td>\n",
              "      <td>2.397368</td>\n",
              "      <td>0.369435</td>\n",
              "    </tr>\n",
              "    <tr>\n",
              "      <th>4</th>\n",
              "      <td>4.788603</td>\n",
              "      <td>-1.268151</td>\n",
              "      <td>-2.704121</td>\n",
              "      <td>2.395107</td>\n",
              "      <td>1.352515</td>\n",
              "      <td>2.798837</td>\n",
              "      <td>0.755153</td>\n",
              "      <td>-0.633777</td>\n",
              "      <td>2.202329</td>\n",
              "      <td>6.586427</td>\n",
              "      <td>-0.850385</td>\n",
              "      <td>3.342348</td>\n",
              "      <td>-0.497214</td>\n",
              "      <td>0.446388</td>\n",
              "    </tr>\n",
              "    <tr>\n",
              "      <th>...</th>\n",
              "      <td>...</td>\n",
              "      <td>...</td>\n",
              "      <td>...</td>\n",
              "      <td>...</td>\n",
              "      <td>...</td>\n",
              "      <td>...</td>\n",
              "      <td>...</td>\n",
              "      <td>...</td>\n",
              "      <td>...</td>\n",
              "      <td>...</td>\n",
              "      <td>...</td>\n",
              "      <td>...</td>\n",
              "      <td>...</td>\n",
              "      <td>...</td>\n",
              "    </tr>\n",
              "    <tr>\n",
              "      <th>13656</th>\n",
              "      <td>6.700938</td>\n",
              "      <td>4.547329</td>\n",
              "      <td>-1.809050</td>\n",
              "      <td>-3.812576</td>\n",
              "      <td>0.739007</td>\n",
              "      <td>-1.305559</td>\n",
              "      <td>-0.850753</td>\n",
              "      <td>0.117150</td>\n",
              "      <td>2.981989</td>\n",
              "      <td>0.959137</td>\n",
              "      <td>0.349857</td>\n",
              "      <td>1.009364</td>\n",
              "      <td>0.484703</td>\n",
              "      <td>-0.829143</td>\n",
              "    </tr>\n",
              "    <tr>\n",
              "      <th>13657</th>\n",
              "      <td>6.637403</td>\n",
              "      <td>4.546697</td>\n",
              "      <td>-1.790657</td>\n",
              "      <td>-3.816037</td>\n",
              "      <td>0.699654</td>\n",
              "      <td>-1.445606</td>\n",
              "      <td>-0.926172</td>\n",
              "      <td>0.149470</td>\n",
              "      <td>3.066294</td>\n",
              "      <td>0.919508</td>\n",
              "      <td>0.349737</td>\n",
              "      <td>1.083454</td>\n",
              "      <td>0.457412</td>\n",
              "      <td>-0.813635</td>\n",
              "    </tr>\n",
              "    <tr>\n",
              "      <th>13658</th>\n",
              "      <td>6.582334</td>\n",
              "      <td>4.555572</td>\n",
              "      <td>-1.776734</td>\n",
              "      <td>-3.817629</td>\n",
              "      <td>0.658955</td>\n",
              "      <td>-1.591026</td>\n",
              "      <td>-1.009351</td>\n",
              "      <td>0.185840</td>\n",
              "      <td>3.169918</td>\n",
              "      <td>0.880565</td>\n",
              "      <td>0.347239</td>\n",
              "      <td>1.159485</td>\n",
              "      <td>0.401438</td>\n",
              "      <td>-0.792857</td>\n",
              "    </tr>\n",
              "    <tr>\n",
              "      <th>13659</th>\n",
              "      <td>6.523834</td>\n",
              "      <td>4.569352</td>\n",
              "      <td>-1.763998</td>\n",
              "      <td>-3.813433</td>\n",
              "      <td>0.626434</td>\n",
              "      <td>-1.684105</td>\n",
              "      <td>-1.064963</td>\n",
              "      <td>0.220620</td>\n",
              "      <td>3.250322</td>\n",
              "      <td>0.838122</td>\n",
              "      <td>0.343053</td>\n",
              "      <td>1.248096</td>\n",
              "      <td>0.356967</td>\n",
              "      <td>-0.772737</td>\n",
              "    </tr>\n",
              "    <tr>\n",
              "      <th>13660</th>\n",
              "      <td>6.477436</td>\n",
              "      <td>4.579785</td>\n",
              "      <td>-1.750751</td>\n",
              "      <td>-3.817537</td>\n",
              "      <td>0.595963</td>\n",
              "      <td>-1.771171</td>\n",
              "      <td>-1.118116</td>\n",
              "      <td>0.250176</td>\n",
              "      <td>3.316606</td>\n",
              "      <td>0.803821</td>\n",
              "      <td>0.337919</td>\n",
              "      <td>1.340010</td>\n",
              "      <td>0.309010</td>\n",
              "      <td>-0.749763</td>\n",
              "    </tr>\n",
              "  </tbody>\n",
              "</table>\n",
              "<p>13661 rows × 14 columns</p>\n",
              "</div>"
            ],
            "text/plain": [
              "              P1        P2        P3  ...        P12       P13       P14\n",
              "0      11.239323 -0.015946  0.019378  ...   2.389817 -0.284886 -0.494532\n",
              "1      11.250785 -0.028606 -0.484913  ...   2.006869  0.072566 -0.151499\n",
              "2       8.773312 -1.304100 -2.975731  ...  12.653101  4.766548 -0.784740\n",
              "3       7.140906 -0.706576 -4.087434  ...   7.005019  2.397368  0.369435\n",
              "4       4.788603 -1.268151 -2.704121  ...   3.342348 -0.497214  0.446388\n",
              "...          ...       ...       ...  ...        ...       ...       ...\n",
              "13656   6.700938  4.547329 -1.809050  ...   1.009364  0.484703 -0.829143\n",
              "13657   6.637403  4.546697 -1.790657  ...   1.083454  0.457412 -0.813635\n",
              "13658   6.582334  4.555572 -1.776734  ...   1.159485  0.401438 -0.792857\n",
              "13659   6.523834  4.569352 -1.763998  ...   1.248096  0.356967 -0.772737\n",
              "13660   6.477436  4.579785 -1.750751  ...   1.340010  0.309010 -0.749763\n",
              "\n",
              "[13661 rows x 14 columns]"
            ]
          },
          "metadata": {},
          "execution_count": 84
        }
      ]
    },
    {
      "cell_type": "markdown",
      "metadata": {
        "id": "_eblVmwQKb_a"
      },
      "source": [
        "## **[DONT RUN] Preprocess**: Feature Extraction (AutoEncoder)"
      ]
    },
    {
      "cell_type": "code",
      "metadata": {
        "colab": {
          "base_uri": "https://localhost:8080/",
          "height": 364
        },
        "id": "Uh6S0rN5KhIb",
        "outputId": "6fdd119d-f047-4d9d-9fca-5f20fb05f13c"
      },
      "source": [
        "# We extract features of the whole set\n",
        "from tensorflow.keras import Model, Sequential\n",
        "from tensorflow.keras.layers import Dense, Dropout\n",
        "\n",
        "class AutoEncoders(Model):\n",
        "\n",
        "  def __init__(self, output_units):\n",
        "\n",
        "    super().__init__()\n",
        "    self.encoder = Sequential(\n",
        "        [\n",
        "          Dense(32, activation=\"relu\"),\n",
        "          Dense(16, activation=\"relu\"),\n",
        "          Dense(7, activation=\"relu\")\n",
        "        ]\n",
        "    )\n",
        "\n",
        "    self.decoder = Sequential(\n",
        "        [\n",
        "          Dense(16, activation=\"relu\"),\n",
        "          Dense(32, activation=\"relu\"),\n",
        "          Dense(output_units, activation=\"sigmoid\")\n",
        "        ]\n",
        "    )\n",
        "\n",
        "def call(self, inputs):\n",
        "\n",
        "  encoded = self.encoder(inputs)\n",
        "  decoded = self.decoder(encoded)\n",
        "  return decoded\n",
        "  \n",
        "auto_encoder = AutoEncoders(len(data_norm.columns))\n",
        "\n",
        "auto_encoder.compile(\n",
        "    loss='mae',\n",
        "    metrics=['mae'],\n",
        "    optimizer='adam'\n",
        ")\n",
        "\n",
        "history = auto_encoder.fit(\n",
        "    data_norm, \n",
        "    data_norm, \n",
        "    epochs=15, \n",
        "    batch_size=32, \n",
        "    validation_data=(data_norm, data_norm)\n",
        ")"
      ],
      "execution_count": null,
      "outputs": [
        {
          "output_type": "error",
          "ename": "ValueError",
          "evalue": "ignored",
          "traceback": [
            "\u001b[0;31m---------------------------------------------------------------------------\u001b[0m",
            "\u001b[0;31mValueError\u001b[0m                                Traceback (most recent call last)",
            "\u001b[0;32m<ipython-input-248-0c3d6f1580d4>\u001b[0m in \u001b[0;36m<module>\u001b[0;34m()\u001b[0m\n\u001b[1;32m     43\u001b[0m     \u001b[0mepochs\u001b[0m\u001b[0;34m=\u001b[0m\u001b[0;36m15\u001b[0m\u001b[0;34m,\u001b[0m\u001b[0;34m\u001b[0m\u001b[0;34m\u001b[0m\u001b[0m\n\u001b[1;32m     44\u001b[0m     \u001b[0mbatch_size\u001b[0m\u001b[0;34m=\u001b[0m\u001b[0;36m32\u001b[0m\u001b[0;34m,\u001b[0m\u001b[0;34m\u001b[0m\u001b[0;34m\u001b[0m\u001b[0m\n\u001b[0;32m---> 45\u001b[0;31m     \u001b[0mvalidation_data\u001b[0m\u001b[0;34m=\u001b[0m\u001b[0;34m(\u001b[0m\u001b[0mdata_norm\u001b[0m\u001b[0;34m,\u001b[0m \u001b[0mdata_norm\u001b[0m\u001b[0;34m)\u001b[0m\u001b[0;34m\u001b[0m\u001b[0;34m\u001b[0m\u001b[0m\n\u001b[0m\u001b[1;32m     46\u001b[0m )\n",
            "\u001b[0;32m/usr/local/lib/python3.7/dist-packages/keras/utils/traceback_utils.py\u001b[0m in \u001b[0;36merror_handler\u001b[0;34m(*args, **kwargs)\u001b[0m\n\u001b[1;32m     65\u001b[0m     \u001b[0;32mexcept\u001b[0m \u001b[0mException\u001b[0m \u001b[0;32mas\u001b[0m \u001b[0me\u001b[0m\u001b[0;34m:\u001b[0m  \u001b[0;31m# pylint: disable=broad-except\u001b[0m\u001b[0;34m\u001b[0m\u001b[0;34m\u001b[0m\u001b[0m\n\u001b[1;32m     66\u001b[0m       \u001b[0mfiltered_tb\u001b[0m \u001b[0;34m=\u001b[0m \u001b[0m_process_traceback_frames\u001b[0m\u001b[0;34m(\u001b[0m\u001b[0me\u001b[0m\u001b[0;34m.\u001b[0m\u001b[0m__traceback__\u001b[0m\u001b[0;34m)\u001b[0m\u001b[0;34m\u001b[0m\u001b[0;34m\u001b[0m\u001b[0m\n\u001b[0;32m---> 67\u001b[0;31m       \u001b[0;32mraise\u001b[0m \u001b[0me\u001b[0m\u001b[0;34m.\u001b[0m\u001b[0mwith_traceback\u001b[0m\u001b[0;34m(\u001b[0m\u001b[0mfiltered_tb\u001b[0m\u001b[0;34m)\u001b[0m \u001b[0;32mfrom\u001b[0m \u001b[0;32mNone\u001b[0m\u001b[0;34m\u001b[0m\u001b[0;34m\u001b[0m\u001b[0m\n\u001b[0m\u001b[1;32m     68\u001b[0m     \u001b[0;32mfinally\u001b[0m\u001b[0;34m:\u001b[0m\u001b[0;34m\u001b[0m\u001b[0;34m\u001b[0m\u001b[0m\n\u001b[1;32m     69\u001b[0m       \u001b[0;32mdel\u001b[0m \u001b[0mfiltered_tb\u001b[0m\u001b[0;34m\u001b[0m\u001b[0;34m\u001b[0m\u001b[0m\n",
            "\u001b[0;32m/usr/local/lib/python3.7/dist-packages/tensorflow/python/framework/constant_op.py\u001b[0m in \u001b[0;36mconvert_to_eager_tensor\u001b[0;34m(value, ctx, dtype)\u001b[0m\n\u001b[1;32m    104\u001b[0m       \u001b[0mdtype\u001b[0m \u001b[0;34m=\u001b[0m \u001b[0mdtypes\u001b[0m\u001b[0;34m.\u001b[0m\u001b[0mas_dtype\u001b[0m\u001b[0;34m(\u001b[0m\u001b[0mdtype\u001b[0m\u001b[0;34m)\u001b[0m\u001b[0;34m.\u001b[0m\u001b[0mas_datatype_enum\u001b[0m\u001b[0;34m\u001b[0m\u001b[0;34m\u001b[0m\u001b[0m\n\u001b[1;32m    105\u001b[0m   \u001b[0mctx\u001b[0m\u001b[0;34m.\u001b[0m\u001b[0mensure_initialized\u001b[0m\u001b[0;34m(\u001b[0m\u001b[0;34m)\u001b[0m\u001b[0;34m\u001b[0m\u001b[0;34m\u001b[0m\u001b[0m\n\u001b[0;32m--> 106\u001b[0;31m   \u001b[0;32mreturn\u001b[0m \u001b[0mops\u001b[0m\u001b[0;34m.\u001b[0m\u001b[0mEagerTensor\u001b[0m\u001b[0;34m(\u001b[0m\u001b[0mvalue\u001b[0m\u001b[0;34m,\u001b[0m \u001b[0mctx\u001b[0m\u001b[0;34m.\u001b[0m\u001b[0mdevice_name\u001b[0m\u001b[0;34m,\u001b[0m \u001b[0mdtype\u001b[0m\u001b[0;34m)\u001b[0m\u001b[0;34m\u001b[0m\u001b[0;34m\u001b[0m\u001b[0m\n\u001b[0m\u001b[1;32m    107\u001b[0m \u001b[0;34m\u001b[0m\u001b[0m\n\u001b[1;32m    108\u001b[0m \u001b[0;34m\u001b[0m\u001b[0m\n",
            "\u001b[0;31mValueError\u001b[0m: Failed to convert a NumPy array to a Tensor (Unsupported object type Timestamp)."
          ]
        }
      ]
    },
    {
      "cell_type": "code",
      "metadata": {
        "id": "64p4xG9sKv8G"
      },
      "source": [
        "# Get extracted auto encoder features\n",
        "encoder_layer = auto_encoder.get_layer('sequential')\n",
        "reduced_df = pd.DataFrame(encoder_layer.predict(data_norm))\n",
        "reduced_df = reduced_df.add_prefix('F')"
      ],
      "execution_count": null,
      "outputs": []
    },
    {
      "cell_type": "markdown",
      "metadata": {
        "id": "MVwxJmpqur7n"
      },
      "source": [
        "## **[DONT RUN] Preprocess**: Data merge"
      ]
    },
    {
      "cell_type": "code",
      "metadata": {
        "colab": {
          "base_uri": "https://localhost:8080/"
        },
        "id": "GqwRZs58uuyw",
        "outputId": "e8373aa8-8ad1-4e58-c5b8-374c3cc481b5"
      },
      "source": [
        "# Merge extracted features with scaled data\n",
        "\n",
        "data_processed = principal_components\n",
        "for col in encoded.columns:\n",
        "  data_processed[col] = encoded[col]\n",
        "data_processed.insert(0, 'Time', data_norm['Time'])"
      ],
      "execution_count": null,
      "outputs": [
        {
          "output_type": "execute_result",
          "data": {
            "text/html": [
              "<div>\n",
              "<style scoped>\n",
              "    .dataframe tbody tr th:only-of-type {\n",
              "        vertical-align: middle;\n",
              "    }\n",
              "\n",
              "    .dataframe tbody tr th {\n",
              "        vertical-align: top;\n",
              "    }\n",
              "\n",
              "    .dataframe thead th {\n",
              "        text-align: right;\n",
              "    }\n",
              "</style>\n",
              "<table border=\"1\" class=\"dataframe\">\n",
              "  <thead>\n",
              "    <tr style=\"text-align: right;\">\n",
              "      <th></th>\n",
              "      <th>Time</th>\n",
              "      <th>P1</th>\n",
              "      <th>P2</th>\n",
              "      <th>P3</th>\n",
              "      <th>P4</th>\n",
              "      <th>P5</th>\n",
              "      <th>P6</th>\n",
              "      <th>P7</th>\n",
              "      <th>P8</th>\n",
              "      <th>P9</th>\n",
              "      <th>P10</th>\n",
              "      <th>P11</th>\n",
              "      <th>HMI_MV101_0</th>\n",
              "      <th>HMI_MV101_1</th>\n",
              "      <th>HMI_MV101_2</th>\n",
              "      <th>HMI_P101_1</th>\n",
              "      <th>HMI_P101_2</th>\n",
              "      <th>HMI_MV201_0</th>\n",
              "      <th>HMI_MV201_1</th>\n",
              "      <th>HMI_MV201_2</th>\n",
              "      <th>HMI_P201_1</th>\n",
              "      <th>HMI_P201_2</th>\n",
              "      <th>HMI_P203_1</th>\n",
              "      <th>HMI_P203_2</th>\n",
              "      <th>HMI_P205_1</th>\n",
              "      <th>HMI_P205_2</th>\n",
              "      <th>HMI_MV301_0</th>\n",
              "      <th>HMI_MV301_1</th>\n",
              "      <th>HMI_MV301_2</th>\n",
              "      <th>HMI_MV302_0</th>\n",
              "      <th>HMI_MV302_1</th>\n",
              "      <th>HMI_MV302_2</th>\n",
              "      <th>HMI_MV303_0</th>\n",
              "      <th>HMI_MV303_1</th>\n",
              "      <th>HMI_MV303_2</th>\n",
              "      <th>HMI_MV304_0</th>\n",
              "      <th>HMI_MV304_1</th>\n",
              "      <th>HMI_MV304_2</th>\n",
              "      <th>HMI_P301_1</th>\n",
              "      <th>HMI_P301_2</th>\n",
              "      <th>HMI_P401_1</th>\n",
              "      <th>HMI_P401_2</th>\n",
              "      <th>HMI_P501_1</th>\n",
              "      <th>HMI_P501_2</th>\n",
              "      <th>HMI_P602_1</th>\n",
              "      <th>HMI_P602_2</th>\n",
              "      <th>HMI_UV401_1</th>\n",
              "      <th>HMI_UV401_2</th>\n",
              "    </tr>\n",
              "  </thead>\n",
              "  <tbody>\n",
              "    <tr>\n",
              "      <th>0</th>\n",
              "      <td>2017-06-13 04:23:00.000</td>\n",
              "      <td>9.386796</td>\n",
              "      <td>-1.033000</td>\n",
              "      <td>0.979879</td>\n",
              "      <td>-0.455748</td>\n",
              "      <td>0.965234</td>\n",
              "      <td>-1.039768</td>\n",
              "      <td>-0.891766</td>\n",
              "      <td>-1.032946</td>\n",
              "      <td>-1.363243</td>\n",
              "      <td>0.896180</td>\n",
              "      <td>1.884953</td>\n",
              "      <td>0</td>\n",
              "      <td>1</td>\n",
              "      <td>0</td>\n",
              "      <td>1</td>\n",
              "      <td>0</td>\n",
              "      <td>0</td>\n",
              "      <td>1</td>\n",
              "      <td>0</td>\n",
              "      <td>1</td>\n",
              "      <td>0</td>\n",
              "      <td>1</td>\n",
              "      <td>0</td>\n",
              "      <td>1</td>\n",
              "      <td>0</td>\n",
              "      <td>0</td>\n",
              "      <td>1</td>\n",
              "      <td>0</td>\n",
              "      <td>0</td>\n",
              "      <td>1</td>\n",
              "      <td>0</td>\n",
              "      <td>0</td>\n",
              "      <td>1</td>\n",
              "      <td>0</td>\n",
              "      <td>0</td>\n",
              "      <td>1</td>\n",
              "      <td>0</td>\n",
              "      <td>1</td>\n",
              "      <td>0</td>\n",
              "      <td>1</td>\n",
              "      <td>0</td>\n",
              "      <td>1</td>\n",
              "      <td>0</td>\n",
              "      <td>1</td>\n",
              "      <td>0</td>\n",
              "      <td>1</td>\n",
              "      <td>0</td>\n",
              "    </tr>\n",
              "    <tr>\n",
              "      <th>1</th>\n",
              "      <td>2017-06-13 04:23:37.961</td>\n",
              "      <td>9.420973</td>\n",
              "      <td>-1.042186</td>\n",
              "      <td>0.930978</td>\n",
              "      <td>-0.393594</td>\n",
              "      <td>1.027893</td>\n",
              "      <td>-1.025857</td>\n",
              "      <td>-0.933354</td>\n",
              "      <td>-1.084686</td>\n",
              "      <td>-1.350287</td>\n",
              "      <td>0.894811</td>\n",
              "      <td>1.874277</td>\n",
              "      <td>0</td>\n",
              "      <td>1</td>\n",
              "      <td>0</td>\n",
              "      <td>1</td>\n",
              "      <td>0</td>\n",
              "      <td>0</td>\n",
              "      <td>1</td>\n",
              "      <td>0</td>\n",
              "      <td>1</td>\n",
              "      <td>0</td>\n",
              "      <td>1</td>\n",
              "      <td>0</td>\n",
              "      <td>1</td>\n",
              "      <td>0</td>\n",
              "      <td>0</td>\n",
              "      <td>1</td>\n",
              "      <td>0</td>\n",
              "      <td>0</td>\n",
              "      <td>1</td>\n",
              "      <td>0</td>\n",
              "      <td>0</td>\n",
              "      <td>1</td>\n",
              "      <td>0</td>\n",
              "      <td>1</td>\n",
              "      <td>0</td>\n",
              "      <td>0</td>\n",
              "      <td>1</td>\n",
              "      <td>0</td>\n",
              "      <td>1</td>\n",
              "      <td>0</td>\n",
              "      <td>1</td>\n",
              "      <td>0</td>\n",
              "      <td>1</td>\n",
              "      <td>0</td>\n",
              "      <td>1</td>\n",
              "      <td>0</td>\n",
              "    </tr>\n",
              "    <tr>\n",
              "      <th>2</th>\n",
              "      <td>2017-06-13 04:24:15.922</td>\n",
              "      <td>8.979472</td>\n",
              "      <td>16.283727</td>\n",
              "      <td>9.997017</td>\n",
              "      <td>5.320341</td>\n",
              "      <td>-2.038042</td>\n",
              "      <td>51.136346</td>\n",
              "      <td>10.867623</td>\n",
              "      <td>3.310531</td>\n",
              "      <td>14.703730</td>\n",
              "      <td>10.837839</td>\n",
              "      <td>5.673529</td>\n",
              "      <td>0</td>\n",
              "      <td>1</td>\n",
              "      <td>0</td>\n",
              "      <td>1</td>\n",
              "      <td>0</td>\n",
              "      <td>0</td>\n",
              "      <td>1</td>\n",
              "      <td>0</td>\n",
              "      <td>1</td>\n",
              "      <td>0</td>\n",
              "      <td>1</td>\n",
              "      <td>0</td>\n",
              "      <td>1</td>\n",
              "      <td>0</td>\n",
              "      <td>0</td>\n",
              "      <td>1</td>\n",
              "      <td>0</td>\n",
              "      <td>1</td>\n",
              "      <td>0</td>\n",
              "      <td>0</td>\n",
              "      <td>0</td>\n",
              "      <td>1</td>\n",
              "      <td>0</td>\n",
              "      <td>0</td>\n",
              "      <td>0</td>\n",
              "      <td>1</td>\n",
              "      <td>0</td>\n",
              "      <td>1</td>\n",
              "      <td>0</td>\n",
              "      <td>1</td>\n",
              "      <td>1</td>\n",
              "      <td>0</td>\n",
              "      <td>1</td>\n",
              "      <td>0</td>\n",
              "      <td>0</td>\n",
              "      <td>1</td>\n",
              "    </tr>\n",
              "    <tr>\n",
              "      <th>3</th>\n",
              "      <td>2017-06-13 04:24:53.883</td>\n",
              "      <td>7.195370</td>\n",
              "      <td>7.579652</td>\n",
              "      <td>6.100799</td>\n",
              "      <td>2.021809</td>\n",
              "      <td>-1.577801</td>\n",
              "      <td>23.695636</td>\n",
              "      <td>5.434829</td>\n",
              "      <td>1.912542</td>\n",
              "      <td>6.854509</td>\n",
              "      <td>5.775119</td>\n",
              "      <td>3.859446</td>\n",
              "      <td>0</td>\n",
              "      <td>1</td>\n",
              "      <td>0</td>\n",
              "      <td>1</td>\n",
              "      <td>0</td>\n",
              "      <td>0</td>\n",
              "      <td>1</td>\n",
              "      <td>0</td>\n",
              "      <td>1</td>\n",
              "      <td>0</td>\n",
              "      <td>1</td>\n",
              "      <td>0</td>\n",
              "      <td>1</td>\n",
              "      <td>0</td>\n",
              "      <td>0</td>\n",
              "      <td>1</td>\n",
              "      <td>0</td>\n",
              "      <td>0</td>\n",
              "      <td>0</td>\n",
              "      <td>1</td>\n",
              "      <td>0</td>\n",
              "      <td>1</td>\n",
              "      <td>0</td>\n",
              "      <td>0</td>\n",
              "      <td>1</td>\n",
              "      <td>0</td>\n",
              "      <td>0</td>\n",
              "      <td>1</td>\n",
              "      <td>0</td>\n",
              "      <td>1</td>\n",
              "      <td>1</td>\n",
              "      <td>0</td>\n",
              "      <td>1</td>\n",
              "      <td>0</td>\n",
              "      <td>0</td>\n",
              "      <td>1</td>\n",
              "    </tr>\n",
              "    <tr>\n",
              "      <th>4</th>\n",
              "      <td>2017-06-13 04:25:31.844</td>\n",
              "      <td>5.375259</td>\n",
              "      <td>2.571830</td>\n",
              "      <td>3.453027</td>\n",
              "      <td>0.680791</td>\n",
              "      <td>-1.109805</td>\n",
              "      <td>6.082446</td>\n",
              "      <td>1.757742</td>\n",
              "      <td>0.771272</td>\n",
              "      <td>2.582760</td>\n",
              "      <td>1.389896</td>\n",
              "      <td>2.914838</td>\n",
              "      <td>0</td>\n",
              "      <td>1</td>\n",
              "      <td>0</td>\n",
              "      <td>1</td>\n",
              "      <td>0</td>\n",
              "      <td>0</td>\n",
              "      <td>1</td>\n",
              "      <td>0</td>\n",
              "      <td>1</td>\n",
              "      <td>0</td>\n",
              "      <td>1</td>\n",
              "      <td>0</td>\n",
              "      <td>1</td>\n",
              "      <td>0</td>\n",
              "      <td>0</td>\n",
              "      <td>1</td>\n",
              "      <td>0</td>\n",
              "      <td>0</td>\n",
              "      <td>0</td>\n",
              "      <td>1</td>\n",
              "      <td>0</td>\n",
              "      <td>1</td>\n",
              "      <td>0</td>\n",
              "      <td>0</td>\n",
              "      <td>1</td>\n",
              "      <td>0</td>\n",
              "      <td>0</td>\n",
              "      <td>1</td>\n",
              "      <td>0</td>\n",
              "      <td>1</td>\n",
              "      <td>0</td>\n",
              "      <td>1</td>\n",
              "      <td>1</td>\n",
              "      <td>0</td>\n",
              "      <td>0</td>\n",
              "      <td>1</td>\n",
              "    </tr>\n",
              "    <tr>\n",
              "      <th>...</th>\n",
              "      <td>...</td>\n",
              "      <td>...</td>\n",
              "      <td>...</td>\n",
              "      <td>...</td>\n",
              "      <td>...</td>\n",
              "      <td>...</td>\n",
              "      <td>...</td>\n",
              "      <td>...</td>\n",
              "      <td>...</td>\n",
              "      <td>...</td>\n",
              "      <td>...</td>\n",
              "      <td>...</td>\n",
              "      <td>...</td>\n",
              "      <td>...</td>\n",
              "      <td>...</td>\n",
              "      <td>...</td>\n",
              "      <td>...</td>\n",
              "      <td>...</td>\n",
              "      <td>...</td>\n",
              "      <td>...</td>\n",
              "      <td>...</td>\n",
              "      <td>...</td>\n",
              "      <td>...</td>\n",
              "      <td>...</td>\n",
              "      <td>...</td>\n",
              "      <td>...</td>\n",
              "      <td>...</td>\n",
              "      <td>...</td>\n",
              "      <td>...</td>\n",
              "      <td>...</td>\n",
              "      <td>...</td>\n",
              "      <td>...</td>\n",
              "      <td>...</td>\n",
              "      <td>...</td>\n",
              "      <td>...</td>\n",
              "      <td>...</td>\n",
              "      <td>...</td>\n",
              "      <td>...</td>\n",
              "      <td>...</td>\n",
              "      <td>...</td>\n",
              "      <td>...</td>\n",
              "      <td>...</td>\n",
              "      <td>...</td>\n",
              "      <td>...</td>\n",
              "      <td>...</td>\n",
              "      <td>...</td>\n",
              "      <td>...</td>\n",
              "      <td>...</td>\n",
              "    </tr>\n",
              "    <tr>\n",
              "      <th>13656</th>\n",
              "      <td>2017-06-19 08:37:51.876</td>\n",
              "      <td>5.753843</td>\n",
              "      <td>-3.370887</td>\n",
              "      <td>1.305389</td>\n",
              "      <td>-3.460631</td>\n",
              "      <td>0.112723</td>\n",
              "      <td>2.442851</td>\n",
              "      <td>1.439835</td>\n",
              "      <td>-0.373244</td>\n",
              "      <td>-1.874536</td>\n",
              "      <td>0.556668</td>\n",
              "      <td>0.207780</td>\n",
              "      <td>0</td>\n",
              "      <td>1</td>\n",
              "      <td>0</td>\n",
              "      <td>0</td>\n",
              "      <td>1</td>\n",
              "      <td>0</td>\n",
              "      <td>0</td>\n",
              "      <td>1</td>\n",
              "      <td>0</td>\n",
              "      <td>1</td>\n",
              "      <td>0</td>\n",
              "      <td>1</td>\n",
              "      <td>0</td>\n",
              "      <td>1</td>\n",
              "      <td>0</td>\n",
              "      <td>1</td>\n",
              "      <td>0</td>\n",
              "      <td>0</td>\n",
              "      <td>0</td>\n",
              "      <td>1</td>\n",
              "      <td>0</td>\n",
              "      <td>1</td>\n",
              "      <td>0</td>\n",
              "      <td>0</td>\n",
              "      <td>1</td>\n",
              "      <td>0</td>\n",
              "      <td>0</td>\n",
              "      <td>1</td>\n",
              "      <td>1</td>\n",
              "      <td>0</td>\n",
              "      <td>1</td>\n",
              "      <td>0</td>\n",
              "      <td>1</td>\n",
              "      <td>0</td>\n",
              "      <td>1</td>\n",
              "      <td>0</td>\n",
              "    </tr>\n",
              "    <tr>\n",
              "      <th>13657</th>\n",
              "      <td>2017-06-19 08:38:17.632</td>\n",
              "      <td>5.678489</td>\n",
              "      <td>-3.370541</td>\n",
              "      <td>1.189227</td>\n",
              "      <td>-3.595218</td>\n",
              "      <td>0.156661</td>\n",
              "      <td>2.469904</td>\n",
              "      <td>1.443566</td>\n",
              "      <td>-0.424041</td>\n",
              "      <td>-1.900526</td>\n",
              "      <td>0.570462</td>\n",
              "      <td>0.277562</td>\n",
              "      <td>0</td>\n",
              "      <td>1</td>\n",
              "      <td>0</td>\n",
              "      <td>0</td>\n",
              "      <td>1</td>\n",
              "      <td>0</td>\n",
              "      <td>0</td>\n",
              "      <td>1</td>\n",
              "      <td>0</td>\n",
              "      <td>1</td>\n",
              "      <td>0</td>\n",
              "      <td>1</td>\n",
              "      <td>0</td>\n",
              "      <td>1</td>\n",
              "      <td>0</td>\n",
              "      <td>1</td>\n",
              "      <td>0</td>\n",
              "      <td>0</td>\n",
              "      <td>0</td>\n",
              "      <td>1</td>\n",
              "      <td>0</td>\n",
              "      <td>1</td>\n",
              "      <td>0</td>\n",
              "      <td>0</td>\n",
              "      <td>1</td>\n",
              "      <td>0</td>\n",
              "      <td>0</td>\n",
              "      <td>1</td>\n",
              "      <td>1</td>\n",
              "      <td>0</td>\n",
              "      <td>1</td>\n",
              "      <td>0</td>\n",
              "      <td>1</td>\n",
              "      <td>0</td>\n",
              "      <td>1</td>\n",
              "      <td>0</td>\n",
              "    </tr>\n",
              "    <tr>\n",
              "      <th>13658</th>\n",
              "      <td>2017-06-19 08:38:43.388</td>\n",
              "      <td>5.613341</td>\n",
              "      <td>-3.367951</td>\n",
              "      <td>1.076714</td>\n",
              "      <td>-3.750402</td>\n",
              "      <td>0.208172</td>\n",
              "      <td>2.510761</td>\n",
              "      <td>1.452060</td>\n",
              "      <td>-0.483075</td>\n",
              "      <td>-1.936151</td>\n",
              "      <td>0.558578</td>\n",
              "      <td>0.356747</td>\n",
              "      <td>0</td>\n",
              "      <td>1</td>\n",
              "      <td>0</td>\n",
              "      <td>0</td>\n",
              "      <td>1</td>\n",
              "      <td>0</td>\n",
              "      <td>0</td>\n",
              "      <td>1</td>\n",
              "      <td>0</td>\n",
              "      <td>1</td>\n",
              "      <td>0</td>\n",
              "      <td>1</td>\n",
              "      <td>0</td>\n",
              "      <td>1</td>\n",
              "      <td>0</td>\n",
              "      <td>1</td>\n",
              "      <td>0</td>\n",
              "      <td>0</td>\n",
              "      <td>0</td>\n",
              "      <td>1</td>\n",
              "      <td>0</td>\n",
              "      <td>1</td>\n",
              "      <td>0</td>\n",
              "      <td>0</td>\n",
              "      <td>1</td>\n",
              "      <td>0</td>\n",
              "      <td>0</td>\n",
              "      <td>1</td>\n",
              "      <td>1</td>\n",
              "      <td>0</td>\n",
              "      <td>1</td>\n",
              "      <td>0</td>\n",
              "      <td>1</td>\n",
              "      <td>0</td>\n",
              "      <td>1</td>\n",
              "      <td>0</td>\n",
              "    </tr>\n",
              "    <tr>\n",
              "      <th>13659</th>\n",
              "      <td>2017-06-19 08:39:09.144</td>\n",
              "      <td>5.544871</td>\n",
              "      <td>-3.361610</td>\n",
              "      <td>1.013241</td>\n",
              "      <td>-3.865485</td>\n",
              "      <td>0.264902</td>\n",
              "      <td>2.537284</td>\n",
              "      <td>1.455294</td>\n",
              "      <td>-0.548593</td>\n",
              "      <td>-1.966244</td>\n",
              "      <td>0.564128</td>\n",
              "      <td>0.433232</td>\n",
              "      <td>0</td>\n",
              "      <td>1</td>\n",
              "      <td>0</td>\n",
              "      <td>0</td>\n",
              "      <td>1</td>\n",
              "      <td>0</td>\n",
              "      <td>0</td>\n",
              "      <td>1</td>\n",
              "      <td>0</td>\n",
              "      <td>1</td>\n",
              "      <td>0</td>\n",
              "      <td>1</td>\n",
              "      <td>0</td>\n",
              "      <td>1</td>\n",
              "      <td>0</td>\n",
              "      <td>1</td>\n",
              "      <td>0</td>\n",
              "      <td>0</td>\n",
              "      <td>0</td>\n",
              "      <td>1</td>\n",
              "      <td>0</td>\n",
              "      <td>1</td>\n",
              "      <td>0</td>\n",
              "      <td>0</td>\n",
              "      <td>1</td>\n",
              "      <td>0</td>\n",
              "      <td>0</td>\n",
              "      <td>1</td>\n",
              "      <td>1</td>\n",
              "      <td>0</td>\n",
              "      <td>1</td>\n",
              "      <td>0</td>\n",
              "      <td>1</td>\n",
              "      <td>0</td>\n",
              "      <td>1</td>\n",
              "      <td>0</td>\n",
              "    </tr>\n",
              "    <tr>\n",
              "      <th>13660</th>\n",
              "      <td>2017-06-19 08:39:34.900</td>\n",
              "      <td>5.490350</td>\n",
              "      <td>-3.363971</td>\n",
              "      <td>0.950479</td>\n",
              "      <td>-3.969429</td>\n",
              "      <td>0.315400</td>\n",
              "      <td>2.559318</td>\n",
              "      <td>1.456399</td>\n",
              "      <td>-0.606016</td>\n",
              "      <td>-1.980229</td>\n",
              "      <td>0.570645</td>\n",
              "      <td>0.522144</td>\n",
              "      <td>0</td>\n",
              "      <td>1</td>\n",
              "      <td>0</td>\n",
              "      <td>0</td>\n",
              "      <td>1</td>\n",
              "      <td>0</td>\n",
              "      <td>0</td>\n",
              "      <td>1</td>\n",
              "      <td>0</td>\n",
              "      <td>1</td>\n",
              "      <td>0</td>\n",
              "      <td>1</td>\n",
              "      <td>0</td>\n",
              "      <td>1</td>\n",
              "      <td>0</td>\n",
              "      <td>1</td>\n",
              "      <td>0</td>\n",
              "      <td>0</td>\n",
              "      <td>0</td>\n",
              "      <td>1</td>\n",
              "      <td>0</td>\n",
              "      <td>1</td>\n",
              "      <td>0</td>\n",
              "      <td>0</td>\n",
              "      <td>1</td>\n",
              "      <td>0</td>\n",
              "      <td>0</td>\n",
              "      <td>1</td>\n",
              "      <td>1</td>\n",
              "      <td>0</td>\n",
              "      <td>1</td>\n",
              "      <td>0</td>\n",
              "      <td>1</td>\n",
              "      <td>0</td>\n",
              "      <td>1</td>\n",
              "      <td>0</td>\n",
              "    </tr>\n",
              "  </tbody>\n",
              "</table>\n",
              "<p>13661 rows × 48 columns</p>\n",
              "</div>"
            ],
            "text/plain": [
              "                         Time        P1  ...  HMI_UV401_1  HMI_UV401_2\n",
              "0     2017-06-13 04:23:00.000  9.386796  ...            1            0\n",
              "1     2017-06-13 04:23:37.961  9.420973  ...            1            0\n",
              "2     2017-06-13 04:24:15.922  8.979472  ...            0            1\n",
              "3     2017-06-13 04:24:53.883  7.195370  ...            0            1\n",
              "4     2017-06-13 04:25:31.844  5.375259  ...            0            1\n",
              "...                       ...       ...  ...          ...          ...\n",
              "13656 2017-06-19 08:37:51.876  5.753843  ...            1            0\n",
              "13657 2017-06-19 08:38:17.632  5.678489  ...            1            0\n",
              "13658 2017-06-19 08:38:43.388  5.613341  ...            1            0\n",
              "13659 2017-06-19 08:39:09.144  5.544871  ...            1            0\n",
              "13660 2017-06-19 08:39:34.900  5.490350  ...            1            0\n",
              "\n",
              "[13661 rows x 48 columns]"
            ]
          },
          "metadata": {},
          "execution_count": 147
        }
      ]
    },
    {
      "cell_type": "markdown",
      "metadata": {
        "id": "GKRj9J8vg7Vb"
      },
      "source": [
        "## Install modules"
      ]
    },
    {
      "cell_type": "code",
      "metadata": {
        "colab": {
          "base_uri": "https://localhost:8080/"
        },
        "id": "W2upk7q2hzih",
        "outputId": "3a5b251d-a773-448b-9a9f-c97ce9fda0aa"
      },
      "source": [
        "!pip install kafka-python"
      ],
      "execution_count": null,
      "outputs": [
        {
          "output_type": "stream",
          "name": "stdout",
          "text": [
            "Collecting kafka-python\n",
            "  Downloading kafka_python-2.0.2-py2.py3-none-any.whl (246 kB)\n",
            "\u001b[?25l\r\u001b[K     |█▎                              | 10 kB 23.7 MB/s eta 0:00:01\r\u001b[K     |██▋                             | 20 kB 29.5 MB/s eta 0:00:01\r\u001b[K     |████                            | 30 kB 11.9 MB/s eta 0:00:01\r\u001b[K     |█████▎                          | 40 kB 8.6 MB/s eta 0:00:01\r\u001b[K     |██████▋                         | 51 kB 4.9 MB/s eta 0:00:01\r\u001b[K     |████████                        | 61 kB 5.3 MB/s eta 0:00:01\r\u001b[K     |█████████▎                      | 71 kB 5.3 MB/s eta 0:00:01\r\u001b[K     |██████████▋                     | 81 kB 6.0 MB/s eta 0:00:01\r\u001b[K     |████████████                    | 92 kB 4.6 MB/s eta 0:00:01\r\u001b[K     |█████████████▎                  | 102 kB 4.9 MB/s eta 0:00:01\r\u001b[K     |██████████████▋                 | 112 kB 4.9 MB/s eta 0:00:01\r\u001b[K     |████████████████                | 122 kB 4.9 MB/s eta 0:00:01\r\u001b[K     |█████████████████▎              | 133 kB 4.9 MB/s eta 0:00:01\r\u001b[K     |██████████████████▋             | 143 kB 4.9 MB/s eta 0:00:01\r\u001b[K     |████████████████████            | 153 kB 4.9 MB/s eta 0:00:01\r\u001b[K     |█████████████████████▎          | 163 kB 4.9 MB/s eta 0:00:01\r\u001b[K     |██████████████████████▋         | 174 kB 4.9 MB/s eta 0:00:01\r\u001b[K     |████████████████████████        | 184 kB 4.9 MB/s eta 0:00:01\r\u001b[K     |█████████████████████████▎      | 194 kB 4.9 MB/s eta 0:00:01\r\u001b[K     |██████████████████████████▋     | 204 kB 4.9 MB/s eta 0:00:01\r\u001b[K     |████████████████████████████    | 215 kB 4.9 MB/s eta 0:00:01\r\u001b[K     |█████████████████████████████▎  | 225 kB 4.9 MB/s eta 0:00:01\r\u001b[K     |██████████████████████████████▋ | 235 kB 4.9 MB/s eta 0:00:01\r\u001b[K     |████████████████████████████████| 245 kB 4.9 MB/s eta 0:00:01\r\u001b[K     |████████████████████████████████| 246 kB 4.9 MB/s \n",
            "\u001b[?25hInstalling collected packages: kafka-python\n",
            "Successfully installed kafka-python-2.0.2\n"
          ]
        }
      ]
    },
    {
      "cell_type": "markdown",
      "metadata": {
        "id": "NGXQlvjS0Cia"
      },
      "source": [
        "## Split the data"
      ]
    },
    {
      "cell_type": "code",
      "metadata": {
        "colab": {
          "base_uri": "https://localhost:8080/"
        },
        "id": "AVcVBP2lh5pU",
        "outputId": "afd5236d-6b11-4ed8-e52f-8c2efc1b57cf"
      },
      "source": [
        "data_processed = principal_components\n",
        "\n",
        "i = round(len(data_processed)*.9)\n",
        "train = data_processed[0:i] # 90% of the data\n",
        "test = data_processed[i+1:len(data_processed)] # 10% of the data\n",
        "print(len(train), len(test))"
      ],
      "execution_count": null,
      "outputs": [
        {
          "output_type": "stream",
          "name": "stdout",
          "text": [
            "12295 1365\n"
          ]
        }
      ]
    },
    {
      "cell_type": "code",
      "metadata": {
        "id": "f74bMcmkiKif"
      },
      "source": [
        "train.to_csv(f\"{ROOT_PATH}/SWaT_A3/SWaT_train.csv\", sep = ',', encoding = 'utf-8', index = False)\n",
        "test.to_csv(f\"{ROOT_PATH}/SWaT_A3/SWaT_test.csv\", sep = ',', encoding = 'utf-8', index = False)"
      ],
      "execution_count": null,
      "outputs": []
    },
    {
      "cell_type": "markdown",
      "metadata": {
        "id": "6BG49anlkjie"
      },
      "source": [
        "# Clustering model"
      ]
    },
    {
      "cell_type": "markdown",
      "metadata": {
        "id": "XwRIPuBq5KH1"
      },
      "source": [
        "## KMeans"
      ]
    },
    {
      "cell_type": "code",
      "metadata": {
        "id": "HLBUmuRWlTjf"
      },
      "source": [
        "from sklearn.cluster import KMeans\n",
        "\n",
        "def KMeansC( data, n_clusters ):\n",
        "  kmeans = KMeans( n_clusters = n_clusters )\n",
        "  kmeans.fit( data )\n",
        "  return kmeans"
      ],
      "execution_count": null,
      "outputs": []
    },
    {
      "cell_type": "code",
      "metadata": {
        "colab": {
          "base_uri": "https://localhost:8080/",
          "height": 320
        },
        "id": "mU1MmfXA5gv5",
        "outputId": "e25ee1bf-6e1b-4489-ecbd-0cb476da7802"
      },
      "source": [
        "error_rates = []\n",
        "\n",
        "# Find out the right clusters number\n",
        "for N in range(1, 20):\n",
        "    kmeans = KMeansC(data = train, n_clusters = N)\n",
        "    error_rates.append(kmeans.inertia_)\n",
        "\n",
        "# Display elbow curve\n",
        "fig = plt.figure(figsize=(5,5))\n",
        "ax = fig.add_subplot(1, 1, 1)\n",
        "ax.plot(list(range(1, 20)), error_rates)\n",
        "plt.show()"
      ],
      "execution_count": null,
      "outputs": [
        {
          "output_type": "display_data",
          "data": {
            "image/png": "[encoded data removed]",
            "text/plain": [
              "<Figure size 360x360 with 1 Axes>"
            ]
          },
          "metadata": {
            "needs_background": "light"
          }
        }
      ]
    },
    {
      "cell_type": "code",
      "metadata": {
        "colab": {
          "base_uri": "https://localhost:8080/"
        },
        "id": "ORiS7A-p52uC",
        "outputId": "83cc52e0-1584-4de9-c7d1-3483760d6aac"
      },
      "source": [
        "from sklearn.metrics import silhouette_score\n",
        "\n",
        "# Calculating the Silhouette Score for KMeans\n",
        "NUM_CLUSTERS = 2\n",
        "kmeans = KMeansC(data = train, n_clusters = NUM_CLUSTERS)\n",
        "silhouette_score( train, kmeans.labels_) # apprx. .337 for N=3"
      ],
      "execution_count": null,
      "outputs": [
        {
          "output_type": "execute_result",
          "data": {
            "text/plain": [
              "0.6151395777538384"
            ]
          },
          "metadata": {},
          "execution_count": 88
        }
      ]
    },
    {
      "cell_type": "code",
      "metadata": {
        "colab": {
          "base_uri": "https://localhost:8080/"
        },
        "id": "cE_tQIUvWKWa",
        "outputId": "d241492c-3985-447d-84fa-6aafe23dbab1"
      },
      "source": [
        "test = test.reset_index(drop=True) # Start indexing from 0\n",
        "preds = kmeans.predict(test) # Index starts from 0\n",
        "\n",
        "X, Y = [], []\n",
        "VISUALIZE_COL = 'P1'\n",
        "\n",
        "print('> Anomalies')\n",
        "for i in list(np.where(preds == 1)[0]):\n",
        "  print(f'  >> Index: {i}')\n",
        "  print(np.asarray(test.loc[i,:]))\n",
        "  X.append(np.array(test[VISUALIZE_COL])[i])\n",
        "  Y.append(i)"
      ],
      "execution_count": null,
      "outputs": [
        {
          "output_type": "stream",
          "name": "stdout",
          "text": [
            "> Anomalies\n",
            "  >> Index: 1359\n",
            "[ 6.77194204  4.54684502 -1.82212681 -3.83004457  0.78347657 -1.1387734\n",
            " -0.75917633  0.08125415  2.87387773  0.99264751  0.35540808  0.93377606\n",
            "  0.54918224 -0.85528204]\n",
            "  >> Index: 1360\n",
            "[ 6.70093777  4.54732883 -1.80904991 -3.81257583  0.73900724 -1.30555884\n",
            " -0.85075347  0.11715043  2.98198874  0.95913727  0.34985674  1.00936429\n",
            "  0.48470326 -0.82914348]\n",
            "  >> Index: 1361\n",
            "[ 6.6374031   4.54669674 -1.79065675 -3.81603707  0.69965388 -1.44560622\n",
            " -0.92617163  0.14947034  3.06629404  0.91950787  0.34973683  1.0834536\n",
            "  0.45741229 -0.81363468]\n",
            "  >> Index: 1362\n",
            "[ 6.58233439  4.55557223 -1.77673447 -3.81762947  0.65895499 -1.59102637\n",
            " -1.00935062  0.1858395   3.16991806  0.88056487  0.34723856  1.15948537\n",
            "  0.40143831 -0.79285683]\n",
            "  >> Index: 1363\n",
            "[ 6.52383408  4.56935235 -1.76399776 -3.81343346  0.62643448 -1.68410452\n",
            " -1.0649629   0.2206195   3.25032212  0.83812176  0.34305298  1.24809598\n",
            "  0.35696662 -0.77273689]\n",
            "  >> Index: 1364\n",
            "[ 6.4774362   4.57978466 -1.75075088 -3.81753738  0.59596252 -1.7711713\n",
            " -1.11811558  0.2501761   3.31660649  0.80382076  0.33791933  1.3400097\n",
            "  0.3090099  -0.74976257]\n"
          ]
        }
      ]
    },
    {
      "cell_type": "code",
      "metadata": {
        "colab": {
          "base_uri": "https://localhost:8080/",
          "height": 282
        },
        "id": "8Irnujakm4KF",
        "outputId": "82ab98df-8484-412a-da7f-cc220b7acb19"
      },
      "source": [
        "plt.plot(test[VISUALIZE_COL], 'k-')\n",
        "plt.plot(Y, X, 'r*', markersize=8)"
      ],
      "execution_count": null,
      "outputs": [
        {
          "output_type": "execute_result",
          "data": {
            "text/plain": [
              "[<matplotlib.lines.Line2D at 0x7f2b38b79050>]"
            ]
          },
          "metadata": {},
          "execution_count": 242
        },
        {
          "output_type": "display_data",
          "data": {
            "image/png": "[encoded data removed]",
            "text/plain": [
              "<Figure size 432x288 with 1 Axes>"
            ]
          },
          "metadata": {
            "needs_background": "light"
          }
        }
      ]
    },
    {
      "cell_type": "markdown",
      "metadata": {
        "id": "uQoliWsk5LqH"
      },
      "source": [
        "## DB Scan"
      ]
    },
    {
      "cell_type": "code",
      "metadata": {
        "colab": {
          "base_uri": "https://localhost:8080/"
        },
        "id": "lhFWUhay5QVW",
        "outputId": "ab021fbe-861b-4a07-f238-7c7e3dfb0ab3"
      },
      "source": [
        "from sklearn.cluster import DBSCAN\n",
        "from sklearn.metrics import silhouette_score\n",
        "\n",
        "def DBScan( data ):\n",
        "  epsilons = [0.25, 0.5, 1, 1.5]\n",
        "  min_samples = [10, 20, 30, 40]\n",
        "  scores = []\n",
        "\n",
        "  for (e, ms) in zip(epsilons, min_samples):\n",
        "    dbscan = DBSCAN(min_samples = ms, eps = e)\n",
        "    dbscan.fit( data )\n",
        "    scores.append(silhouette_score( data, dbscan.labels_ ))\n",
        "\n",
        "  return max(scores), epsilons[scores.index(max(scores))], min_samples[scores.index(max(scores))], dbscan.labels_\n",
        "\n",
        "# Apply on dataset\n",
        "max_score_db, eps_db, ms_db, labels_db = DBScan( train.loc[:, train.columns != 'Time'] )\n",
        "print(\"|#| The best score was: %.3f\"%max_score_db + \" was achieved by eps: %.3f\"%eps_db + \" and min_samples: %d\"%ms_db)"
      ],
      "execution_count": null,
      "outputs": [
        {
          "output_type": "stream",
          "name": "stdout",
          "text": [
            "|#| The best score was: 0.236 was achieved by eps: 1.500 and min_samples: 40\n"
          ]
        }
      ]
    },
    {
      "cell_type": "code",
      "metadata": {
        "colab": {
          "base_uri": "https://localhost:8080/"
        },
        "id": "BGEsNwtpcf29",
        "outputId": "5416ae24-a2b1-4525-96da-1b4168b4b7f8"
      },
      "source": [
        "# Create an instance of the model with the tuned hyper parameters\n",
        "dbscan = DBSCAN(min_samples = 40, eps = 1.5)\n",
        "dbscan.fit( test )"
      ],
      "execution_count": null,
      "outputs": [
        {
          "output_type": "execute_result",
          "data": {
            "text/plain": [
              "DBSCAN(eps=1.5, min_samples=40)"
            ]
          },
          "metadata": {},
          "execution_count": 248
        }
      ]
    },
    {
      "cell_type": "code",
      "metadata": {
        "id": "kR8_HGFcrkRq"
      },
      "source": [
        "X_db, Y_db = [], []\n",
        "VISUALIZE_COL = 'P6'\n",
        "\n",
        "for i in np.where(dbscan.labels_ == -1)[0]:\n",
        "  X_db.append(np.array(test[VISUALIZE_COL])[i])\n",
        "  Y_db.append(test[VISUALIZE_COL].index[i])"
      ],
      "execution_count": null,
      "outputs": []
    },
    {
      "cell_type": "code",
      "metadata": {
        "colab": {
          "base_uri": "https://localhost:8080/",
          "height": 282
        },
        "id": "3fhM9W3dsM00",
        "outputId": "179870b2-41d7-4d94-bd79-a4ef5959ce18"
      },
      "source": [
        "plt.plot(test[VISUALIZE_COL], 'k-')\n",
        "plt.plot(Y_db, X_db, 'r*', markersize=8)"
      ],
      "execution_count": null,
      "outputs": [
        {
          "output_type": "execute_result",
          "data": {
            "text/plain": [
              "[<matplotlib.lines.Line2D at 0x7f2b38aa2410>]"
            ]
          },
          "metadata": {},
          "execution_count": 257
        },
        {
          "output_type": "display_data",
          "data": {
            "image/png": "[encoded data removed]",
            "text/plain": [
              "<Figure size 432x288 with 1 Axes>"
            ]
          },
          "metadata": {
            "needs_background": "light"
          }
        }
      ]
    },
    {
      "cell_type": "markdown",
      "metadata": {
        "id": "mA8TjGAJ-Hbl"
      },
      "source": [
        "## Isolation forest"
      ]
    },
    {
      "cell_type": "code",
      "metadata": {
        "id": "OfaPpYXD-Jan",
        "colab": {
          "base_uri": "https://localhost:8080/"
        },
        "outputId": "843365d8-ce8e-4ccb-adc2-fe3d66abf4d4"
      },
      "source": [
        "from sklearn.ensemble import IsolationForest\n",
        "from joblib import dump\n",
        "\n",
        "def IsolationForestC(data, n_estimators, max_samples, contamination):\n",
        "  model = IsolationForest(\n",
        "      n_estimators = n_estimators, \n",
        "      max_samples = max_samples, \n",
        "      contamination = contamination,\n",
        "      random_state = np.random.RandomState(42)\n",
        "  )\n",
        "  model.fit(data)\n",
        "  return model\n",
        "\n",
        "clf = IsolationForestC(\n",
        "    train, \n",
        "    n_estimators=50, \n",
        "    max_samples=500, \n",
        "    contamination=0.01\n",
        ")\n",
        "\n",
        "# Save model\n",
        "dump(clf, './isolation_forest.joblib')"
      ],
      "execution_count": null,
      "outputs": [
        {
          "output_type": "stream",
          "name": "stderr",
          "text": [
            "/usr/local/lib/python3.7/dist-packages/sklearn/base.py:446: UserWarning: X does not have valid feature names, but IsolationForest was fitted with feature names\n",
            "  \"X does not have valid feature names, but\"\n"
          ]
        }
      ]
    },
    {
      "cell_type": "code",
      "metadata": {
        "id": "u2Z4qKDnfQ_e"
      },
      "source": [
        "scores = []\n",
        "preds = []\n",
        "\n",
        "for i, row in test.iterrows():\n",
        "  pred = clf.predict(np.asarray(row).reshape(1, -1))\n",
        "  preds.append(pred[0])\n",
        "  if pred == -1:\n",
        "    score = clf.score_samples(np.asarray(row).reshape(1, -1))\n",
        "    scores.append(np.round(score, 3).tolist())"
      ],
      "execution_count": null,
      "outputs": []
    },
    {
      "cell_type": "code",
      "metadata": {
        "id": "wErYqWKmhb9C"
      },
      "source": [
        "X_iso, Y_iso = [], []\n",
        "VISUALIZE_COL = 'P1'\n",
        "\n",
        "for i in preds:\n",
        "  if i == -1:\n",
        "    X_iso.append(np.array(test[VISUALIZE_COL])[i])\n",
        "    Y_iso.append(test[VISUALIZE_COL].index[i])"
      ],
      "execution_count": null,
      "outputs": []
    },
    {
      "cell_type": "code",
      "metadata": {
        "colab": {
          "base_uri": "https://localhost:8080/",
          "height": 282
        },
        "id": "Bgo1xevovbU4",
        "outputId": "5633d06b-91c8-466c-c330-7585ec5fce2a"
      },
      "source": [
        "plt.plot(test[VISUALIZE_COL], 'k-')\n",
        "plt.plot(Y_iso, X_iso, 'r*', markersize=8)"
      ],
      "execution_count": null,
      "outputs": [
        {
          "output_type": "execute_result",
          "data": {
            "text/plain": [
              "[<matplotlib.lines.Line2D at 0x7f2b38f5f410>]"
            ]
          },
          "metadata": {},
          "execution_count": 297
        },
        {
          "output_type": "display_data",
          "data": {
            "image/png": "[encoded data removed]",
            "text/plain": [
              "<Figure size 432x288 with 1 Axes>"
            ]
          },
          "metadata": {
            "needs_background": "light"
          }
        }
      ]
    },
    {
      "cell_type": "code",
      "metadata": {
        "id": "c0HqacSOwdp5"
      },
      "source": [
        ""
      ],
      "execution_count": null,
      "outputs": []
    }
  ]
}